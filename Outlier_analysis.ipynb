{
 "cells": [
  {
   "cell_type": "code",
   "execution_count": null,
   "id": "1fcd6475",
   "metadata": {},
   "outputs": [],
   "source": [
    "#Renaming the last column in each dataset to 'Budgeted Amount'"
   ]
  },
  {
   "cell_type": "code",
   "execution_count": null,
   "id": "b068452e",
   "metadata": {},
   "outputs": [],
   "source": [
    "new_df = [] #Empty list to store the renamed dataframe\n",
    "for i, df in enumerate(df_list):\n",
    "    year = 2019 + i \n",
    "    old_column_name = f'Budgeted amount {year}' #Old column name\n",
    "    modified_df = df.copy() #Create a copy of the DataFrame and rename the column\n",
    "    modified_df.rename(columns={old_column_name: 'Budgeted amount'}, inplace=True)\n",
    "    new_df.append(modified_df)  # Append the modified DataFrame to new_df\n",
    "\n",
    "# Concatenate the DataFrames in the list into a single DataFrame\n",
    "renamed_df = pd.concat(new_df, ignore_index=True)\n",
    "renamed_df.loc[:,'Budgeted amount'] = pd.to_numeric(modified_df['Budgeted amount'], errors='coerce') #Changing data to numeric for calculations"
   ]
  },
  {
   "cell_type": "code",
   "execution_count": null,
   "id": "78b76762",
   "metadata": {},
   "outputs": [],
   "source": [
    "renamed_expenses = renamed_df[renamed_df['Expense/Revenue']=='Expenses'] #Filtering dataframe for expenses\n",
    "renamed_expenses"
   ]
  },
  {
   "cell_type": "code",
   "execution_count": null,
   "id": "c6b93bc2",
   "metadata": {},
   "outputs": [],
   "source": [
    "#Outliers for expenses\n",
    "all_outliers_exp = pd.DataFrame() #Creating an empty dataframe to store the outliers\n",
    "lower_quartiles_exp = renamed_expenses.groupby('Category Name')['Budgeted amount'].transform(lambda x: x.quantile(0.25)) #Calculating the lower quantile\n",
    "upper_quartiles_exp = renamed_expenses.groupby('Category Name')['Budgeted amount'].transform(lambda x: x.quantile(0.75)) #Calculating the upper quantile\n",
    "iqr_exp = upper_quartiles_exp - lower_quartiles_exp #Calculating the interquantile range\n",
    "lower_bound_exp = lower_quartiles_exp - 1.5 * iqr_exp #Calculating the lower bound by using the values from the lower quantiles to find the minimum threshold\n",
    "upper_bound_exp = upper_quartiles_exp + 1.5 * iqr_exp  #Calculating the lower bound by using the values from the lower quantiles to find the minimum threshold\n",
    "outliers_exp = renamed_expenses[(renamed_expenses['Budgeted amount'] < lower_bound_exp) | (renamed_expenses['Budgeted amount'] > upper_bound_exp)] #Identifing and filtering outliers in the 'Budgeted amount' column based on the calculated lower and upper bounds for expenses.\n",
    "all_outliers_exp = pd.concat([all_outliers_exp, outliers_exp], ignore_index=True) #Combining identified outliers from each dataframe and create a final dataframe\n",
    "# Display the result\n",
    "all_outliers_exp.sort_values('Budgeted amount', ascending=False)"
   ]
  },
  {
   "cell_type": "code",
   "execution_count": null,
   "id": "9b41562c",
   "metadata": {},
   "outputs": [],
   "source": [
    "renamed_revenues = renamed_df[renamed_df['Expense/Revenue']=='Revenues'] #Filtering dataframe for revenues\n",
    "renamed_revenues"
   ]
  },
  {
   "cell_type": "code",
   "execution_count": null,
   "id": "027a29a8",
   "metadata": {},
   "outputs": [],
   "source": [
    "#Outliers for revenues\n",
    "all_outliers_rev = pd.DataFrame()\n",
    "renamed_revenues.loc[:,'Budgeted amount'] = pd.to_numeric(renamed_revenues['Budgeted amount'], errors='coerce')\n",
    "lower_quartiles_rev = renamed_revenues.groupby('Category Name')['Budgeted amount'].transform(lambda x: x.quantile(0.25))\n",
    "upper_quartiles_rev = renamed_revenues.groupby('Category Name')['Budgeted amount'].transform(lambda x: x.quantile(0.75))\n",
    "iqr_rev = upper_quartiles_rev - lower_quartiles_rev\n",
    "lower_bound_rev = lower_quartiles_rev - 1.5 * iqr_rev\n",
    "upper_bound_rev = upper_quartiles_rev + 1.5 * iqr_rev\n",
    "outliers_rev = renamed_revenues[(renamed_revenues['Budgeted amount'] < lower_bound_rev) | (renamed_revenues['Budgeted amount'] > upper_bound_rev)]\n",
    "all_outliers_rev = pd.concat([all_outliers_rev, outliers_rev], ignore_index=True)\n",
    "all_outliers_rev.sort_values('Budgeted amount', ascending=False)"
   ]
  },
  {
   "cell_type": "code",
   "execution_count": null,
   "id": "dcfdede6",
   "metadata": {},
   "outputs": [],
   "source": [
    "plt.figure(figsize=(10, 6))  #Setting the figure size\n",
    "# Creating a box plot\n",
    "plt.boxplot([all_outliers_exp[all_outliers_exp['Category Name'] == category]['Budgeted amount'] for category in all_outliers_exp['Category Name'].unique()])\n",
    "plt.title('Outliers of Expenses Across Categories') # Setting plot title and labels\n",
    "plt.xlabel('Category Name')\n",
    "plt.ylabel('Reported Amount')\n",
    "#Set x-axis ticks with labels for each unique category in the dataframe, rotated by 90 degrees.\n",
    "plt.xticks(range(1, len(all_outliers_exp['Category Name'].unique()) + 1), all_outliers_exp['Category Name'].unique(), rotation=90)\n",
    "plt.show()"
   ]
  },
  {
   "cell_type": "code",
   "execution_count": null,
   "id": "eee8083e",
   "metadata": {},
   "outputs": [],
   "source": [
    "plt.figure(figsize=(10, 6)) #Setting the figure size\n",
    "# Creating a box plot\n",
    "plt.boxplot([all_outliers_rev[all_outliers_rev['Category Name'] == category_rev]['Budgeted amount'] for category_rev in all_outliers_rev['Category Name'].unique()])\n",
    "plt.title('Outliers of Revenue Across Categories') # Setting plot title and labels\n",
    "plt.xlabel('Category Name')\n",
    "plt.ylabel('Reported Amount')\n",
    "#Set x-axis ticks with labels for each unique category in the dataframe, rotated by 90 degrees.\n",
    "plt.xticks(range(1, len(all_outliers_rev['Category Name'].unique()) + 1), all_outliers_rev['Category Name'].unique(), rotation=90)\n",
    "plt.show()"
   ]
  },
  {
   "cell_type": "code",
   "execution_count": null,
   "id": "524ed50b",
   "metadata": {},
   "outputs": [],
   "source": [
    "renamed_expenses['Program'].unique()"
   ]
  },
  {
   "cell_type": "code",
   "execution_count": null,
   "id": "3e59b2c2",
   "metadata": {},
   "outputs": [],
   "source": [
    "s_array = program_expenditure_df['Budgeted amount'].to_numpy()\n",
    "sorted_array = np.sort(s_array)\n",
    "print(sorted_array)"
   ]
  }
 ],
 "metadata": {
  "kernelspec": {
   "display_name": "Python 3 (ipykernel)",
   "language": "python",
   "name": "python3"
  },
  "language_info": {
   "codemirror_mode": {
    "name": "ipython",
    "version": 3
   },
   "file_extension": ".py",
   "mimetype": "text/x-python",
   "name": "python",
   "nbconvert_exporter": "python",
   "pygments_lexer": "ipython3",
   "version": "3.9.13"
  }
 },
 "nbformat": 4,
 "nbformat_minor": 5
}
