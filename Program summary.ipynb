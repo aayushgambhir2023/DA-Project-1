{
 "cells": [
  {
   "cell_type": "code",
   "execution_count": 19,
   "id": "7c45805b",
   "metadata": {},
   "outputs": [
    {
     "name": "stdout",
     "output_type": "stream",
     "text": [
      "Lowest Expense Program: Integrity Commissioner's Office with an expense of 759596.32\n",
      "Highest Expense Program: Toronto Transit Commission - Conventional with an expense of 2237543963.48\n"
     ]
    }
   ],
   "source": [
    "import pandas as pd\n",
    "\n",
    "# Loading the dataset\n",
    "file_path = 'Resources/approved-operating-budget-summary-2023.xlsx'\n",
    "budget_data = pd.read_excel(file_path, 'Open Data')  \n",
    "\n",
    "# Filtering only expenses\n",
    "expenses_data = budget_data[budget_data['Expense/Revenue'] == 'Expenses']\n",
    "\n",
    "# Grouping by Program and summing up the expenses\n",
    "total_expenses_by_program = expenses_data.groupby('Program')[2023].sum().sort_values()\n",
    "\n",
    "# Identifying the programs with the highest and lowest expenses\n",
    "lowest_expense_program = total_expenses_by_program.idxmin()\n",
    "highest_expense_program = total_expenses_by_program.idxmax()\n",
    "lowest_expense_amount = total_expenses_by_program.min()\n",
    "highest_expense_amount = total_expenses_by_program.max()\n",
    "\n",
    "print(\"Lowest Expense Program:\", lowest_expense_program, \"with an expense of\", lowest_expense_amount)\n",
    "print(\"Highest Expense Program:\", highest_expense_program, \"with an expense of\", highest_expense_amount)\n"
   ]
  },
  {
   "cell_type": "code",
   "execution_count": 5,
   "id": "9f613dec",
   "metadata": {},
   "outputs": [],
   "source": [
    "###Lowest Program expenditure over 5 years"
   ]
  },
  {
   "cell_type": "code",
   "execution_count": 8,
   "id": "a7c76e99",
   "metadata": {},
   "outputs": [
    {
     "name": "stdout",
     "output_type": "stream",
     "text": [
      "2019 - Lowest Expense Program: Integrity Commissioner's Office with an expense of 575725.34\n",
      "2020 - Lowest Expense Program: Integrity Commissioner's Office with an expense of 762406.78\n",
      "2021 - Lowest Expense Program: Integrity Commissioner's Office with an expense of 741313.24\n",
      "2022 - Lowest Expense Program: Integrity Commissioner's Office with an expense of 761587.2\n",
      "2023 - Lowest Expense Program: Integrity Commissioner's Office with an expense of 759596.32\n",
      "2019 - Highest Expense Program: Toronto Transit Commission - Conventional with an expense of 1910540399.22\n",
      "2020 - Highest Expense Program: Toronto Transit Commission - Conventional with an expense of 1987170798.92\n",
      "2021 - Highest Expense Program: Toronto Transit Commission - Conventional with an expense of 2034438000.0\n",
      "2022 - Highest Expense Program: Toronto Transit Commission - Conventional with an expense of 2096541463.5900002\n",
      "2023 - Highest Expense Program: Toronto Transit Commission - Conventional with an expense of 2237543963.48\n"
     ]
    }
   ],
   "source": [
    "import pandas as pd\n",
    "\n",
    "# Initialize lists to store results\n",
    "lowest_expense_programs = []\n",
    "highest_expense_programs = []\n",
    "\n",
    "# Iterate over the files for each year\n",
    "for year in range(2019, 2024):\n",
    "    file_path = f'Resources/approved-operating-budget-summary-{year}.xlsx'\n",
    "    budget_data = pd.read_excel(file_path, 'Open Data')  # Replace 'Open Data' with the correct sheet name if different\n",
    "\n",
    "    # Filtering only expenses\n",
    "    expenses_data = budget_data[budget_data['Expense/Revenue'] == 'Expenses']\n",
    "\n",
    "    # Grouping by Program and summing up the expenses\n",
    "    total_expenses_by_program = expenses_data.groupby('Program')[year].sum().sort_values()\n",
    "\n",
    "    # Identifying the programs with the highest and lowest expenses\n",
    "    lowest_expense_program = total_expenses_by_program.idxmin()\n",
    "    highest_expense_program = total_expenses_by_program.idxmax()\n",
    "    lowest_expense_amount = total_expenses_by_program.min()\n",
    "    highest_expense_amount = total_expenses_by_program.max()\n",
    "\n",
    "    # Append results to the lists\n",
    "    lowest_expense_programs.append((year, lowest_expense_program, lowest_expense_amount))\n",
    "    highest_expense_programs.append((year, highest_expense_program, highest_expense_amount))\n",
    "\n",
    "# Print results\n",
    "for year, program, amount in lowest_expense_programs:\n",
    "    print(f\"{year} - Lowest Expense Program: {program} with an expense of {amount}\")\n",
    "\n",
    "for year, program, amount in highest_expense_programs:\n",
    "    print(f\"{year} - Highest Expense Program: {program} with an expense of {amount}\")\n"
   ]
  },
  {
   "cell_type": "code",
   "execution_count": 20,
   "id": "574bfc76",
   "metadata": {},
   "outputs": [
    {
     "name": "stdout",
     "output_type": "stream",
     "text": [
      "Overall Lowest Expense Program: Integrity Commissioner's Office with an expense of 575725.34\n",
      "Overall Highest Expense Program: Toronto Transit Commission - Conventional with an expense of 2237543963.48\n"
     ]
    }
   ],
   "source": [
    "import pandas as pd\n",
    "\n",
    "# Initialize variables to store the lowest and highest expense program details\n",
    "lowest_expense_program, lowest_expense_amount = None, float('inf')\n",
    "highest_expense_program, highest_expense_amount = None, -float('inf')\n",
    "\n",
    "# Iterate over the files for each year\n",
    "for year in range(2019, 2024):\n",
    "    file_path = f'Resources/approved-operating-budget-summary-{year}.xlsx'\n",
    "    budget_data = pd.read_excel(file_path, 'Open Data')\n",
    "\n",
    "    # Filtering only expenses\n",
    "    expenses_data = budget_data[budget_data['Expense/Revenue'] == 'Expenses']\n",
    "\n",
    "    # Grouping by Program and summing up the expenses\n",
    "    total_expenses_by_program = expenses_data.groupby('Program')[float(year)].sum()\n",
    "\n",
    "    # Update the accumulated expenses and check for lowest/highest\n",
    "    for program, expense in total_expenses_by_program.items():\n",
    "        # Update lowest expense program\n",
    "        if expense < lowest_expense_amount:\n",
    "            lowest_expense_program, lowest_expense_amount = program, expense\n",
    "\n",
    "        # Update highest expense program\n",
    "        if expense > highest_expense_amount:\n",
    "            highest_expense_program, highest_expense_amount = program, expense\n",
    "\n",
    "# Print results\n",
    "print(\"Overall Lowest Expense Program:\", lowest_expense_program, \"with an expense of\", lowest_expense_amount)\n",
    "print(\"Overall Highest Expense Program:\", highest_expense_program, \"with an expense of\", highest_expense_amount)\n"
   ]
  },
  {
   "cell_type": "code",
   "execution_count": 27,
   "id": "c7b85446",
   "metadata": {},
   "outputs": [
    {
     "name": "stdout",
     "output_type": "stream",
     "text": [
      "Overall Lowest Revenue Program: Non-Program Taxation Tax Levy with a revenue of -5200573571.27\n",
      "Overall Highest Revenue Program: Auditor General's Office with a revenue of 0.0\n"
     ]
    }
   ],
   "source": [
    "import pandas as pd\n",
    "\n",
    "# Initialize variables to store the lowest and highest revenue program details\n",
    "lowest_revenue_program, lowest_revenue_amount = None, float('inf')\n",
    "highest_revenue_program, highest_revenue_amount = None, -float('inf')\n",
    "\n",
    "# Iterate over the files for each year\n",
    "for year in range(2019, 2024):\n",
    "    file_path = f'Resources/approved-operating-budget-summary-{year}.xlsx'\n",
    "    budget_data = pd.read_excel(file_path, 'Open Data')\n",
    "\n",
    "    # Filtering only revenues\n",
    "    revenue_data = budget_data[budget_data['Expense/Revenue'] == 'Revenues']\n",
    "\n",
    "    # Grouping by Program and summing up the revenues\n",
    "    total_revenues_by_program = revenue_data.groupby('Program')[float(year)].sum()\n",
    "\n",
    "    # Update the accumulated revenues and check for lowest/highest\n",
    "    for program, revenue in total_revenues_by_program.items():\n",
    "        # Update lowest revenue program\n",
    "        if revenue < lowest_revenue_amount:\n",
    "            lowest_revenue_program, lowest_revenue_amount = program, revenue\n",
    "\n",
    "        # Update highest revenue program\n",
    "        if revenue > highest_revenue_amount:\n",
    "            highest_revenue_program, highest_revenue_amount = program, revenue\n",
    "\n",
    "# Print results\n",
    "print(\"Overall Lowest Revenue Program:\", lowest_revenue_program, \"with a revenue of\", lowest_revenue_amount)\n",
    "print(\"Overall Highest Revenue Program:\", highest_revenue_program, \"with a revenue of\", highest_revenue_amount)\n"
   ]
  },
  {
   "cell_type": "code",
   "execution_count": null,
   "id": "539bcc22",
   "metadata": {},
   "outputs": [],
   "source": []
  }
 ],
 "metadata": {
  "kernelspec": {
   "display_name": "Python 3 (ipykernel)",
   "language": "python",
   "name": "python3"
  },
  "language_info": {
   "codemirror_mode": {
    "name": "ipython",
    "version": 3
   },
   "file_extension": ".py",
   "mimetype": "text/x-python",
   "name": "python",
   "nbconvert_exporter": "python",
   "pygments_lexer": "ipython3",
   "version": "3.11.5"
  }
 },
 "nbformat": 4,
 "nbformat_minor": 5
}
