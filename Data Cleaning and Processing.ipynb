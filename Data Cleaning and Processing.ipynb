{
 "cells": [
  {
   "cell_type": "code",
   "execution_count": 2,
   "id": "a54adb55",
   "metadata": {},
   "outputs": [],
   "source": [
    "import pandas as pd\n",
    "from pathlib import Path\n",
    "# Clean and preprocess the budget data, handling missing values, standardizing formats, \n",
    "# and ensuring data consistency. \n",
    "# Perform initial checks to ensure the dataset is ready for analysis."
   ]
  },
  {
   "cell_type": "code",
   "execution_count": 6,
   "id": "a0e3ae55",
   "metadata": {},
   "outputs": [],
   "source": [
    "#Loading the data into dataframes"
   ]
  },
  {
   "cell_type": "code",
   "execution_count": 3,
   "id": "b8b8028a",
   "metadata": {},
   "outputs": [],
   "source": [
    "budget_path_2019 = Path(\"Resources/approved-operating-budget-summary-2019.xlsx\") #2019\n",
    "budget2019_df = pd.read_excel(budget_path_2019, sheet_name='2019')\n",
    "budget_path_2020 = Path(\"Resources/approved-operating-budget-summary-2020.xlsx\") #2020\n",
    "budget2020_df = pd.read_excel(budget_path_2020, sheet_name='open data')\n",
    "budget_path_2021 = Path(\"Resources/approved-operating-budget-summary-2021.xlsx\") #2021\n",
    "budget2021_df = pd.read_excel(budget_path_2021, sheet_name='2021')\n",
    "budget_path_2022 = Path(\"Resources/approved-operating-budget-summary-2022.xlsx\") #2022\n",
    "budget2022_df = pd.read_excel(budget_path_2022, sheet_name='Open Data')\n",
    "budget_path_2023 = Path(\"Resources/approved-operating-budget-summary-2023.xlsx\") #2023\n",
    "budget2023_df = pd.read_excel(budget_path_2023, sheet_name='Open Data')"
   ]
  },
  {
   "cell_type": "code",
   "execution_count": null,
   "id": "ca265c9f",
   "metadata": {},
   "outputs": [],
   "source": [
    "#Checking for null values using the isnull function, and printing the number of null values in the data frame"
   ]
  },
  {
   "cell_type": "code",
   "execution_count": 4,
   "id": "9c3a323e",
   "metadata": {},
   "outputs": [
    {
     "name": "stdout",
     "output_type": "stream",
     "text": [
      "Program              0\n",
      "Service              0\n",
      "Activity             0\n",
      "Expense/Revenue      0\n",
      "Category Name        0\n",
      "Sub-Category Name    0\n",
      "Commitment item      0\n",
      "2019                 0\n",
      "dtype: int64\n"
     ]
    }
   ],
   "source": [
    "null_2019 = budget2019_df.isnull()   #checking for null values\n",
    "null_per_column_2019 = null_2019.sum()\n",
    "print(null_per_column_2019)"
   ]
  },
  {
   "cell_type": "code",
   "execution_count": 5,
   "id": "41444cb2",
   "metadata": {},
   "outputs": [
    {
     "name": "stdout",
     "output_type": "stream",
     "text": [
      "Program              0\n",
      "Service              0\n",
      "Activity             0\n",
      "Expense/Revenue      0\n",
      "Category Name        0\n",
      "Sub-Category Name    0\n",
      "Commitment item      0\n",
      "2020                 0\n",
      "dtype: int64\n"
     ]
    }
   ],
   "source": [
    "null_2020 = budget2020_df.isnull() #checking for null values\n",
    "null_per_column_2020 = null_2020.sum()\n",
    "print(null_per_column_2020)"
   ]
  },
  {
   "cell_type": "code",
   "execution_count": 6,
   "id": "2fc3dde5",
   "metadata": {},
   "outputs": [
    {
     "name": "stdout",
     "output_type": "stream",
     "text": [
      "Program              0\n",
      "Service              0\n",
      "Activity             0\n",
      "Expense/Revenue      0\n",
      "Category Name        0\n",
      "Sub-Category Name    0\n",
      "Commitment item      0\n",
      "2021                 0\n",
      "dtype: int64\n"
     ]
    }
   ],
   "source": [
    "null_2021  = budget2021_df.isnull() #checking for null values\n",
    "null_per_column_2021 = null_2021.sum()\n",
    "print(null_per_column_2021)"
   ]
  },
  {
   "cell_type": "code",
   "execution_count": 7,
   "id": "0ac6a89c",
   "metadata": {},
   "outputs": [
    {
     "name": "stdout",
     "output_type": "stream",
     "text": [
      "Program              0\n",
      "Service              0\n",
      "Activity             0\n",
      "Expense/Revenue      0\n",
      "Category Name        0\n",
      "Sub-Category Name    0\n",
      "Commitment item      0\n",
      "2022                 0\n",
      "dtype: int64\n"
     ]
    }
   ],
   "source": [
    "null_2022 = budget2022_df.isnull()  #checking for null values\n",
    "null_per_column_2022 = null_2022.sum()\n",
    "print(null_per_column_2022)"
   ]
  },
  {
   "cell_type": "code",
   "execution_count": 8,
   "id": "e77400b7",
   "metadata": {},
   "outputs": [
    {
     "name": "stdout",
     "output_type": "stream",
     "text": [
      "Program              0\n",
      "Service              0\n",
      "Activity             0\n",
      "Expense/Revenue      0\n",
      "Category Name        0\n",
      "Sub-Category Name    0\n",
      "Commitment item      0\n",
      "2023                 0\n",
      "dtype: int64\n"
     ]
    }
   ],
   "source": [
    "null_2023 = budget2023_df.isnull()    #checking for null values\n",
    "null_per_column_2023 = null_2023.sum()\n",
    "print(null_per_column_2023)"
   ]
  },
  {
   "cell_type": "code",
   "execution_count": null,
   "id": "14f3735b",
   "metadata": {},
   "outputs": [],
   "source": [
    "#Renaming the last column in the data set to Budgeted Amount Year"
   ]
  },
  {
   "cell_type": "code",
   "execution_count": 9,
   "id": "26eca081",
   "metadata": {},
   "outputs": [],
   "source": [
    "budget2019_df.rename(columns={2019.0: 'Budgeted amount 2019'}, inplace=True)\n",
    "budget2020_df.rename(columns={2020.0: 'Budgeted amount 2020'}, inplace=True)\n",
    "budget2021_df.rename(columns={2021.0: 'Budgeted amount 2021'}, inplace=True)\n",
    "budget2022_df.rename(columns={2022.0: 'Budgeted amount 2022'}, inplace=True)\n",
    "budget2023_df.rename(columns={2023.0: 'Budgeted amount 2023'}, inplace=True)"
   ]
  },
  {
   "cell_type": "code",
   "execution_count": null,
   "id": "fa3ebe42",
   "metadata": {},
   "outputs": [],
   "source": [
    "#Checking for duplicates "
   ]
  },
  {
   "cell_type": "code",
   "execution_count": null,
   "id": "73947f56",
   "metadata": {},
   "outputs": [],
   "source": [
    "##  Counts number of values in each dataframe before dropping duplicates"
   ]
  },
  {
   "cell_type": "code",
   "execution_count": 10,
   "id": "a017964a",
   "metadata": {},
   "outputs": [
    {
     "data": {
      "text/plain": [
       "Program                 19428\n",
       "Service                 19428\n",
       "Activity                19428\n",
       "Expense/Revenue         19428\n",
       "Category Name           19428\n",
       "Sub-Category Name       19428\n",
       "Commitment item         19428\n",
       "Budgeted amount 2019    19428\n",
       "dtype: int64"
      ]
     },
     "execution_count": 10,
     "metadata": {},
     "output_type": "execute_result"
    }
   ],
   "source": [
    "budget2019_df.count()"
   ]
  },
  {
   "cell_type": "code",
   "execution_count": 10,
   "id": "421c90af",
   "metadata": {},
   "outputs": [
    {
     "data": {
      "text/plain": [
       "Program                 17779\n",
       "Service                 17779\n",
       "Activity                17779\n",
       "Expense/Revenue         17779\n",
       "Category Name           17779\n",
       "Sub-Category Name       17779\n",
       "Commitment item         17779\n",
       "Budgeted amount 2020    17779\n",
       "dtype: int64"
      ]
     },
     "execution_count": 10,
     "metadata": {},
     "output_type": "execute_result"
    }
   ],
   "source": [
    "budget2020_df.count()"
   ]
  },
  {
   "cell_type": "code",
   "execution_count": 11,
   "id": "5a3ada99",
   "metadata": {},
   "outputs": [
    {
     "data": {
      "text/plain": [
       "Program                 20816\n",
       "Service                 20816\n",
       "Activity                20816\n",
       "Expense/Revenue         20816\n",
       "Category Name           20816\n",
       "Sub-Category Name       20816\n",
       "Commitment item         20816\n",
       "Budgeted amount 2021    20816\n",
       "dtype: int64"
      ]
     },
     "execution_count": 11,
     "metadata": {},
     "output_type": "execute_result"
    }
   ],
   "source": [
    "budget2021_df.count()"
   ]
  },
  {
   "cell_type": "code",
   "execution_count": 12,
   "id": "8981c132",
   "metadata": {},
   "outputs": [
    {
     "data": {
      "text/plain": [
       "Program                 19714\n",
       "Service                 19714\n",
       "Activity                19714\n",
       "Expense/Revenue         19714\n",
       "Category Name           19714\n",
       "Sub-Category Name       19714\n",
       "Commitment item         19714\n",
       "Budgeted amount 2022    19714\n",
       "dtype: int64"
      ]
     },
     "execution_count": 12,
     "metadata": {},
     "output_type": "execute_result"
    }
   ],
   "source": [
    "budget2022_df.count()"
   ]
  },
  {
   "cell_type": "code",
   "execution_count": 13,
   "id": "1841707b",
   "metadata": {},
   "outputs": [
    {
     "data": {
      "text/plain": [
       "Program                 20127\n",
       "Service                 20127\n",
       "Activity                20127\n",
       "Expense/Revenue         20127\n",
       "Category Name           20127\n",
       "Sub-Category Name       20127\n",
       "Commitment item         20127\n",
       "Budgeted amount 2023    20127\n",
       "dtype: int64"
      ]
     },
     "execution_count": 13,
     "metadata": {},
     "output_type": "execute_result"
    }
   ],
   "source": [
    "budget2023_df.count()"
   ]
  },
  {
   "cell_type": "code",
   "execution_count": 14,
   "id": "fb89ee39",
   "metadata": {},
   "outputs": [
    {
     "data": {
      "text/html": [
       "<div>\n",
       "<style scoped>\n",
       "    .dataframe tbody tr th:only-of-type {\n",
       "        vertical-align: middle;\n",
       "    }\n",
       "\n",
       "    .dataframe tbody tr th {\n",
       "        vertical-align: top;\n",
       "    }\n",
       "\n",
       "    .dataframe thead th {\n",
       "        text-align: right;\n",
       "    }\n",
       "</style>\n",
       "<table border=\"1\" class=\"dataframe\">\n",
       "  <thead>\n",
       "    <tr style=\"text-align: right;\">\n",
       "      <th></th>\n",
       "      <th>Program</th>\n",
       "      <th>Service</th>\n",
       "      <th>Activity</th>\n",
       "      <th>Expense/Revenue</th>\n",
       "      <th>Category Name</th>\n",
       "      <th>Sub-Category Name</th>\n",
       "      <th>Commitment item</th>\n",
       "      <th>Budgeted amount 2023</th>\n",
       "    </tr>\n",
       "  </thead>\n",
       "  <tbody>\n",
       "    <tr>\n",
       "      <th>0</th>\n",
       "      <td>311 Toronto</td>\n",
       "      <td>311 Development</td>\n",
       "      <td>311 PMO</td>\n",
       "      <td>Expenses</td>\n",
       "      <td>Benefits</td>\n",
       "      <td>Benefits</td>\n",
       "      <td>Canada Pension Plan</td>\n",
       "      <td>63293.40</td>\n",
       "    </tr>\n",
       "    <tr>\n",
       "      <th>1</th>\n",
       "      <td>311 Toronto</td>\n",
       "      <td>311 Development</td>\n",
       "      <td>311 PMO</td>\n",
       "      <td>Expenses</td>\n",
       "      <td>Service And Rent</td>\n",
       "      <td>Telecommnuncation</td>\n",
       "      <td>Cellular Telephones</td>\n",
       "      <td>2830.00</td>\n",
       "    </tr>\n",
       "    <tr>\n",
       "      <th>2</th>\n",
       "      <td>311 Toronto</td>\n",
       "      <td>311 Development</td>\n",
       "      <td>311 PMO</td>\n",
       "      <td>Expenses</td>\n",
       "      <td>Benefits</td>\n",
       "      <td>Benefits</td>\n",
       "      <td>Comprehensive Medical</td>\n",
       "      <td>72595.32</td>\n",
       "    </tr>\n",
       "    <tr>\n",
       "      <th>3</th>\n",
       "      <td>311 Toronto</td>\n",
       "      <td>311 Development</td>\n",
       "      <td>311 PMO</td>\n",
       "      <td>Expenses</td>\n",
       "      <td>Benefits</td>\n",
       "      <td>Benefits</td>\n",
       "      <td>Dental Plan</td>\n",
       "      <td>37800.96</td>\n",
       "    </tr>\n",
       "    <tr>\n",
       "      <th>4</th>\n",
       "      <td>311 Toronto</td>\n",
       "      <td>311 Development</td>\n",
       "      <td>311 PMO</td>\n",
       "      <td>Expenses</td>\n",
       "      <td>Benefits</td>\n",
       "      <td>Benefits</td>\n",
       "      <td>Employment Insurance</td>\n",
       "      <td>22992.96</td>\n",
       "    </tr>\n",
       "    <tr>\n",
       "      <th>...</th>\n",
       "      <td>...</td>\n",
       "      <td>...</td>\n",
       "      <td>...</td>\n",
       "      <td>...</td>\n",
       "      <td>...</td>\n",
       "      <td>...</td>\n",
       "      <td>...</td>\n",
       "      <td>...</td>\n",
       "    </tr>\n",
       "    <tr>\n",
       "      <th>20114</th>\n",
       "      <td>Yonge-Dundas Square</td>\n",
       "      <td>Public Square And Event Venue</td>\n",
       "      <td>Not assigned</td>\n",
       "      <td>Expenses</td>\n",
       "      <td>Service And Rent</td>\n",
       "      <td>Services</td>\n",
       "      <td>Other Expenses</td>\n",
       "      <td>714500.00</td>\n",
       "    </tr>\n",
       "    <tr>\n",
       "      <th>20115</th>\n",
       "      <td>Yonge-Dundas Square</td>\n",
       "      <td>Public Square And Event Venue</td>\n",
       "      <td>Not assigned</td>\n",
       "      <td>Expenses</td>\n",
       "      <td>Service And Rent</td>\n",
       "      <td>Services</td>\n",
       "      <td>Other Professional And Technical Service</td>\n",
       "      <td>66000.00</td>\n",
       "    </tr>\n",
       "    <tr>\n",
       "      <th>20123</th>\n",
       "      <td>Yonge-Dundas Square</td>\n",
       "      <td>Public Square And Event Venue</td>\n",
       "      <td>Not assigned</td>\n",
       "      <td>Revenues</td>\n",
       "      <td>Contribution From Reserves/Reserve Funds</td>\n",
       "      <td>Contribution From Reserves/Reserve Funds</td>\n",
       "      <td>Contributions From Reserves</td>\n",
       "      <td>-33519.00</td>\n",
       "    </tr>\n",
       "    <tr>\n",
       "      <th>20124</th>\n",
       "      <td>Yonge-Dundas Square</td>\n",
       "      <td>Public Square And Event Venue</td>\n",
       "      <td>Not assigned</td>\n",
       "      <td>Revenues</td>\n",
       "      <td>User Fees &amp; Donations</td>\n",
       "      <td>User Fees</td>\n",
       "      <td>Fees, Service Charges</td>\n",
       "      <td>-836250.00</td>\n",
       "    </tr>\n",
       "    <tr>\n",
       "      <th>20126</th>\n",
       "      <td>Yonge-Dundas Square</td>\n",
       "      <td>Public Square And Event Venue</td>\n",
       "      <td>Not assigned</td>\n",
       "      <td>Revenues</td>\n",
       "      <td>Other Revenue</td>\n",
       "      <td>Miscellaneous Revenues</td>\n",
       "      <td>Sundry Revenue</td>\n",
       "      <td>-880000.00</td>\n",
       "    </tr>\n",
       "  </tbody>\n",
       "</table>\n",
       "<p>15323 rows × 8 columns</p>\n",
       "</div>"
      ],
      "text/plain": [
       "                   Program                        Service      Activity  \\\n",
       "0              311 Toronto                311 Development       311 PMO   \n",
       "1              311 Toronto                311 Development       311 PMO   \n",
       "2              311 Toronto                311 Development       311 PMO   \n",
       "3              311 Toronto                311 Development       311 PMO   \n",
       "4              311 Toronto                311 Development       311 PMO   \n",
       "...                    ...                            ...           ...   \n",
       "20114  Yonge-Dundas Square  Public Square And Event Venue  Not assigned   \n",
       "20115  Yonge-Dundas Square  Public Square And Event Venue  Not assigned   \n",
       "20123  Yonge-Dundas Square  Public Square And Event Venue  Not assigned   \n",
       "20124  Yonge-Dundas Square  Public Square And Event Venue  Not assigned   \n",
       "20126  Yonge-Dundas Square  Public Square And Event Venue  Not assigned   \n",
       "\n",
       "      Expense/Revenue                             Category Name  \\\n",
       "0            Expenses                                  Benefits   \n",
       "1            Expenses                          Service And Rent   \n",
       "2            Expenses                                  Benefits   \n",
       "3            Expenses                                  Benefits   \n",
       "4            Expenses                                  Benefits   \n",
       "...               ...                                       ...   \n",
       "20114        Expenses                          Service And Rent   \n",
       "20115        Expenses                          Service And Rent   \n",
       "20123        Revenues  Contribution From Reserves/Reserve Funds   \n",
       "20124        Revenues                     User Fees & Donations   \n",
       "20126        Revenues                             Other Revenue   \n",
       "\n",
       "                              Sub-Category Name  \\\n",
       "0                                      Benefits   \n",
       "1                             Telecommnuncation   \n",
       "2                                      Benefits   \n",
       "3                                      Benefits   \n",
       "4                                      Benefits   \n",
       "...                                         ...   \n",
       "20114                                  Services   \n",
       "20115                                  Services   \n",
       "20123  Contribution From Reserves/Reserve Funds   \n",
       "20124                                 User Fees   \n",
       "20126                    Miscellaneous Revenues   \n",
       "\n",
       "                                Commitment item  Budgeted amount 2023  \n",
       "0                           Canada Pension Plan              63293.40  \n",
       "1                           Cellular Telephones               2830.00  \n",
       "2                         Comprehensive Medical              72595.32  \n",
       "3                                   Dental Plan              37800.96  \n",
       "4                          Employment Insurance              22992.96  \n",
       "...                                         ...                   ...  \n",
       "20114                            Other Expenses             714500.00  \n",
       "20115  Other Professional And Technical Service              66000.00  \n",
       "20123               Contributions From Reserves             -33519.00  \n",
       "20124                     Fees, Service Charges            -836250.00  \n",
       "20126                            Sundry Revenue            -880000.00  \n",
       "\n",
       "[15323 rows x 8 columns]"
      ]
     },
     "execution_count": 14,
     "metadata": {},
     "output_type": "execute_result"
    }
   ],
   "source": [
    "##Dropping duplicates\n",
    "budget2019_df.drop_duplicates(subset = 'Budgeted amount 2019')\n",
    "budget2020_df.drop_duplicates(subset = 'Budgeted amount 2020')\n",
    "budget2021_df.drop_duplicates(subset = 'Budgeted amount 2021')\n",
    "budget2022_df.drop_duplicates(subset = 'Budgeted amount 2022')\n",
    "budget2023_df.drop_duplicates(subset = 'Budgeted amount 2023')"
   ]
  },
  {
   "cell_type": "code",
   "execution_count": null,
   "id": "cbcde813",
   "metadata": {},
   "outputs": [],
   "source": [
    "##Checking if count values changed after dropping duplicates"
   ]
  },
  {
   "cell_type": "code",
   "execution_count": 15,
   "id": "16ba44a0",
   "metadata": {},
   "outputs": [
    {
     "data": {
      "text/plain": [
       "Program                 19428\n",
       "Service                 19428\n",
       "Activity                19428\n",
       "Expense/Revenue         19428\n",
       "Category Name           19428\n",
       "Sub-Category Name       19428\n",
       "Commitment item         19428\n",
       "Budgeted amount 2019    19428\n",
       "dtype: int64"
      ]
     },
     "execution_count": 15,
     "metadata": {},
     "output_type": "execute_result"
    }
   ],
   "source": [
    "budget2019_df.count()"
   ]
  },
  {
   "cell_type": "code",
   "execution_count": 16,
   "id": "e7098e74",
   "metadata": {},
   "outputs": [
    {
     "data": {
      "text/plain": [
       "Program                 17779\n",
       "Service                 17779\n",
       "Activity                17779\n",
       "Expense/Revenue         17779\n",
       "Category Name           17779\n",
       "Sub-Category Name       17779\n",
       "Commitment item         17779\n",
       "Budgeted amount 2020    17779\n",
       "dtype: int64"
      ]
     },
     "execution_count": 16,
     "metadata": {},
     "output_type": "execute_result"
    }
   ],
   "source": [
    "budget2020_df.count()"
   ]
  },
  {
   "cell_type": "code",
   "execution_count": 17,
   "id": "eabde54d",
   "metadata": {},
   "outputs": [
    {
     "data": {
      "text/plain": [
       "Program                 20816\n",
       "Service                 20816\n",
       "Activity                20816\n",
       "Expense/Revenue         20816\n",
       "Category Name           20816\n",
       "Sub-Category Name       20816\n",
       "Commitment item         20816\n",
       "Budgeted amount 2021    20816\n",
       "dtype: int64"
      ]
     },
     "execution_count": 17,
     "metadata": {},
     "output_type": "execute_result"
    }
   ],
   "source": [
    "budget2021_df.count()"
   ]
  },
  {
   "cell_type": "code",
   "execution_count": 18,
   "id": "1d139b47",
   "metadata": {},
   "outputs": [
    {
     "data": {
      "text/plain": [
       "Program                 19714\n",
       "Service                 19714\n",
       "Activity                19714\n",
       "Expense/Revenue         19714\n",
       "Category Name           19714\n",
       "Sub-Category Name       19714\n",
       "Commitment item         19714\n",
       "Budgeted amount 2022    19714\n",
       "dtype: int64"
      ]
     },
     "execution_count": 18,
     "metadata": {},
     "output_type": "execute_result"
    }
   ],
   "source": [
    "budget2022_df.count()"
   ]
  },
  {
   "cell_type": "code",
   "execution_count": 19,
   "id": "32fe54bd",
   "metadata": {},
   "outputs": [
    {
     "data": {
      "text/plain": [
       "Program                 20127\n",
       "Service                 20127\n",
       "Activity                20127\n",
       "Expense/Revenue         20127\n",
       "Category Name           20127\n",
       "Sub-Category Name       20127\n",
       "Commitment item         20127\n",
       "Budgeted amount 2023    20127\n",
       "dtype: int64"
      ]
     },
     "execution_count": 19,
     "metadata": {},
     "output_type": "execute_result"
    }
   ],
   "source": [
    "budget2023_df.count()"
   ]
  },
  {
   "cell_type": "code",
   "execution_count": null,
   "id": "91d5b53b",
   "metadata": {},
   "outputs": [],
   "source": [
    "#Checking if data types are consistent in the datasets"
   ]
  },
  {
   "cell_type": "code",
   "execution_count": 20,
   "id": "d0549638",
   "metadata": {},
   "outputs": [
    {
     "data": {
      "text/plain": [
       "Program                  object\n",
       "Service                  object\n",
       "Activity                 object\n",
       "Expense/Revenue          object\n",
       "Category Name            object\n",
       "Sub-Category Name        object\n",
       "Commitment item          object\n",
       "Budgeted amount 2019    float64\n",
       "dtype: object"
      ]
     },
     "execution_count": 20,
     "metadata": {},
     "output_type": "execute_result"
    }
   ],
   "source": [
    "budget2019_df.dtypes"
   ]
  },
  {
   "cell_type": "code",
   "execution_count": 21,
   "id": "a8e7f99c",
   "metadata": {},
   "outputs": [
    {
     "data": {
      "text/plain": [
       "Program                  object\n",
       "Service                  object\n",
       "Activity                 object\n",
       "Expense/Revenue          object\n",
       "Category Name            object\n",
       "Sub-Category Name        object\n",
       "Commitment item          object\n",
       "Budgeted amount 2020    float64\n",
       "dtype: object"
      ]
     },
     "execution_count": 21,
     "metadata": {},
     "output_type": "execute_result"
    }
   ],
   "source": [
    "budget2020_df.dtypes"
   ]
  },
  {
   "cell_type": "code",
   "execution_count": 22,
   "id": "4efce172",
   "metadata": {},
   "outputs": [
    {
     "data": {
      "text/plain": [
       "Program                  object\n",
       "Service                  object\n",
       "Activity                 object\n",
       "Expense/Revenue          object\n",
       "Category Name            object\n",
       "Sub-Category Name        object\n",
       "Commitment item          object\n",
       "Budgeted amount 2021    float64\n",
       "dtype: object"
      ]
     },
     "execution_count": 22,
     "metadata": {},
     "output_type": "execute_result"
    }
   ],
   "source": [
    "budget2021_df.dtypes"
   ]
  },
  {
   "cell_type": "code",
   "execution_count": 23,
   "id": "9fc7c1d3",
   "metadata": {},
   "outputs": [
    {
     "data": {
      "text/plain": [
       "Program                  object\n",
       "Service                  object\n",
       "Activity                 object\n",
       "Expense/Revenue          object\n",
       "Category Name            object\n",
       "Sub-Category Name        object\n",
       "Commitment item          object\n",
       "Budgeted amount 2022    float64\n",
       "dtype: object"
      ]
     },
     "execution_count": 23,
     "metadata": {},
     "output_type": "execute_result"
    }
   ],
   "source": [
    "budget2022_df.dtypes"
   ]
  },
  {
   "cell_type": "code",
   "execution_count": 24,
   "id": "ffad9279",
   "metadata": {},
   "outputs": [
    {
     "data": {
      "text/plain": [
       "Program                  object\n",
       "Service                  object\n",
       "Activity                 object\n",
       "Expense/Revenue          object\n",
       "Category Name            object\n",
       "Sub-Category Name        object\n",
       "Commitment item          object\n",
       "Budgeted amount 2023    float64\n",
       "dtype: object"
      ]
     },
     "execution_count": 24,
     "metadata": {},
     "output_type": "execute_result"
    }
   ],
   "source": [
    "budget2023_df.dtypes"
   ]
  },
  {
   "cell_type": "code",
   "execution_count": 34,
   "id": "557bad4f",
   "metadata": {},
   "outputs": [],
   "source": [
    "#Seperating the data into different dataframes based on if they are expense or revenue"
   ]
  },
  {
   "cell_type": "code",
   "execution_count": 25,
   "id": "51758525",
   "metadata": {},
   "outputs": [],
   "source": [
    "budget2019_df_exp = budget2019_df[budget2019_df['Expense/Revenue']=='Expenses']\n",
    "budget2019_df_rev = budget2019_df[budget2019_df['Expense/Revenue']=='Revenues']"
   ]
  },
  {
   "cell_type": "code",
   "execution_count": 26,
   "id": "9bce003f",
   "metadata": {},
   "outputs": [],
   "source": [
    "budget2020_df_exp = budget2020_df[budget2020_df['Expense/Revenue']=='Expenses']\n",
    "budget2020_df_rev = budget2020_df[budget2020_df['Expense/Revenue']=='Revenues']"
   ]
  },
  {
   "cell_type": "code",
   "execution_count": 27,
   "id": "b83f92db",
   "metadata": {},
   "outputs": [],
   "source": [
    "budget2021_df_exp = budget2021_df[budget2021_df['Expense/Revenue']=='Expenses']\n",
    "budget2021_df_rev = budget2021_df[budget2021_df['Expense/Revenue']=='Revenues']"
   ]
  },
  {
   "cell_type": "code",
   "execution_count": 28,
   "id": "1996ec81",
   "metadata": {},
   "outputs": [],
   "source": [
    "budget2022_df_exp = budget2022_df[budget2022_df['Expense/Revenue']=='Expenses']\n",
    "budget2022_df_rev = budget2022_df[budget2022_df['Expense/Revenue']=='Revenues']"
   ]
  },
  {
   "cell_type": "code",
   "execution_count": 29,
   "id": "d1b03f15",
   "metadata": {},
   "outputs": [],
   "source": [
    "budget2023_df_exp = budget2023_df[budget2023_df['Expense/Revenue']=='Expenses']\n",
    "budget2023_df_rev = budget2023_df[budget2023_df['Expense/Revenue']=='Revenues']"
   ]
  },
  {
   "cell_type": "code",
   "execution_count": 37,
   "id": "478dfaef",
   "metadata": {},
   "outputs": [],
   "source": [
    "#merging the expenses data frame from each year into one final data frame"
   ]
  },
  {
   "cell_type": "code",
   "execution_count": 1,
   "id": "b3142fdf",
   "metadata": {},
   "outputs": [],
   "source": [
    "# all_years_expenses_df = pd.merge(budget2019_df_exp, budget2020_df_exp, on='Program', how='inner')\n",
    "# all_years_expenses_df = pd.merge(all_years_expenses_df, budget2021_df_exp, on='Program', how='inner')\n",
    "# all_years_expenses_df = pd.merge(all_years_expenses_df, budget2022_df_exp, on='Program', how='inner')\n",
    "# all_years_expenses_df = pd.merge(all_years_expenses_df, budget2023_df_exp, on='Program', how='inner')\n",
    "# all_years_expenses_df"
   ]
  },
  {
   "cell_type": "code",
   "execution_count": null,
   "id": "f124754f",
   "metadata": {},
   "outputs": [],
   "source": [
    "# all_years_expenses_df = pd.merge(all_years_expenses_df, budget2021_df_exp, on='Program', how='inner')"
   ]
  }
 ],
 "metadata": {
  "kernelspec": {
   "display_name": "Python 3 (ipykernel)",
   "language": "python",
   "name": "python3"
  },
  "language_info": {
   "codemirror_mode": {
    "name": "ipython",
    "version": 3
   },
   "file_extension": ".py",
   "mimetype": "text/x-python",
   "name": "python",
   "nbconvert_exporter": "python",
   "pygments_lexer": "ipython3",
   "version": "3.9.13"
  }
 },
 "nbformat": 4,
 "nbformat_minor": 5
}
