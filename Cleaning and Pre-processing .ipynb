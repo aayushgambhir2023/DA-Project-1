{
 "cells": [
  {
   "cell_type": "code",
   "execution_count": 1,
   "id": "6146e3d7",
   "metadata": {},
   "outputs": [],
   "source": [
    "import pandas as pd\n",
    "from pathlib import Path\n",
    "import openpyxl\n",
    "# Clean and preprocess the budget data, handling missing values, standardizing formats, \n",
    "# and ensuring data consistency. \n",
    "# Perform initial checks to ensure the dataset is ready for analysis.\n",
    "budget_path_2019 = Path(\"Resources/approved-operating-budget-summary-2019.xlsx\") #2019\n",
    "budget2019_df = pd.read_excel(budget_path_2019, sheet_name='2019')\n",
    "budget_path_2020 = Path(\"Resources/approved-operating-budget-summary-2020.xlsx\") #2020\n",
    "budget2020_df = pd.read_excel(budget_path_2020, sheet_name='open data')\n",
    "budget_path_2021 = Path(\"Resources/approved-operating-budget-summary-2021.xlsx\") #2021\n",
    "budget2021_df = pd.read_excel(budget_path_2021, sheet_name='2021')\n",
    "budget_path_2022 = Path(\"Resources/approved-operating-budget-summary-2022.xlsx\") #2022\n",
    "budget2022_df = pd.read_excel(budget_path_2022, sheet_name='Open Data')\n",
    "budget_path_2023 = Path(\"Resources/approved-operating-budget-summary-2023.xlsx\") #2023\n",
    "budget2023_df = pd.read_excel(budget_path_2023, sheet_name='Open Data')"
   ]
  },
  {
   "cell_type": "code",
   "execution_count": 28,
   "id": "f8cd7bab",
   "metadata": {},
   "outputs": [],
   "source": [
    "# Changing the names of the excel worksheets so they are consistent\n",
    "workbook2019 = openpyxl.load_workbook(budget_path_2019) #opening the 2019 approved budget summary workbook\n",
    "rename_2019_sheet = workbook2019['2019'] #selecting the excel sheet to rename\n",
    "rename_2019_sheet.title = 'Open Data' #changing the title \n",
    "workbook2019.save(budget_path_2019)  #saving the modified file using the original file path\n",
    "workbook2019.close()  #closing the workbook\n",
    "#Only runs once and permanently changes the name"
   ]
  },
  {
   "cell_type": "code",
   "execution_count": 29,
   "id": "0e8cd5fe",
   "metadata": {
    "scrolled": true
   },
   "outputs": [],
   "source": [
    "workbook2021 = openpyxl.load_workbook(budget_path_2021) #opening the 2019 approved budget summary workbook\n",
    "sheet_names = workbook2021.sheetnames # Get the sheet names of the workbook\n",
    "if '2021' in sheet_names: # if '2021' is in the sheet names\n",
    "    rename_2021_sheet = workbook2021['2021']  # Selecting the Excel sheet to rename\n",
    "    rename_2021_sheet.title = 'Open Data'  # Changing the title\n",
    "    # Saving the modified file using the original file path\n",
    "    workbook2021.save(budget_path_2021)\n",
    "# Closing the workbook\n",
    "workbook2021.close()"
   ]
  },
  {
   "cell_type": "code",
   "execution_count": null,
   "id": "e4e48978",
   "metadata": {},
   "outputs": [],
   "source": [
    "#Checking for null values"
   ]
  },
  {
   "cell_type": "code",
   "execution_count": 94,
   "id": "d5339791",
   "metadata": {},
   "outputs": [],
   "source": [
    "null_2019 = budget2019_df.isnull()   \n",
    "null_per_column_2019 = null_2019.sum()\n",
    "null_2020 = budget2020_df.isnull() \n",
    "null_per_column_2020 = null_2020.sum()\n",
    "null_2021  = budget2021_df.isnull() \n",
    "null_per_column_2021 = null_2021.sum()\n",
    "null_2022 = budget2022_df.isnull()  \n",
    "null_per_column_2022 = null_2022.sum()\n",
    "null_2023 = budget2023_df.isnull()   \n",
    "null_per_column_2023 = null_2023.sum()"
   ]
  },
  {
   "cell_type": "code",
   "execution_count": 95,
   "id": "ac478721",
   "metadata": {},
   "outputs": [
    {
     "name": "stdout",
     "output_type": "stream",
     "text": [
      "Program              0\n",
      "Service              0\n",
      "Activity             0\n",
      "Expense/Revenue      0\n",
      "Category Name        0\n",
      "Sub-Category Name    0\n",
      "Commitment item      0\n",
      "2019                 0\n",
      "dtype: int64\n"
     ]
    }
   ],
   "source": [
    "print(null_per_column_2019)"
   ]
  },
  {
   "cell_type": "code",
   "execution_count": 96,
   "id": "fdb3afeb",
   "metadata": {},
   "outputs": [
    {
     "name": "stdout",
     "output_type": "stream",
     "text": [
      "Program              0\n",
      "Service              0\n",
      "Activity             0\n",
      "Expense/Revenue      0\n",
      "Category Name        0\n",
      "Sub-Category Name    0\n",
      "Commitment item      0\n",
      "2020                 0\n",
      "dtype: int64\n"
     ]
    }
   ],
   "source": [
    "print(null_per_column_2020)"
   ]
  },
  {
   "cell_type": "code",
   "execution_count": 97,
   "id": "28b6a768",
   "metadata": {},
   "outputs": [
    {
     "name": "stdout",
     "output_type": "stream",
     "text": [
      "Program              0\n",
      "Service              0\n",
      "Activity             0\n",
      "Expense/Revenue      0\n",
      "Category Name        0\n",
      "Sub-Category Name    0\n",
      "Commitment item      0\n",
      "2021                 0\n",
      "dtype: int64\n"
     ]
    }
   ],
   "source": [
    "print(null_per_column_2021)"
   ]
  },
  {
   "cell_type": "code",
   "execution_count": 98,
   "id": "66db3fca",
   "metadata": {},
   "outputs": [
    {
     "name": "stdout",
     "output_type": "stream",
     "text": [
      "Program              0\n",
      "Service              0\n",
      "Activity             0\n",
      "Expense/Revenue      0\n",
      "Category Name        0\n",
      "Sub-Category Name    0\n",
      "Commitment item      0\n",
      "2022                 0\n",
      "dtype: int64\n"
     ]
    }
   ],
   "source": [
    "print(null_per_column_2022)"
   ]
  },
  {
   "cell_type": "code",
   "execution_count": 99,
   "id": "ce141c99",
   "metadata": {},
   "outputs": [
    {
     "name": "stdout",
     "output_type": "stream",
     "text": [
      "Program              0\n",
      "Service              0\n",
      "Activity             0\n",
      "Expense/Revenue      0\n",
      "Category Name        0\n",
      "Sub-Category Name    0\n",
      "Commitment item      0\n",
      "2023                 0\n",
      "dtype: int64\n"
     ]
    }
   ],
   "source": [
    "print(null_per_column_2023)"
   ]
  },
  {
   "cell_type": "code",
   "execution_count": 100,
   "id": "62df2977",
   "metadata": {},
   "outputs": [],
   "source": [
    "df_list = [budget2019_df,budget2020_df,budget2021_df,budget2022_df,budget2023_df]"
   ]
  },
  {
   "cell_type": "code",
   "execution_count": 101,
   "id": "ccf6d539",
   "metadata": {},
   "outputs": [],
   "source": [
    "#Renaming the last column in the data set to Budgeted Amount \n",
    "for i in range(len(df_list)):\n",
    "    year = 2019 + i\n",
    "    df_list[i].rename(columns={year: 'Budgeted amount'}, inplace=True)"
   ]
  },
  {
   "cell_type": "code",
   "execution_count": null,
   "id": "dfa0f533",
   "metadata": {},
   "outputs": [],
   "source": [
    "#Dropping duplicates"
   ]
  },
  {
   "cell_type": "code",
   "execution_count": 102,
   "id": "11ff57d3",
   "metadata": {},
   "outputs": [],
   "source": [
    "for i in range(len(df_list)):\n",
    "    df_list[i].drop_duplicates(subset='Budgeted amount', inplace=True)"
   ]
  },
  {
   "cell_type": "code",
   "execution_count": null,
   "id": "e3df80cb",
   "metadata": {},
   "outputs": [],
   "source": [
    "#Changing the scientific notation to the power of 6"
   ]
  },
  {
   "cell_type": "code",
   "execution_count": 103,
   "id": "d90be69b",
   "metadata": {},
   "outputs": [],
   "source": [
    "format_sci_notation = lambda x: '{:.6e}'.format(x)\n",
    "for df in df_list:\n",
    "    df['Budgeted amount'] = df['Budgeted amount'].apply(format_sci_notation)"
   ]
  },
  {
   "cell_type": "code",
   "execution_count": null,
   "id": "a5e77c4c",
   "metadata": {},
   "outputs": [],
   "source": [
    "#Seperating expenses and revenues into separate dataframes"
   ]
  },
  {
   "cell_type": "code",
   "execution_count": 105,
   "id": "beb9efe8",
   "metadata": {},
   "outputs": [],
   "source": [
    "budget2019_df_exp = budget2019_df[budget2019_df['Expense/Revenue']=='Expenses']\n",
    "budget2020_df_exp = budget2020_df[budget2020_df['Expense/Revenue']=='Expenses']\n",
    "budget2021_df_exp = budget2021_df[budget2021_df['Expense/Revenue']=='Expenses']\n",
    "budget2022_df_exp = budget2022_df[budget2022_df['Expense/Revenue']=='Expenses']\n",
    "budget2023_df_exp = budget2023_df[budget2023_df['Expense/Revenue']=='Expenses']"
   ]
  },
  {
   "cell_type": "code",
   "execution_count": 106,
   "id": "57c9c115",
   "metadata": {},
   "outputs": [],
   "source": [
    "budget2019_df_rev = budget2019_df[budget2019_df['Expense/Revenue']=='Revenues']\n",
    "budget2020_df_rev = budget2020_df[budget2020_df['Expense/Revenue']=='Revenues']\n",
    "budget2021_df_rev = budget2021_df[budget2021_df['Expense/Revenue']=='Revenues']\n",
    "budget2022_df_rev = budget2022_df[budget2022_df['Expense/Revenue']=='Revenues']\n",
    "budget2023_df_rev = budget2023_df[budget2023_df['Expense/Revenue']=='Revenues']"
   ]
  }
 ],
 "metadata": {
  "kernelspec": {
   "display_name": "Python 3 (ipykernel)",
   "language": "python",
   "name": "python3"
  },
  "language_info": {
   "codemirror_mode": {
    "name": "ipython",
    "version": 3
   },
   "file_extension": ".py",
   "mimetype": "text/x-python",
   "name": "python",
   "nbconvert_exporter": "python",
   "pygments_lexer": "ipython3",
   "version": "3.9.13"
  }
 },
 "nbformat": 4,
 "nbformat_minor": 5
}
