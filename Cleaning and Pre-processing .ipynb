{
 "cells": [
  {
   "cell_type": "code",
   "execution_count": 1,
   "id": "6146e3d7",
   "metadata": {},
   "outputs": [],
   "source": [
    "import pandas as pd\n",
    "from pathlib import Path\n",
    "import openpyxl\n",
    "# Clean and preprocess the budget data, handling missing values, standardizing formats, \n",
    "# and ensuring data consistency. \n",
    "# Perform initial checks to ensure the dataset is ready for analysis.\n",
    "budget_path_2019 = Path(\"Resources/approved-operating-budget-summary-2019.xlsx\") #2019\n",
    "budget2019_df = pd.read_excel(budget_path_2019, sheet_name='2019')\n",
    "budget_path_2020 = Path(\"Resources/approved-operating-budget-summary-2020.xlsx\") #2020\n",
    "budget2020_df = pd.read_excel(budget_path_2020, sheet_name='open data')\n",
    "budget_path_2021 = Path(\"Resources/approved-operating-budget-summary-2021.xlsx\") #2021\n",
    "budget2021_df = pd.read_excel(budget_path_2021, sheet_name='2021')\n",
    "budget_path_2022 = Path(\"Resources/approved-operating-budget-summary-2022.xlsx\") #2022\n",
    "budget2022_df = pd.read_excel(budget_path_2022, sheet_name='Open Data')\n",
    "budget_path_2023 = Path(\"Resources/approved-operating-budget-summary-2023.xlsx\") #2023\n",
    "budget2023_df = pd.read_excel(budget_path_2023, sheet_name='Open Data')"
   ]
  },
  {
   "cell_type": "code",
   "execution_count": 55,
   "id": "f8cd7bab",
   "metadata": {},
   "outputs": [
    {
     "ename": "KeyError",
     "evalue": "'Worksheet 2019 does not exist.'",
     "output_type": "error",
     "traceback": [
      "\u001b[0;31m---------------------------------------------------------------------------\u001b[0m",
      "\u001b[0;31mKeyError\u001b[0m                                  Traceback (most recent call last)",
      "\u001b[0;32m/var/folders/nh/7vhf8kmd3nbg3k0j8yf9t99r0000gn/T/ipykernel_26335/558308837.py\u001b[0m in \u001b[0;36m<module>\u001b[0;34m\u001b[0m\n\u001b[1;32m      1\u001b[0m \u001b[0;31m# Changing the names of the excel worksheets so they are consistent\u001b[0m\u001b[0;34m\u001b[0m\u001b[0;34m\u001b[0m\u001b[0m\n\u001b[1;32m      2\u001b[0m \u001b[0mworkbook2019\u001b[0m \u001b[0;34m=\u001b[0m \u001b[0mopenpyxl\u001b[0m\u001b[0;34m.\u001b[0m\u001b[0mload_workbook\u001b[0m\u001b[0;34m(\u001b[0m\u001b[0mbudget_path_2019\u001b[0m\u001b[0;34m)\u001b[0m \u001b[0;31m#opening the 2019 approved budget summary workbook\u001b[0m\u001b[0;34m\u001b[0m\u001b[0;34m\u001b[0m\u001b[0m\n\u001b[0;32m----> 3\u001b[0;31m \u001b[0mrename_2019_sheet\u001b[0m \u001b[0;34m=\u001b[0m \u001b[0mworkbook2019\u001b[0m\u001b[0;34m[\u001b[0m\u001b[0;34m'2019'\u001b[0m\u001b[0;34m]\u001b[0m \u001b[0;31m#selecting the excel sheet to rename\u001b[0m\u001b[0;34m\u001b[0m\u001b[0;34m\u001b[0m\u001b[0m\n\u001b[0m\u001b[1;32m      4\u001b[0m \u001b[0mrename_2019_sheet\u001b[0m\u001b[0;34m.\u001b[0m\u001b[0mtitle\u001b[0m \u001b[0;34m=\u001b[0m \u001b[0;34m'Open Data'\u001b[0m \u001b[0;31m#changing the title\u001b[0m\u001b[0;34m\u001b[0m\u001b[0;34m\u001b[0m\u001b[0m\n\u001b[1;32m      5\u001b[0m \u001b[0mworkbook2019\u001b[0m\u001b[0;34m.\u001b[0m\u001b[0msave\u001b[0m\u001b[0;34m(\u001b[0m\u001b[0mbudget_path_2019\u001b[0m\u001b[0;34m)\u001b[0m  \u001b[0;31m#saving the modified file using the original file path\u001b[0m\u001b[0;34m\u001b[0m\u001b[0;34m\u001b[0m\u001b[0m\n",
      "\u001b[0;32m~/opt/anaconda3/lib/python3.9/site-packages/openpyxl/workbook/workbook.py\u001b[0m in \u001b[0;36m__getitem__\u001b[0;34m(self, key)\u001b[0m\n\u001b[1;32m    286\u001b[0m             \u001b[0;32mif\u001b[0m \u001b[0msheet\u001b[0m\u001b[0;34m.\u001b[0m\u001b[0mtitle\u001b[0m \u001b[0;34m==\u001b[0m \u001b[0mkey\u001b[0m\u001b[0;34m:\u001b[0m\u001b[0;34m\u001b[0m\u001b[0;34m\u001b[0m\u001b[0m\n\u001b[1;32m    287\u001b[0m                 \u001b[0;32mreturn\u001b[0m \u001b[0msheet\u001b[0m\u001b[0;34m\u001b[0m\u001b[0;34m\u001b[0m\u001b[0m\n\u001b[0;32m--> 288\u001b[0;31m         \u001b[0;32mraise\u001b[0m \u001b[0mKeyError\u001b[0m\u001b[0;34m(\u001b[0m\u001b[0;34m\"Worksheet {0} does not exist.\"\u001b[0m\u001b[0;34m.\u001b[0m\u001b[0mformat\u001b[0m\u001b[0;34m(\u001b[0m\u001b[0mkey\u001b[0m\u001b[0;34m)\u001b[0m\u001b[0;34m)\u001b[0m\u001b[0;34m\u001b[0m\u001b[0;34m\u001b[0m\u001b[0m\n\u001b[0m\u001b[1;32m    289\u001b[0m \u001b[0;34m\u001b[0m\u001b[0m\n\u001b[1;32m    290\u001b[0m     \u001b[0;32mdef\u001b[0m \u001b[0m__delitem__\u001b[0m\u001b[0;34m(\u001b[0m\u001b[0mself\u001b[0m\u001b[0;34m,\u001b[0m \u001b[0mkey\u001b[0m\u001b[0;34m)\u001b[0m\u001b[0;34m:\u001b[0m\u001b[0;34m\u001b[0m\u001b[0;34m\u001b[0m\u001b[0m\n",
      "\u001b[0;31mKeyError\u001b[0m: 'Worksheet 2019 does not exist.'"
     ]
    }
   ],
   "source": [
    "# Changing the names of the excel worksheets so they are consistent\n",
    "workbook2019 = openpyxl.load_workbook(budget_path_2019) #opening the 2019 approved budget summary workbook\n",
    "rename_2019_sheet = workbook2019['2019'] #selecting the excel sheet to rename\n",
    "rename_2019_sheet.title = 'Open Data' #changing the title \n",
    "workbook2019.save(budget_path_2019)  #saving the modified file using the original file path\n",
    "workbook2019.close()  #closing the workbook\n",
    "#Only runs once and permanently changes the name"
   ]
  },
  {
   "cell_type": "code",
   "execution_count": 46,
   "id": "0e8cd5fe",
   "metadata": {
    "scrolled": true
   },
   "outputs": [],
   "source": [
    "workbook2021 = openpyxl.load_workbook(budget_path_2021) #opening the 2019 approved budget summary workbook\n",
    "sheet_names = workbook2021.sheetnames # Get the sheet names of the workbook\n",
    "if '2021' in sheet_names: # if '2021' is in the sheet names\n",
    "    rename_2021_sheet = workbook2021['2021']  # Selecting the Excel sheet to rename\n",
    "    rename_2021_sheet.title = 'Open Data'  # Changing the title\n",
    "    workbook2021.save(budget_path_2021) #Saving the modified excel sheet\n",
    "workbook2021.close() # Closing the workbook"
   ]
  },
  {
   "cell_type": "code",
   "execution_count": null,
   "id": "e4e48978",
   "metadata": {},
   "outputs": [],
   "source": [
    "#Checking for null values"
   ]
  },
  {
   "cell_type": "code",
   "execution_count": 94,
   "id": "d5339791",
   "metadata": {},
   "outputs": [],
   "source": [
    "null_2019 = budget2019_df.isnull()   \n",
    "null_per_column_2019 = null_2019.sum()\n",
    "null_2020 = budget2020_df.isnull() \n",
    "null_per_column_2020 = null_2020.sum()\n",
    "null_2021  = budget2021_df.isnull() \n",
    "null_per_column_2021 = null_2021.sum()\n",
    "null_2022 = budget2022_df.isnull()  \n",
    "null_per_column_2022 = null_2022.sum()\n",
    "null_2023 = budget2023_df.isnull()   \n",
    "null_per_column_2023 = null_2023.sum()"
   ]
  },
  {
   "cell_type": "code",
   "execution_count": 95,
   "id": "ac478721",
   "metadata": {},
   "outputs": [
    {
     "name": "stdout",
     "output_type": "stream",
     "text": [
      "Program              0\n",
      "Service              0\n",
      "Activity             0\n",
      "Expense/Revenue      0\n",
      "Category Name        0\n",
      "Sub-Category Name    0\n",
      "Commitment item      0\n",
      "2019                 0\n",
      "dtype: int64\n"
     ]
    }
   ],
   "source": [
    "print(null_per_column_2019)"
   ]
  },
  {
   "cell_type": "code",
   "execution_count": 96,
   "id": "fdb3afeb",
   "metadata": {},
   "outputs": [
    {
     "name": "stdout",
     "output_type": "stream",
     "text": [
      "Program              0\n",
      "Service              0\n",
      "Activity             0\n",
      "Expense/Revenue      0\n",
      "Category Name        0\n",
      "Sub-Category Name    0\n",
      "Commitment item      0\n",
      "2020                 0\n",
      "dtype: int64\n"
     ]
    }
   ],
   "source": [
    "print(null_per_column_2020)"
   ]
  },
  {
   "cell_type": "code",
   "execution_count": 97,
   "id": "28b6a768",
   "metadata": {},
   "outputs": [
    {
     "name": "stdout",
     "output_type": "stream",
     "text": [
      "Program              0\n",
      "Service              0\n",
      "Activity             0\n",
      "Expense/Revenue      0\n",
      "Category Name        0\n",
      "Sub-Category Name    0\n",
      "Commitment item      0\n",
      "2021                 0\n",
      "dtype: int64\n"
     ]
    }
   ],
   "source": [
    "print(null_per_column_2021)"
   ]
  },
  {
   "cell_type": "code",
   "execution_count": 98,
   "id": "66db3fca",
   "metadata": {},
   "outputs": [
    {
     "name": "stdout",
     "output_type": "stream",
     "text": [
      "Program              0\n",
      "Service              0\n",
      "Activity             0\n",
      "Expense/Revenue      0\n",
      "Category Name        0\n",
      "Sub-Category Name    0\n",
      "Commitment item      0\n",
      "2022                 0\n",
      "dtype: int64\n"
     ]
    }
   ],
   "source": [
    "print(null_per_column_2022)"
   ]
  },
  {
   "cell_type": "code",
   "execution_count": 99,
   "id": "ce141c99",
   "metadata": {},
   "outputs": [
    {
     "name": "stdout",
     "output_type": "stream",
     "text": [
      "Program              0\n",
      "Service              0\n",
      "Activity             0\n",
      "Expense/Revenue      0\n",
      "Category Name        0\n",
      "Sub-Category Name    0\n",
      "Commitment item      0\n",
      "2023                 0\n",
      "dtype: int64\n"
     ]
    }
   ],
   "source": [
    "print(null_per_column_2023)"
   ]
  },
  {
   "cell_type": "code",
   "execution_count": 58,
   "id": "62df2977",
   "metadata": {},
   "outputs": [],
   "source": [
    "df_list = [budget2019_df,budget2020_df,budget2021_df,budget2022_df,budget2023_df]"
   ]
  },
  {
   "cell_type": "code",
   "execution_count": 59,
   "id": "ccf6d539",
   "metadata": {},
   "outputs": [],
   "source": [
    "#Renaming the last column in the data set to Budgeted Amount \n",
    "for i in range(len(df_list)):\n",
    "    year = 2019 + i\n",
    "    df_list[i].rename(columns={year: 'Budgeted amount'}, inplace=True)"
   ]
  },
  {
   "cell_type": "code",
   "execution_count": null,
   "id": "dfa0f533",
   "metadata": {},
   "outputs": [],
   "source": [
    "#Dropping duplicates"
   ]
  },
  {
   "cell_type": "code",
   "execution_count": 102,
   "id": "11ff57d3",
   "metadata": {},
   "outputs": [],
   "source": [
    "for i in range(len(df_list)):\n",
    "    df_list[i].drop_duplicates(subset='Budgeted amount', inplace=True)"
   ]
  },
  {
   "cell_type": "code",
   "execution_count": null,
   "id": "e3df80cb",
   "metadata": {},
   "outputs": [],
   "source": [
    "#Changing the scientific notation to the power of 6"
   ]
  },
  {
   "cell_type": "code",
   "execution_count": 60,
   "id": "d90be69b",
   "metadata": {},
   "outputs": [],
   "source": [
    "format_sci_notation = lambda x: '{:.6e}'.format(x)\n",
    "for df in df_list:\n",
    "    df['Budgeted amount'] = df['Budgeted amount'].apply(format_sci_notation)"
   ]
  },
  {
   "cell_type": "code",
   "execution_count": null,
   "id": "a5e77c4c",
   "metadata": {},
   "outputs": [],
   "source": [
    "#Seperating expenses and revenues into separate dataframes"
   ]
  },
  {
   "cell_type": "code",
   "execution_count": 61,
   "id": "beb9efe8",
   "metadata": {},
   "outputs": [],
   "source": [
    "budget2019_df_exp = budget2019_df[budget2019_df['Expense/Revenue']=='Expenses']\n",
    "budget2020_df_exp = budget2020_df[budget2020_df['Expense/Revenue']=='Expenses']\n",
    "budget2021_df_exp = budget2021_df[budget2021_df['Expense/Revenue']=='Expenses']\n",
    "budget2022_df_exp = budget2022_df[budget2022_df['Expense/Revenue']=='Expenses']\n",
    "budget2023_df_exp = budget2023_df[budget2023_df['Expense/Revenue']=='Expenses']"
   ]
  },
  {
   "cell_type": "code",
   "execution_count": 62,
   "id": "57c9c115",
   "metadata": {},
   "outputs": [],
   "source": [
    "budget2019_df_rev = budget2019_df[budget2019_df['Expense/Revenue']=='Revenues']\n",
    "budget2020_df_rev = budget2020_df[budget2020_df['Expense/Revenue']=='Revenues']\n",
    "budget2021_df_rev = budget2021_df[budget2021_df['Expense/Revenue']=='Revenues']\n",
    "budget2022_df_rev = budget2022_df[budget2022_df['Expense/Revenue']=='Revenues']\n",
    "budget2023_df_rev = budget2023_df[budget2023_df['Expense/Revenue']=='Revenues']"
   ]
  },
  {
   "cell_type": "code",
   "execution_count": 49,
   "id": "5d63fd67",
   "metadata": {},
   "outputs": [
    {
     "data": {
      "text/plain": [
       "array(['Salaries And Benefits', 'Materials & Supplies', 'Equipment',\n",
       "       'Service And Rent', 'Contribution To Reserves/Reserve Funds',\n",
       "       'Inter-Divisional Charges', 'Other Expenditures',\n",
       "       'Contribution To Capital'], dtype=object)"
      ]
     },
     "execution_count": 49,
     "metadata": {},
     "output_type": "execute_result"
    }
   ],
   "source": [
    "budget2019_df_exp['Category Name'].unique()\n"
   ]
  },
  {
   "cell_type": "code",
   "execution_count": 71,
   "id": "2bf406e7",
   "metadata": {},
   "outputs": [
    {
     "name": "stderr",
     "output_type": "stream",
     "text": [
      "/var/folders/nh/7vhf8kmd3nbg3k0j8yf9t99r0000gn/T/ipykernel_26335/1872614076.py:2: SettingWithCopyWarning: \n",
      "A value is trying to be set on a copy of a slice from a DataFrame.\n",
      "Try using .loc[row_indexer,col_indexer] = value instead\n",
      "\n",
      "See the caveats in the documentation: https://pandas.pydata.org/pandas-docs/stable/user_guide/indexing.html#returning-a-view-versus-a-copy\n",
      "  salary_and_benefit['Budgeted amount'] = pd.to_numeric(salary_and_benefit['Budgeted amount'], errors='coerce')\n"
     ]
    },
    {
     "data": {
      "text/plain": [
       "217639.7"
      ]
     },
     "execution_count": 71,
     "metadata": {},
     "output_type": "execute_result"
    }
   ],
   "source": [
    "salary_and_benefit = budget2019_df_exp[budget2019_df_exp['Category Name']=='Salaries And Benefits']\n",
    "salary_and_benefit['Budgeted amount'] = pd.to_numeric(salary_and_benefit['Budgeted amount'], errors='coerce')\n",
    "salary_and_benefit.head()\n",
    "upper_quartiles = salary_and_benefit['Budgeted amount'].quantile(0.75)\n",
    "upper_quartiles\n",
    "# lower_quartiles = salary_and_benefit['Budgeted Amount'].quantile(0.25)\n",
    "# iqr = upper_quartiles- lower_quartiles\n",
    "# outliers = (salary_and_benefit['Budgeted Amount'] < lower_bound) | (salary_and_benefit['Budgeted Amount'] > upper_bound)\n",
    "# outliers"
   ]
  },
  {
   "cell_type": "code",
   "execution_count": 72,
   "id": "2e548524",
   "metadata": {},
   "outputs": [
    {
     "data": {
      "text/html": [
       "<div>\n",
       "<style scoped>\n",
       "    .dataframe tbody tr th:only-of-type {\n",
       "        vertical-align: middle;\n",
       "    }\n",
       "\n",
       "    .dataframe tbody tr th {\n",
       "        vertical-align: top;\n",
       "    }\n",
       "\n",
       "    .dataframe thead th {\n",
       "        text-align: right;\n",
       "    }\n",
       "</style>\n",
       "<table border=\"1\" class=\"dataframe\">\n",
       "  <thead>\n",
       "    <tr style=\"text-align: right;\">\n",
       "      <th></th>\n",
       "      <th>Budgeted amount</th>\n",
       "    </tr>\n",
       "  </thead>\n",
       "  <tbody>\n",
       "    <tr>\n",
       "      <th>count</th>\n",
       "      <td>3.663000e+03</td>\n",
       "    </tr>\n",
       "    <tr>\n",
       "      <th>mean</th>\n",
       "      <td>1.618358e+06</td>\n",
       "    </tr>\n",
       "    <tr>\n",
       "      <th>std</th>\n",
       "      <td>2.519502e+07</td>\n",
       "    </tr>\n",
       "    <tr>\n",
       "      <th>min</th>\n",
       "      <td>-1.047789e+08</td>\n",
       "    </tr>\n",
       "    <tr>\n",
       "      <th>25%</th>\n",
       "      <td>9.203715e+03</td>\n",
       "    </tr>\n",
       "    <tr>\n",
       "      <th>50%</th>\n",
       "      <td>4.531212e+04</td>\n",
       "    </tr>\n",
       "    <tr>\n",
       "      <th>75%</th>\n",
       "      <td>2.176397e+05</td>\n",
       "    </tr>\n",
       "    <tr>\n",
       "      <th>max</th>\n",
       "      <td>1.080924e+09</td>\n",
       "    </tr>\n",
       "  </tbody>\n",
       "</table>\n",
       "</div>"
      ],
      "text/plain": [
       "       Budgeted amount\n",
       "count     3.663000e+03\n",
       "mean      1.618358e+06\n",
       "std       2.519502e+07\n",
       "min      -1.047789e+08\n",
       "25%       9.203715e+03\n",
       "50%       4.531212e+04\n",
       "75%       2.176397e+05\n",
       "max       1.080924e+09"
      ]
     },
     "execution_count": 72,
     "metadata": {},
     "output_type": "execute_result"
    }
   ],
   "source": [
    "salary_and_benefit.describe()"
   ]
  },
  {
   "cell_type": "code",
   "execution_count": null,
   "id": "063df20e",
   "metadata": {},
   "outputs": [],
   "source": [
    "# Put treatments into a list for for loop (and later for plot labels)\n",
    "regimens = ['Capomulin', 'Ramicane', 'Infubinol', 'Ceftamin']\n",
    "\n",
    "# Create empty list to fill with tumor vol data (for plotting)\n",
    "tumor_vol_data = []\n",
    "outliers_dict = {} \n",
    "# Calculate the IQR and quantitatively determine if there are any potential outliers. \n",
    "for regimen in regimens: \n",
    "    \n",
    "    # Locate the rows which contain mice on each drug and get the tumor volumes\n",
    "    rows_mice = tumor_volume_data[tumor_volume_data['Drug Regimen']==regimen]['Tumor Volume (mm3)']\n",
    "    # add subset \n",
    "    tumor_vol_data.append(rows_mice)\n",
    "    \n",
    "    # Determine outliers using upper and lower bounds\n",
    "    regimen_quartiles = rows_mice.quantile([.25,.5,.75])\n",
    "    lower_quartile = regimen_quartiles[0.25]\n",
    "    upper_quartile = regimen_quartiles[0.75]\n",
    "    inter_qr = upper_quartile - lower_quartile\n",
    "    \n",
    "    lower_bound = lower_quartile - (1.5*inter_qr)\n",
    "    upper_bound = upper_quartile + (1.5*inter_qr)\n",
    "    \n",
    "    # Find outliers\n",
    "    regimen_outliers = [value for value in rows_mice if value < lower_bound or value > upper_bound]\n",
    "    # Store outliers in the dictionary\n",
    "    outliers_dict[regimen] = regimen_outliers\n",
    "    # Print the treatment name with its corresponding outliers\n",
    "    print(f\"Outliers for {regimen}: {regimen_outliers}\")"
   ]
  }
 ],
 "metadata": {
  "kernelspec": {
   "display_name": "Python 3 (ipykernel)",
   "language": "python",
   "name": "python3"
  },
  "language_info": {
   "codemirror_mode": {
    "name": "ipython",
    "version": 3
   },
   "file_extension": ".py",
   "mimetype": "text/x-python",
   "name": "python",
   "nbconvert_exporter": "python",
   "pygments_lexer": "ipython3",
   "version": "3.9.13"
  }
 },
 "nbformat": 4,
 "nbformat_minor": 5
}
