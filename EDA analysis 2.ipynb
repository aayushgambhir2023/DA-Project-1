{
 "cells": [
  {
   "cell_type": "code",
   "execution_count": null,
   "id": "8bf75815",
   "metadata": {},
   "outputs": [],
   "source": [
    "%run Outlier_analysis"
   ]
  },
  {
   "cell_type": "code",
   "execution_count": null,
   "id": "e564b1a5",
   "metadata": {},
   "outputs": [],
   "source": []
  }
 ],
 "metadata": {
  "kernelspec": {
   "display_name": "Python 3 (ipykernel)",
   "language": "python",
   "name": "python3"
  },
  "language_info": {
   "codemirror_mode": {
    "name": "ipython",
    "version": 3
   },
   "file_extension": ".py",
   "mimetype": "text/x-python",
   "name": "python",
   "nbconvert_exporter": "python",
   "pygments_lexer": "ipython3",
   "version": "3.9.13"
  }
 },
 "nbformat": 4,
 "nbformat_minor": 5
}
