{
 "cells": [
  {
   "cell_type": "code",
   "execution_count": null,
   "id": "c5cbf30e",
   "metadata": {},
   "outputs": [],
   "source": [
    "%run Outlier_analysis"
   ]
  },
  {
   "cell_type": "code",
   "execution_count": null,
   "id": "4a6fecf7",
   "metadata": {},
   "outputs": [],
   "source": [
    "sum_by_program = renamed_expenses.groupby('Program')['Budgeted amount'].sum()\n",
    "program_expenditure_df = pd.DataFrame(sum_by_program)\n",
    "program_expenditure_df.sort_values('Budgeted amount', ascending=False)"
   ]
  },
  {
   "cell_type": "code",
   "execution_count": 2,
   "id": "7123f6c0",
   "metadata": {},
   "outputs": [
    {
     "ename": "NameError",
     "evalue": "name 'sum_by_program' is not defined",
     "output_type": "error",
     "traceback": [
      "\u001b[0;31m---------------------------------------------------------------------------\u001b[0m",
      "\u001b[0;31mNameError\u001b[0m                                 Traceback (most recent call last)",
      "\u001b[0;32m/var/folders/nh/7vhf8kmd3nbg3k0j8yf9t99r0000gn/T/ipykernel_61690/1101290747.py\u001b[0m in \u001b[0;36m<module>\u001b[0;34m\u001b[0m\n\u001b[0;32m----> 1\u001b[0;31m \u001b[0msum_by_program\u001b[0m\u001b[0;34m[\u001b[0m\u001b[0;34m'Budgeted amount'\u001b[0m\u001b[0;34m]\u001b[0m\u001b[0;34m.\u001b[0m\u001b[0mmax\u001b[0m\u001b[0;34m(\u001b[0m\u001b[0;34m)\u001b[0m\u001b[0;34m\u001b[0m\u001b[0;34m\u001b[0m\u001b[0m\n\u001b[0m",
      "\u001b[0;31mNameError\u001b[0m: name 'sum_by_program' is not defined"
     ]
    }
   ],
   "source": [
    "sum_by_program['Budgeted amount'].max()"
   ]
  }
 ],
 "metadata": {
  "kernelspec": {
   "display_name": "Python 3 (ipykernel)",
   "language": "python",
   "name": "python3"
  },
  "language_info": {
   "codemirror_mode": {
    "name": "ipython",
    "version": 3
   },
   "file_extension": ".py",
   "mimetype": "text/x-python",
   "name": "python",
   "nbconvert_exporter": "python",
   "pygments_lexer": "ipython3",
   "version": "3.9.13"
  }
 },
 "nbformat": 4,
 "nbformat_minor": 5
}
