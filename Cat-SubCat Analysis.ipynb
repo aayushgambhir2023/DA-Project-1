{
 "cells": [
  {
   "cell_type": "code",
   "execution_count": 11,
   "id": "a54adb55",
   "metadata": {},
   "outputs": [],
   "source": [
    "import pandas as pd\n",
    "from pathlib import Path\n",
    "import numpy as np\n",
    "import matplotlib.pyplot as plt\n",
    "import requests\n",
    "from scipy.stats import linregress\n",
    "from scipy import stats\n",
    "import scipy.stats as st\n",
    "import pandas as pd\n",
    "\n",
    "# Clean and preprocess the budget data, handling missing values, standardizing formats, \n",
    "# and ensuring data consistency. \n",
    "# Perform initial checks to ensure the dataset is ready for analysis."
   ]
  },
  {
   "cell_type": "code",
   "execution_count": 12,
   "id": "a0e3ae55",
   "metadata": {},
   "outputs": [],
   "source": [
    "#Loading the data into dataframes"
   ]
  },
  {
   "cell_type": "code",
   "execution_count": 13,
   "id": "b8b8028a",
   "metadata": {},
   "outputs": [],
   "source": [
    "budget_path_2019 = Path(\"approved-operating-budget-summary-2019.xlsx\") #2019\n",
    "budget2019_df = pd.read_excel(budget_path_2019, sheet_name='2019')\n",
    "budget_path_2020 = Path(\"approved-operating-budget-summary-2020.xlsx\") #2020\n",
    "budget2020_df = pd.read_excel(budget_path_2020, sheet_name='open data')\n",
    "budget_path_2021 = Path(\"approved-operating-budget-summary-2021.xlsx\") #2021\n",
    "budget2021_df = pd.read_excel(budget_path_2021, sheet_name='2021')\n",
    "budget_path_2022 = Path(\"approved-operating-budget-summary-2022.xlsx\") #2022\n",
    "budget2022_df = pd.read_excel(budget_path_2022, sheet_name='Open Data')\n",
    "budget_path_2023 = Path(\"approved-operating-budget-summary-2023.xlsx\") #2023\n",
    "budget2023_df = pd.read_excel(budget_path_2023, sheet_name='Open Data')"
   ]
  },
  {
   "cell_type": "code",
   "execution_count": 14,
   "id": "ca265c9f",
   "metadata": {},
   "outputs": [],
   "source": [
    "#Checking for null values using the isnull function, and printing the number of null values in the data frame"
   ]
  },
  {
   "cell_type": "code",
   "execution_count": 15,
   "id": "9c3a323e",
   "metadata": {},
   "outputs": [
    {
     "name": "stdout",
     "output_type": "stream",
     "text": [
      "Program              0\n",
      "Service              0\n",
      "Activity             0\n",
      "Expense/Revenue      0\n",
      "Category Name        0\n",
      "Sub-Category Name    0\n",
      "Commitment item      0\n",
      "2019                 0\n",
      "dtype: int64\n"
     ]
    }
   ],
   "source": [
    "null_2019 = budget2019_df.isnull()   #checking for null values\n",
    "null_per_column_2019 = null_2019.sum()\n",
    "print(null_per_column_2019)"
   ]
  },
  {
   "cell_type": "code",
   "execution_count": 16,
   "id": "41444cb2",
   "metadata": {},
   "outputs": [
    {
     "name": "stdout",
     "output_type": "stream",
     "text": [
      "Program              0\n",
      "Service              0\n",
      "Activity             0\n",
      "Expense/Revenue      0\n",
      "Category Name        0\n",
      "Sub-Category Name    0\n",
      "Commitment item      0\n",
      "2020                 0\n",
      "dtype: int64\n"
     ]
    }
   ],
   "source": [
    "null_2020 = budget2020_df.isnull() #checking for null values\n",
    "null_per_column_2020 = null_2020.sum()\n",
    "print(null_per_column_2020)"
   ]
  },
  {
   "cell_type": "code",
   "execution_count": 17,
   "id": "2fc3dde5",
   "metadata": {},
   "outputs": [
    {
     "name": "stdout",
     "output_type": "stream",
     "text": [
      "Program              0\n",
      "Service              0\n",
      "Activity             0\n",
      "Expense/Revenue      0\n",
      "Category Name        0\n",
      "Sub-Category Name    0\n",
      "Commitment item      0\n",
      "2021                 0\n",
      "dtype: int64\n"
     ]
    }
   ],
   "source": [
    "null_2021  = budget2021_df.isnull() #checking for null values\n",
    "null_per_column_2021 = null_2021.sum()\n",
    "print(null_per_column_2021)"
   ]
  },
  {
   "cell_type": "code",
   "execution_count": 18,
   "id": "0ac6a89c",
   "metadata": {},
   "outputs": [
    {
     "name": "stdout",
     "output_type": "stream",
     "text": [
      "Program              0\n",
      "Service              0\n",
      "Activity             0\n",
      "Expense/Revenue      0\n",
      "Category Name        0\n",
      "Sub-Category Name    0\n",
      "Commitment item      0\n",
      "2022                 0\n",
      "dtype: int64\n"
     ]
    }
   ],
   "source": [
    "null_2022 = budget2022_df.isnull()  #checking for null values\n",
    "null_per_column_2022 = null_2022.sum()\n",
    "print(null_per_column_2022)"
   ]
  },
  {
   "cell_type": "code",
   "execution_count": 19,
   "id": "e77400b7",
   "metadata": {},
   "outputs": [
    {
     "name": "stdout",
     "output_type": "stream",
     "text": [
      "Program              0\n",
      "Service              0\n",
      "Activity             0\n",
      "Expense/Revenue      0\n",
      "Category Name        0\n",
      "Sub-Category Name    0\n",
      "Commitment item      0\n",
      "2023                 0\n",
      "dtype: int64\n"
     ]
    }
   ],
   "source": [
    "null_2023 = budget2023_df.isnull()    #checking for null values\n",
    "null_per_column_2023 = null_2023.sum()\n",
    "print(null_per_column_2023)"
   ]
  },
  {
   "cell_type": "code",
   "execution_count": 20,
   "id": "14f3735b",
   "metadata": {},
   "outputs": [],
   "source": [
    "#Renaming the last column in the data set to Budgeted Amount Year"
   ]
  },
  {
   "cell_type": "code",
   "execution_count": 21,
   "id": "26eca081",
   "metadata": {},
   "outputs": [],
   "source": [
    "budget2019_df.rename(columns={2019.0: 'Budgeted amount 2019'}, inplace=True)\n",
    "budget2020_df.rename(columns={2020.0: 'Budgeted amount 2020'}, inplace=True)\n",
    "budget2021_df.rename(columns={2021.0: 'Budgeted amount 2021'}, inplace=True)\n",
    "budget2022_df.rename(columns={2022.0: 'Budgeted amount 2022'}, inplace=True)\n",
    "budget2023_df.rename(columns={2023.0: 'Budgeted amount 2023'}, inplace=True)"
   ]
  },
  {
   "cell_type": "code",
   "execution_count": 22,
   "id": "fa3ebe42",
   "metadata": {},
   "outputs": [],
   "source": [
    "#Checking for duplicates "
   ]
  },
  {
   "cell_type": "code",
   "execution_count": 23,
   "id": "73947f56",
   "metadata": {},
   "outputs": [],
   "source": [
    "##  Counts number of values in each dataframe before dropping duplicates"
   ]
  },
  {
   "cell_type": "code",
   "execution_count": 24,
   "id": "a017964a",
   "metadata": {},
   "outputs": [
    {
     "data": {
      "text/plain": [
       "Program                 19428\n",
       "Service                 19428\n",
       "Activity                19428\n",
       "Expense/Revenue         19428\n",
       "Category Name           19428\n",
       "Sub-Category Name       19428\n",
       "Commitment item         19428\n",
       "Budgeted amount 2019    19428\n",
       "dtype: int64"
      ]
     },
     "execution_count": 24,
     "metadata": {},
     "output_type": "execute_result"
    }
   ],
   "source": [
    "budget2019_df.count()"
   ]
  },
  {
   "cell_type": "code",
   "execution_count": 25,
   "id": "421c90af",
   "metadata": {},
   "outputs": [
    {
     "data": {
      "text/plain": [
       "Program                 17779\n",
       "Service                 17779\n",
       "Activity                17779\n",
       "Expense/Revenue         17779\n",
       "Category Name           17779\n",
       "Sub-Category Name       17779\n",
       "Commitment item         17779\n",
       "Budgeted amount 2020    17779\n",
       "dtype: int64"
      ]
     },
     "execution_count": 25,
     "metadata": {},
     "output_type": "execute_result"
    }
   ],
   "source": [
    "budget2020_df.count()"
   ]
  },
  {
   "cell_type": "code",
   "execution_count": 26,
   "id": "5a3ada99",
   "metadata": {},
   "outputs": [
    {
     "data": {
      "text/plain": [
       "Program                 20816\n",
       "Service                 20816\n",
       "Activity                20816\n",
       "Expense/Revenue         20816\n",
       "Category Name           20816\n",
       "Sub-Category Name       20816\n",
       "Commitment item         20816\n",
       "Budgeted amount 2021    20816\n",
       "dtype: int64"
      ]
     },
     "execution_count": 26,
     "metadata": {},
     "output_type": "execute_result"
    }
   ],
   "source": [
    "budget2021_df.count()"
   ]
  },
  {
   "cell_type": "code",
   "execution_count": 27,
   "id": "8981c132",
   "metadata": {},
   "outputs": [
    {
     "data": {
      "text/plain": [
       "Program                 19714\n",
       "Service                 19714\n",
       "Activity                19714\n",
       "Expense/Revenue         19714\n",
       "Category Name           19714\n",
       "Sub-Category Name       19714\n",
       "Commitment item         19714\n",
       "Budgeted amount 2022    19714\n",
       "dtype: int64"
      ]
     },
     "execution_count": 27,
     "metadata": {},
     "output_type": "execute_result"
    }
   ],
   "source": [
    "budget2022_df.count()"
   ]
  },
  {
   "cell_type": "code",
   "execution_count": 28,
   "id": "1841707b",
   "metadata": {},
   "outputs": [
    {
     "data": {
      "text/plain": [
       "Program                 20127\n",
       "Service                 20127\n",
       "Activity                20127\n",
       "Expense/Revenue         20127\n",
       "Category Name           20127\n",
       "Sub-Category Name       20127\n",
       "Commitment item         20127\n",
       "Budgeted amount 2023    20127\n",
       "dtype: int64"
      ]
     },
     "execution_count": 28,
     "metadata": {},
     "output_type": "execute_result"
    }
   ],
   "source": [
    "budget2023_df.count()"
   ]
  },
  {
   "cell_type": "code",
   "execution_count": 29,
   "id": "fb89ee39",
   "metadata": {},
   "outputs": [
    {
     "data": {
      "text/html": [
       "<div>\n",
       "<style scoped>\n",
       "    .dataframe tbody tr th:only-of-type {\n",
       "        vertical-align: middle;\n",
       "    }\n",
       "\n",
       "    .dataframe tbody tr th {\n",
       "        vertical-align: top;\n",
       "    }\n",
       "\n",
       "    .dataframe thead th {\n",
       "        text-align: right;\n",
       "    }\n",
       "</style>\n",
       "<table border=\"1\" class=\"dataframe\">\n",
       "  <thead>\n",
       "    <tr style=\"text-align: right;\">\n",
       "      <th></th>\n",
       "      <th>Program</th>\n",
       "      <th>Service</th>\n",
       "      <th>Activity</th>\n",
       "      <th>Expense/Revenue</th>\n",
       "      <th>Category Name</th>\n",
       "      <th>Sub-Category Name</th>\n",
       "      <th>Commitment item</th>\n",
       "      <th>Budgeted amount 2023</th>\n",
       "    </tr>\n",
       "  </thead>\n",
       "  <tbody>\n",
       "    <tr>\n",
       "      <th>0</th>\n",
       "      <td>311 Toronto</td>\n",
       "      <td>311 Development</td>\n",
       "      <td>311 PMO</td>\n",
       "      <td>Expenses</td>\n",
       "      <td>Benefits</td>\n",
       "      <td>Benefits</td>\n",
       "      <td>Canada Pension Plan</td>\n",
       "      <td>63293.40</td>\n",
       "    </tr>\n",
       "    <tr>\n",
       "      <th>1</th>\n",
       "      <td>311 Toronto</td>\n",
       "      <td>311 Development</td>\n",
       "      <td>311 PMO</td>\n",
       "      <td>Expenses</td>\n",
       "      <td>Service And Rent</td>\n",
       "      <td>Telecommnuncation</td>\n",
       "      <td>Cellular Telephones</td>\n",
       "      <td>2830.00</td>\n",
       "    </tr>\n",
       "    <tr>\n",
       "      <th>2</th>\n",
       "      <td>311 Toronto</td>\n",
       "      <td>311 Development</td>\n",
       "      <td>311 PMO</td>\n",
       "      <td>Expenses</td>\n",
       "      <td>Benefits</td>\n",
       "      <td>Benefits</td>\n",
       "      <td>Comprehensive Medical</td>\n",
       "      <td>72595.32</td>\n",
       "    </tr>\n",
       "    <tr>\n",
       "      <th>3</th>\n",
       "      <td>311 Toronto</td>\n",
       "      <td>311 Development</td>\n",
       "      <td>311 PMO</td>\n",
       "      <td>Expenses</td>\n",
       "      <td>Benefits</td>\n",
       "      <td>Benefits</td>\n",
       "      <td>Dental Plan</td>\n",
       "      <td>37800.96</td>\n",
       "    </tr>\n",
       "    <tr>\n",
       "      <th>4</th>\n",
       "      <td>311 Toronto</td>\n",
       "      <td>311 Development</td>\n",
       "      <td>311 PMO</td>\n",
       "      <td>Expenses</td>\n",
       "      <td>Benefits</td>\n",
       "      <td>Benefits</td>\n",
       "      <td>Employment Insurance</td>\n",
       "      <td>22992.96</td>\n",
       "    </tr>\n",
       "    <tr>\n",
       "      <th>...</th>\n",
       "      <td>...</td>\n",
       "      <td>...</td>\n",
       "      <td>...</td>\n",
       "      <td>...</td>\n",
       "      <td>...</td>\n",
       "      <td>...</td>\n",
       "      <td>...</td>\n",
       "      <td>...</td>\n",
       "    </tr>\n",
       "    <tr>\n",
       "      <th>20114</th>\n",
       "      <td>Yonge-Dundas Square</td>\n",
       "      <td>Public Square And Event Venue</td>\n",
       "      <td>Not assigned</td>\n",
       "      <td>Expenses</td>\n",
       "      <td>Service And Rent</td>\n",
       "      <td>Services</td>\n",
       "      <td>Other Expenses</td>\n",
       "      <td>714500.00</td>\n",
       "    </tr>\n",
       "    <tr>\n",
       "      <th>20115</th>\n",
       "      <td>Yonge-Dundas Square</td>\n",
       "      <td>Public Square And Event Venue</td>\n",
       "      <td>Not assigned</td>\n",
       "      <td>Expenses</td>\n",
       "      <td>Service And Rent</td>\n",
       "      <td>Services</td>\n",
       "      <td>Other Professional And Technical Service</td>\n",
       "      <td>66000.00</td>\n",
       "    </tr>\n",
       "    <tr>\n",
       "      <th>20123</th>\n",
       "      <td>Yonge-Dundas Square</td>\n",
       "      <td>Public Square And Event Venue</td>\n",
       "      <td>Not assigned</td>\n",
       "      <td>Revenues</td>\n",
       "      <td>Contribution From Reserves/Reserve Funds</td>\n",
       "      <td>Contribution From Reserves/Reserve Funds</td>\n",
       "      <td>Contributions From Reserves</td>\n",
       "      <td>-33519.00</td>\n",
       "    </tr>\n",
       "    <tr>\n",
       "      <th>20124</th>\n",
       "      <td>Yonge-Dundas Square</td>\n",
       "      <td>Public Square And Event Venue</td>\n",
       "      <td>Not assigned</td>\n",
       "      <td>Revenues</td>\n",
       "      <td>User Fees &amp; Donations</td>\n",
       "      <td>User Fees</td>\n",
       "      <td>Fees, Service Charges</td>\n",
       "      <td>-836250.00</td>\n",
       "    </tr>\n",
       "    <tr>\n",
       "      <th>20126</th>\n",
       "      <td>Yonge-Dundas Square</td>\n",
       "      <td>Public Square And Event Venue</td>\n",
       "      <td>Not assigned</td>\n",
       "      <td>Revenues</td>\n",
       "      <td>Other Revenue</td>\n",
       "      <td>Miscellaneous Revenues</td>\n",
       "      <td>Sundry Revenue</td>\n",
       "      <td>-880000.00</td>\n",
       "    </tr>\n",
       "  </tbody>\n",
       "</table>\n",
       "<p>15323 rows × 8 columns</p>\n",
       "</div>"
      ],
      "text/plain": [
       "                   Program                        Service      Activity  \\\n",
       "0              311 Toronto                311 Development       311 PMO   \n",
       "1              311 Toronto                311 Development       311 PMO   \n",
       "2              311 Toronto                311 Development       311 PMO   \n",
       "3              311 Toronto                311 Development       311 PMO   \n",
       "4              311 Toronto                311 Development       311 PMO   \n",
       "...                    ...                            ...           ...   \n",
       "20114  Yonge-Dundas Square  Public Square And Event Venue  Not assigned   \n",
       "20115  Yonge-Dundas Square  Public Square And Event Venue  Not assigned   \n",
       "20123  Yonge-Dundas Square  Public Square And Event Venue  Not assigned   \n",
       "20124  Yonge-Dundas Square  Public Square And Event Venue  Not assigned   \n",
       "20126  Yonge-Dundas Square  Public Square And Event Venue  Not assigned   \n",
       "\n",
       "      Expense/Revenue                             Category Name  \\\n",
       "0            Expenses                                  Benefits   \n",
       "1            Expenses                          Service And Rent   \n",
       "2            Expenses                                  Benefits   \n",
       "3            Expenses                                  Benefits   \n",
       "4            Expenses                                  Benefits   \n",
       "...               ...                                       ...   \n",
       "20114        Expenses                          Service And Rent   \n",
       "20115        Expenses                          Service And Rent   \n",
       "20123        Revenues  Contribution From Reserves/Reserve Funds   \n",
       "20124        Revenues                     User Fees & Donations   \n",
       "20126        Revenues                             Other Revenue   \n",
       "\n",
       "                              Sub-Category Name  \\\n",
       "0                                      Benefits   \n",
       "1                             Telecommnuncation   \n",
       "2                                      Benefits   \n",
       "3                                      Benefits   \n",
       "4                                      Benefits   \n",
       "...                                         ...   \n",
       "20114                                  Services   \n",
       "20115                                  Services   \n",
       "20123  Contribution From Reserves/Reserve Funds   \n",
       "20124                                 User Fees   \n",
       "20126                    Miscellaneous Revenues   \n",
       "\n",
       "                                Commitment item  Budgeted amount 2023  \n",
       "0                           Canada Pension Plan              63293.40  \n",
       "1                           Cellular Telephones               2830.00  \n",
       "2                         Comprehensive Medical              72595.32  \n",
       "3                                   Dental Plan              37800.96  \n",
       "4                          Employment Insurance              22992.96  \n",
       "...                                         ...                   ...  \n",
       "20114                            Other Expenses             714500.00  \n",
       "20115  Other Professional And Technical Service              66000.00  \n",
       "20123               Contributions From Reserves             -33519.00  \n",
       "20124                     Fees, Service Charges            -836250.00  \n",
       "20126                            Sundry Revenue            -880000.00  \n",
       "\n",
       "[15323 rows x 8 columns]"
      ]
     },
     "execution_count": 29,
     "metadata": {},
     "output_type": "execute_result"
    }
   ],
   "source": [
    "##Dropping duplicates\n",
    "budget2019_df.drop_duplicates(subset = 'Budgeted amount 2019')\n",
    "budget2020_df.drop_duplicates(subset = 'Budgeted amount 2020')\n",
    "budget2021_df.drop_duplicates(subset = 'Budgeted amount 2021')\n",
    "budget2022_df.drop_duplicates(subset = 'Budgeted amount 2022')\n",
    "budget2023_df.drop_duplicates(subset = 'Budgeted amount 2023')"
   ]
  },
  {
   "cell_type": "code",
   "execution_count": 30,
   "id": "cbcde813",
   "metadata": {},
   "outputs": [],
   "source": [
    "##Checking if count values changed after dropping duplicates"
   ]
  },
  {
   "cell_type": "code",
   "execution_count": 31,
   "id": "16ba44a0",
   "metadata": {},
   "outputs": [
    {
     "data": {
      "text/plain": [
       "Program                 19428\n",
       "Service                 19428\n",
       "Activity                19428\n",
       "Expense/Revenue         19428\n",
       "Category Name           19428\n",
       "Sub-Category Name       19428\n",
       "Commitment item         19428\n",
       "Budgeted amount 2019    19428\n",
       "dtype: int64"
      ]
     },
     "execution_count": 31,
     "metadata": {},
     "output_type": "execute_result"
    }
   ],
   "source": [
    "budget2019_df.count()"
   ]
  },
  {
   "cell_type": "code",
   "execution_count": 32,
   "id": "e7098e74",
   "metadata": {},
   "outputs": [
    {
     "data": {
      "text/plain": [
       "Program                 17779\n",
       "Service                 17779\n",
       "Activity                17779\n",
       "Expense/Revenue         17779\n",
       "Category Name           17779\n",
       "Sub-Category Name       17779\n",
       "Commitment item         17779\n",
       "Budgeted amount 2020    17779\n",
       "dtype: int64"
      ]
     },
     "execution_count": 32,
     "metadata": {},
     "output_type": "execute_result"
    }
   ],
   "source": [
    "budget2020_df.count()"
   ]
  },
  {
   "cell_type": "code",
   "execution_count": 33,
   "id": "eabde54d",
   "metadata": {},
   "outputs": [
    {
     "data": {
      "text/plain": [
       "Program                 20816\n",
       "Service                 20816\n",
       "Activity                20816\n",
       "Expense/Revenue         20816\n",
       "Category Name           20816\n",
       "Sub-Category Name       20816\n",
       "Commitment item         20816\n",
       "Budgeted amount 2021    20816\n",
       "dtype: int64"
      ]
     },
     "execution_count": 33,
     "metadata": {},
     "output_type": "execute_result"
    }
   ],
   "source": [
    "budget2021_df.count()"
   ]
  },
  {
   "cell_type": "code",
   "execution_count": 34,
   "id": "1d139b47",
   "metadata": {},
   "outputs": [
    {
     "data": {
      "text/plain": [
       "Program                 19714\n",
       "Service                 19714\n",
       "Activity                19714\n",
       "Expense/Revenue         19714\n",
       "Category Name           19714\n",
       "Sub-Category Name       19714\n",
       "Commitment item         19714\n",
       "Budgeted amount 2022    19714\n",
       "dtype: int64"
      ]
     },
     "execution_count": 34,
     "metadata": {},
     "output_type": "execute_result"
    }
   ],
   "source": [
    "budget2022_df.count()"
   ]
  },
  {
   "cell_type": "code",
   "execution_count": 35,
   "id": "32fe54bd",
   "metadata": {},
   "outputs": [
    {
     "data": {
      "text/plain": [
       "Program                 20127\n",
       "Service                 20127\n",
       "Activity                20127\n",
       "Expense/Revenue         20127\n",
       "Category Name           20127\n",
       "Sub-Category Name       20127\n",
       "Commitment item         20127\n",
       "Budgeted amount 2023    20127\n",
       "dtype: int64"
      ]
     },
     "execution_count": 35,
     "metadata": {},
     "output_type": "execute_result"
    }
   ],
   "source": [
    "budget2023_df.count()"
   ]
  },
  {
   "cell_type": "code",
   "execution_count": 36,
   "id": "91d5b53b",
   "metadata": {},
   "outputs": [],
   "source": [
    "#Checking if data types are consistent in the datasets"
   ]
  },
  {
   "cell_type": "code",
   "execution_count": 37,
   "id": "d0549638",
   "metadata": {},
   "outputs": [
    {
     "data": {
      "text/plain": [
       "Program                  object\n",
       "Service                  object\n",
       "Activity                 object\n",
       "Expense/Revenue          object\n",
       "Category Name            object\n",
       "Sub-Category Name        object\n",
       "Commitment item          object\n",
       "Budgeted amount 2019    float64\n",
       "dtype: object"
      ]
     },
     "execution_count": 37,
     "metadata": {},
     "output_type": "execute_result"
    }
   ],
   "source": [
    "budget2019_df.dtypes"
   ]
  },
  {
   "cell_type": "code",
   "execution_count": 38,
   "id": "a8e7f99c",
   "metadata": {},
   "outputs": [
    {
     "data": {
      "text/plain": [
       "Program                  object\n",
       "Service                  object\n",
       "Activity                 object\n",
       "Expense/Revenue          object\n",
       "Category Name            object\n",
       "Sub-Category Name        object\n",
       "Commitment item          object\n",
       "Budgeted amount 2020    float64\n",
       "dtype: object"
      ]
     },
     "execution_count": 38,
     "metadata": {},
     "output_type": "execute_result"
    }
   ],
   "source": [
    "budget2020_df.dtypes"
   ]
  },
  {
   "cell_type": "code",
   "execution_count": 39,
   "id": "4efce172",
   "metadata": {},
   "outputs": [
    {
     "data": {
      "text/plain": [
       "Program                  object\n",
       "Service                  object\n",
       "Activity                 object\n",
       "Expense/Revenue          object\n",
       "Category Name            object\n",
       "Sub-Category Name        object\n",
       "Commitment item          object\n",
       "Budgeted amount 2021    float64\n",
       "dtype: object"
      ]
     },
     "execution_count": 39,
     "metadata": {},
     "output_type": "execute_result"
    }
   ],
   "source": [
    "budget2021_df.dtypes"
   ]
  },
  {
   "cell_type": "code",
   "execution_count": 40,
   "id": "9fc7c1d3",
   "metadata": {},
   "outputs": [
    {
     "data": {
      "text/plain": [
       "Program                  object\n",
       "Service                  object\n",
       "Activity                 object\n",
       "Expense/Revenue          object\n",
       "Category Name            object\n",
       "Sub-Category Name        object\n",
       "Commitment item          object\n",
       "Budgeted amount 2022    float64\n",
       "dtype: object"
      ]
     },
     "execution_count": 40,
     "metadata": {},
     "output_type": "execute_result"
    }
   ],
   "source": [
    "budget2022_df.dtypes"
   ]
  },
  {
   "cell_type": "code",
   "execution_count": 41,
   "id": "ffad9279",
   "metadata": {},
   "outputs": [
    {
     "data": {
      "text/plain": [
       "Program                  object\n",
       "Service                  object\n",
       "Activity                 object\n",
       "Expense/Revenue          object\n",
       "Category Name            object\n",
       "Sub-Category Name        object\n",
       "Commitment item          object\n",
       "Budgeted amount 2023    float64\n",
       "dtype: object"
      ]
     },
     "execution_count": 41,
     "metadata": {},
     "output_type": "execute_result"
    }
   ],
   "source": [
    "budget2023_df.dtypes"
   ]
  },
  {
   "cell_type": "code",
   "execution_count": 42,
   "id": "557bad4f",
   "metadata": {},
   "outputs": [],
   "source": [
    "#Seperating the data into different dataframes based on if they are expense or revenue"
   ]
  },
  {
   "cell_type": "code",
   "execution_count": 43,
   "id": "51758525",
   "metadata": {},
   "outputs": [
    {
     "data": {
      "text/html": [
       "<div>\n",
       "<style scoped>\n",
       "    .dataframe tbody tr th:only-of-type {\n",
       "        vertical-align: middle;\n",
       "    }\n",
       "\n",
       "    .dataframe tbody tr th {\n",
       "        vertical-align: top;\n",
       "    }\n",
       "\n",
       "    .dataframe thead th {\n",
       "        text-align: right;\n",
       "    }\n",
       "</style>\n",
       "<table border=\"1\" class=\"dataframe\">\n",
       "  <thead>\n",
       "    <tr style=\"text-align: right;\">\n",
       "      <th></th>\n",
       "      <th>Program</th>\n",
       "      <th>Service</th>\n",
       "      <th>Activity</th>\n",
       "      <th>Expense/Revenue</th>\n",
       "      <th>Category Name</th>\n",
       "      <th>Sub-Category Name</th>\n",
       "      <th>Commitment item</th>\n",
       "      <th>Budgeted amount 2019</th>\n",
       "    </tr>\n",
       "  </thead>\n",
       "  <tbody>\n",
       "    <tr>\n",
       "      <th>14864</th>\n",
       "      <td>Toronto Public Health</td>\n",
       "      <td>Chronic Diseases &amp; Injuries</td>\n",
       "      <td>Chronic Diseases &amp; Injuries</td>\n",
       "      <td>Expenses</td>\n",
       "      <td>Service And Rent</td>\n",
       "      <td>Business Travel</td>\n",
       "      <td>Bus Trav - Other Exp</td>\n",
       "      <td>44.57</td>\n",
       "    </tr>\n",
       "    <tr>\n",
       "      <th>5957</th>\n",
       "      <td>Engineering &amp; Construction Services</td>\n",
       "      <td>Engineering Information</td>\n",
       "      <td>Land Information</td>\n",
       "      <td>Expenses</td>\n",
       "      <td>Salaries And Benefits</td>\n",
       "      <td>Disability</td>\n",
       "      <td>WSIB, Med &amp; Pen</td>\n",
       "      <td>3032.64</td>\n",
       "    </tr>\n",
       "  </tbody>\n",
       "</table>\n",
       "</div>"
      ],
      "text/plain": [
       "                                   Program                      Service  \\\n",
       "14864                Toronto Public Health  Chronic Diseases & Injuries   \n",
       "5957   Engineering & Construction Services      Engineering Information   \n",
       "\n",
       "                          Activity Expense/Revenue          Category Name  \\\n",
       "14864  Chronic Diseases & Injuries        Expenses       Service And Rent   \n",
       "5957              Land Information        Expenses  Salaries And Benefits   \n",
       "\n",
       "      Sub-Category Name       Commitment item  Budgeted amount 2019  \n",
       "14864   Business Travel  Bus Trav - Other Exp                 44.57  \n",
       "5957         Disability       WSIB, Med & Pen               3032.64  "
      ]
     },
     "execution_count": 43,
     "metadata": {},
     "output_type": "execute_result"
    }
   ],
   "source": [
    "budget2019_df_exp = budget2019_df[budget2019_df['Expense/Revenue']=='Expenses']\n",
    "budget2019_df_rev = budget2019_df[budget2019_df['Expense/Revenue']=='Revenues']\n",
    "budget2019_df_exp.to_excel('expense_2019.xlsx', index=False)\n",
    "budget2019_df_exp.sample(2)"
   ]
  },
  {
   "cell_type": "code",
   "execution_count": 44,
   "id": "9bce003f",
   "metadata": {},
   "outputs": [],
   "source": [
    "budget2020_df_exp = budget2020_df[budget2020_df['Expense/Revenue']=='Expenses']\n",
    "budget2020_df_rev = budget2020_df[budget2020_df['Expense/Revenue']=='Revenues']\n",
    "#budget2020_df_exp.to_excel('expense_2020.xlsx', index=False)"
   ]
  },
  {
   "cell_type": "code",
   "execution_count": 45,
   "id": "b83f92db",
   "metadata": {},
   "outputs": [],
   "source": [
    "budget2021_df_exp = budget2021_df[budget2021_df['Expense/Revenue']=='Expenses']\n",
    "budget2021_df_rev = budget2021_df[budget2021_df['Expense/Revenue']=='Revenues']\n",
    "#budget2021_df_exp.to_excel('expense_2021.xlsx', index=False)"
   ]
  },
  {
   "cell_type": "code",
   "execution_count": 46,
   "id": "1996ec81",
   "metadata": {},
   "outputs": [],
   "source": [
    "budget2022_df_exp = budget2022_df[budget2022_df['Expense/Revenue']=='Expenses']\n",
    "budget2022_df_rev = budget2022_df[budget2022_df['Expense/Revenue']=='Revenues']\n",
    "#budget2022_df_exp.to_excel('expense_2022.xlsx', index=False)"
   ]
  },
  {
   "cell_type": "code",
   "execution_count": 112,
   "id": "d1b03f15",
   "metadata": {},
   "outputs": [],
   "source": [
    "budget2023_df_exp = budget2023_df[budget2023_df['Expense/Revenue']=='Expenses']\n",
    "budget2023_df_rev = budget2023_df[budget2023_df['Expense/Revenue']=='Revenues']\n",
    "#budget2023_df_exp.to_excel('expense_2023.xlsx', index=False)"
   ]
  },
  {
   "cell_type": "code",
   "execution_count": 113,
   "id": "6ceb1741",
   "metadata": {},
   "outputs": [],
   "source": [
    "# Group by \"Category Name\" and sum the \"Budgeted amount 2019\" for each category\n",
    "category_df_2019_ak = budget2019_df_exp.groupby(\"Category Name\")[\"Budgeted amount 2019\"].sum().reset_index()\n",
    "\n",
    "# Rename the columns in the new DataFrame\n",
    "category_df_2019_ak = category_df_2019_ak.rename(columns={\"Category Name\": \"Category Name\", \"Budgeted amount 2019\": \"Budget Data 2019\"})\n",
    "\n",
    "\n",
    "#Repeating the above steps for year 2020,2021,2022,2023\n",
    "category_df_2020_ak = budget2020_df_exp.groupby(\"Category Name\")[\"Budgeted amount 2020\"].sum().reset_index()\n",
    "category_df_2020_ak = category_df_2020_ak.rename(columns={\"Category Name\": \"Category Name\", \"Budgeted amount 2020\": \"Budget Data 2020\"})\n",
    "\n",
    "\n",
    "category_df_2021_ak = budget2021_df_exp.groupby(\"Category Name\")[\"Budgeted amount 2021\"].sum().reset_index()\n",
    "category_df_2021_ak = category_df_2021_ak.rename(columns={\"Category Name\": \"Category Name\", \"Budgeted amount 2021\": \"Budget Data 2021\"})\n",
    "\n",
    "\n",
    "category_df_2022_ak = budget2022_df_exp.groupby(\"Category Name\")[\"Budgeted amount 2022\"].sum().reset_index()\n",
    "category_df_2022_ak = category_df_2022_ak.rename(columns={\"Category Name\": \"Category Name\", \"Budgeted amount 2022\": \"Budget Data 2022\"})\n",
    "\n",
    "category_df_2023_ak = budget2023_df_exp.groupby(\"Category Name\")[\"Budgeted amount 2023\"].sum().reset_index()\n",
    "category_df_2023_ak = category_df_2023_ak.rename(columns={\"Category Name\": \"Category Name\", \"Budgeted amount 2023\": \"Budget Data 2023\"})\n"
   ]
  },
  {
   "cell_type": "code",
   "execution_count": 114,
   "id": "1f3541ef",
   "metadata": {},
   "outputs": [
    {
     "data": {
      "text/html": [
       "<div>\n",
       "<style scoped>\n",
       "    .dataframe tbody tr th:only-of-type {\n",
       "        vertical-align: middle;\n",
       "    }\n",
       "\n",
       "    .dataframe tbody tr th {\n",
       "        vertical-align: top;\n",
       "    }\n",
       "\n",
       "    .dataframe thead th {\n",
       "        text-align: right;\n",
       "    }\n",
       "</style>\n",
       "<table border=\"1\" class=\"dataframe\">\n",
       "  <thead>\n",
       "    <tr style=\"text-align: right;\">\n",
       "      <th></th>\n",
       "      <th>Category Name</th>\n",
       "      <th>Budget Data 2019</th>\n",
       "      <th>Budget Data 2020</th>\n",
       "      <th>Budget Data 2021</th>\n",
       "      <th>Budget Data 2022</th>\n",
       "      <th>Budget Data 2023</th>\n",
       "    </tr>\n",
       "  </thead>\n",
       "  <tbody>\n",
       "    <tr>\n",
       "      <th>0</th>\n",
       "      <td>Contribution To Capital</td>\n",
       "      <td>3.434535e+08</td>\n",
       "      <td>3.434555e+08</td>\n",
       "      <td>3.495350e+08</td>\n",
       "      <td>3.477590e+08</td>\n",
       "      <td>3.454875e+08</td>\n",
       "    </tr>\n",
       "    <tr>\n",
       "      <th>1</th>\n",
       "      <td>Contribution To Reserves/Reserve Funds</td>\n",
       "      <td>1.374326e+09</td>\n",
       "      <td>1.492208e+09</td>\n",
       "      <td>1.569495e+09</td>\n",
       "      <td>6.790572e+08</td>\n",
       "      <td>8.177363e+08</td>\n",
       "    </tr>\n",
       "    <tr>\n",
       "      <th>2</th>\n",
       "      <td>Equipment</td>\n",
       "      <td>6.256912e+07</td>\n",
       "      <td>6.305564e+07</td>\n",
       "      <td>6.305676e+07</td>\n",
       "      <td>6.962870e+07</td>\n",
       "      <td>7.491960e+07</td>\n",
       "    </tr>\n",
       "    <tr>\n",
       "      <th>3</th>\n",
       "      <td>Inter-Divisional Charges</td>\n",
       "      <td>3.161485e+08</td>\n",
       "      <td>1.569948e+08</td>\n",
       "      <td>NaN</td>\n",
       "      <td>3.124781e+08</td>\n",
       "      <td>3.197343e+08</td>\n",
       "    </tr>\n",
       "    <tr>\n",
       "      <th>4</th>\n",
       "      <td>Materials &amp; Supplies</td>\n",
       "      <td>7.350229e+08</td>\n",
       "      <td>7.344638e+08</td>\n",
       "      <td>8.132793e+08</td>\n",
       "      <td>8.103749e+08</td>\n",
       "      <td>8.393636e+08</td>\n",
       "    </tr>\n",
       "    <tr>\n",
       "      <th>5</th>\n",
       "      <td>Other Expenditures</td>\n",
       "      <td>2.711142e+09</td>\n",
       "      <td>2.611534e+09</td>\n",
       "      <td>2.835059e+09</td>\n",
       "      <td>2.776243e+09</td>\n",
       "      <td>3.063181e+09</td>\n",
       "    </tr>\n",
       "    <tr>\n",
       "      <th>6</th>\n",
       "      <td>Salaries And Benefits</td>\n",
       "      <td>5.928046e+09</td>\n",
       "      <td>6.092481e+09</td>\n",
       "      <td>NaN</td>\n",
       "      <td>NaN</td>\n",
       "      <td>NaN</td>\n",
       "    </tr>\n",
       "    <tr>\n",
       "      <th>7</th>\n",
       "      <td>Service And Rent</td>\n",
       "      <td>2.082853e+09</td>\n",
       "      <td>2.178262e+09</td>\n",
       "      <td>2.342040e+09</td>\n",
       "      <td>2.632925e+09</td>\n",
       "      <td>3.071138e+09</td>\n",
       "    </tr>\n",
       "    <tr>\n",
       "      <th>8</th>\n",
       "      <td>Benefits</td>\n",
       "      <td>NaN</td>\n",
       "      <td>NaN</td>\n",
       "      <td>1.450706e+09</td>\n",
       "      <td>1.488014e+09</td>\n",
       "      <td>1.586110e+09</td>\n",
       "    </tr>\n",
       "    <tr>\n",
       "      <th>9</th>\n",
       "      <td>Salaries</td>\n",
       "      <td>NaN</td>\n",
       "      <td>NaN</td>\n",
       "      <td>4.781880e+09</td>\n",
       "      <td>5.108580e+09</td>\n",
       "      <td>5.313474e+09</td>\n",
       "    </tr>\n",
       "  </tbody>\n",
       "</table>\n",
       "</div>"
      ],
      "text/plain": [
       "                            Category Name  Budget Data 2019  Budget Data 2020  \\\n",
       "0                 Contribution To Capital      3.434535e+08      3.434555e+08   \n",
       "1  Contribution To Reserves/Reserve Funds      1.374326e+09      1.492208e+09   \n",
       "2                               Equipment      6.256912e+07      6.305564e+07   \n",
       "3                Inter-Divisional Charges      3.161485e+08      1.569948e+08   \n",
       "4                    Materials & Supplies      7.350229e+08      7.344638e+08   \n",
       "5                      Other Expenditures      2.711142e+09      2.611534e+09   \n",
       "6                   Salaries And Benefits      5.928046e+09      6.092481e+09   \n",
       "7                        Service And Rent      2.082853e+09      2.178262e+09   \n",
       "8                                Benefits               NaN               NaN   \n",
       "9                                Salaries               NaN               NaN   \n",
       "\n",
       "   Budget Data 2021  Budget Data 2022  Budget Data 2023  \n",
       "0      3.495350e+08      3.477590e+08      3.454875e+08  \n",
       "1      1.569495e+09      6.790572e+08      8.177363e+08  \n",
       "2      6.305676e+07      6.962870e+07      7.491960e+07  \n",
       "3               NaN      3.124781e+08      3.197343e+08  \n",
       "4      8.132793e+08      8.103749e+08      8.393636e+08  \n",
       "5      2.835059e+09      2.776243e+09      3.063181e+09  \n",
       "6               NaN               NaN               NaN  \n",
       "7      2.342040e+09      2.632925e+09      3.071138e+09  \n",
       "8      1.450706e+09      1.488014e+09      1.586110e+09  \n",
       "9      4.781880e+09      5.108580e+09      5.313474e+09  "
      ]
     },
     "execution_count": 114,
     "metadata": {},
     "output_type": "execute_result"
    }
   ],
   "source": [
    "# Merge category_df_2019_ak and category_df_2020_ak on \"Category Name\"\n",
    "merged_df_ak = pd.merge(category_df_2019_ak, category_df_2020_ak, on=\"Category Name\", how=\"outer\")\n",
    "\n",
    "# Merge the result with category_df_2021 on \"Category Name\"\n",
    "merged_df_ak = pd.merge(merged_df_ak, category_df_2021_ak, on=\"Category Name\", how=\"outer\")\n",
    "\n",
    "# Merge the result with category_df_2022 on \"Category Name\"\n",
    "merged_df_ak = pd.merge(merged_df_ak, category_df_2022_ak, on=\"Category Name\", how=\"outer\")\n",
    "\n",
    "# Merge the result with category_df_2023 on \"Category Name\"\n",
    "merged_df_ak = pd.merge(merged_df_ak, category_df_2023_ak, on=\"Category Name\", how=\"outer\")\n",
    "\n",
    "merged_df_ak"
   ]
  },
  {
   "cell_type": "code",
   "execution_count": 115,
   "id": "a84b3d41",
   "metadata": {},
   "outputs": [
    {
     "data": {
      "text/plain": [
       "0                   Contribution To Capital\n",
       "1    Contribution To Reserves/Reserve Funds\n",
       "2                                 Equipment\n",
       "3                  Inter-Divisional Charges\n",
       "4                      Materials & Supplies\n",
       "5                        Other Expenditures\n",
       "6                     Salaries And Benefits\n",
       "7                          Service And Rent\n",
       "8                                  Benefits\n",
       "9                                  Salaries\n",
       "Name: Category Name, dtype: object"
      ]
     },
     "execution_count": 115,
     "metadata": {},
     "output_type": "execute_result"
    }
   ],
   "source": [
    "# Define a function to divide numbers by 10^6 and round to 3 decimal places\n",
    "divide_and_round_ak = lambda x: round(float(x) / 1e6, 3) if pd.to_numeric(x, errors='coerce') == x else str(x)\n",
    "\n",
    "# Apply the division and rounding function to all columns in the DataFrame\n",
    "merged_df_ak_final = merged_df_ak.applymap(divide_and_round_ak)\n",
    "\n",
    "# Display the DataFrame after division and rounding\n",
    "merged_df_ak_final\n",
    "\n",
    "merged_df_ak_final[\"Category Name\"]"
   ]
  },
  {
   "cell_type": "code",
   "execution_count": 116,
   "id": "e6739866",
   "metadata": {},
   "outputs": [
    {
     "data": {
      "text/html": [
       "<div>\n",
       "<style scoped>\n",
       "    .dataframe tbody tr th:only-of-type {\n",
       "        vertical-align: middle;\n",
       "    }\n",
       "\n",
       "    .dataframe tbody tr th {\n",
       "        vertical-align: top;\n",
       "    }\n",
       "\n",
       "    .dataframe thead th {\n",
       "        text-align: right;\n",
       "    }\n",
       "</style>\n",
       "<table border=\"1\" class=\"dataframe\">\n",
       "  <thead>\n",
       "    <tr style=\"text-align: right;\">\n",
       "      <th></th>\n",
       "      <th>Category Name</th>\n",
       "      <th>Budget Data 2019</th>\n",
       "      <th>Budget Data 2020</th>\n",
       "      <th>Budget Data 2021</th>\n",
       "      <th>Budget Data 2022</th>\n",
       "      <th>Budget Data 2023</th>\n",
       "    </tr>\n",
       "  </thead>\n",
       "  <tbody>\n",
       "    <tr>\n",
       "      <th>0</th>\n",
       "      <td>Contribution To Capital</td>\n",
       "      <td>343.454</td>\n",
       "      <td>343.456</td>\n",
       "      <td>349.535</td>\n",
       "      <td>347.759</td>\n",
       "      <td>345.487</td>\n",
       "    </tr>\n",
       "    <tr>\n",
       "      <th>1</th>\n",
       "      <td>Contribution To Reserves/Reserve Funds</td>\n",
       "      <td>1374.326</td>\n",
       "      <td>1492.208</td>\n",
       "      <td>1569.495</td>\n",
       "      <td>679.057</td>\n",
       "      <td>817.736</td>\n",
       "    </tr>\n",
       "    <tr>\n",
       "      <th>2</th>\n",
       "      <td>Equipment</td>\n",
       "      <td>62.569</td>\n",
       "      <td>63.056</td>\n",
       "      <td>63.057</td>\n",
       "      <td>69.629</td>\n",
       "      <td>74.920</td>\n",
       "    </tr>\n",
       "    <tr>\n",
       "      <th>3</th>\n",
       "      <td>Inter-Divisional Charges</td>\n",
       "      <td>316.149</td>\n",
       "      <td>156.995</td>\n",
       "      <td>0.000</td>\n",
       "      <td>312.478</td>\n",
       "      <td>319.734</td>\n",
       "    </tr>\n",
       "    <tr>\n",
       "      <th>4</th>\n",
       "      <td>Materials &amp; Supplies</td>\n",
       "      <td>735.023</td>\n",
       "      <td>734.464</td>\n",
       "      <td>813.279</td>\n",
       "      <td>810.375</td>\n",
       "      <td>839.364</td>\n",
       "    </tr>\n",
       "    <tr>\n",
       "      <th>5</th>\n",
       "      <td>Other Expenditures</td>\n",
       "      <td>2711.142</td>\n",
       "      <td>2611.534</td>\n",
       "      <td>2835.059</td>\n",
       "      <td>2776.243</td>\n",
       "      <td>3063.181</td>\n",
       "    </tr>\n",
       "    <tr>\n",
       "      <th>6</th>\n",
       "      <td>Salaries And Benefits</td>\n",
       "      <td>5928.046</td>\n",
       "      <td>6092.481</td>\n",
       "      <td>6232.586</td>\n",
       "      <td>6596.594</td>\n",
       "      <td>6899.584</td>\n",
       "    </tr>\n",
       "    <tr>\n",
       "      <th>7</th>\n",
       "      <td>Service And Rent</td>\n",
       "      <td>2082.853</td>\n",
       "      <td>2178.262</td>\n",
       "      <td>2342.040</td>\n",
       "      <td>2632.925</td>\n",
       "      <td>3071.138</td>\n",
       "    </tr>\n",
       "    <tr>\n",
       "      <th>8</th>\n",
       "      <td>Benefits</td>\n",
       "      <td>0.000</td>\n",
       "      <td>0.000</td>\n",
       "      <td>1450.706</td>\n",
       "      <td>1488.014</td>\n",
       "      <td>1586.110</td>\n",
       "    </tr>\n",
       "    <tr>\n",
       "      <th>9</th>\n",
       "      <td>Salaries</td>\n",
       "      <td>0.000</td>\n",
       "      <td>0.000</td>\n",
       "      <td>4781.880</td>\n",
       "      <td>5108.580</td>\n",
       "      <td>5313.474</td>\n",
       "    </tr>\n",
       "  </tbody>\n",
       "</table>\n",
       "</div>"
      ],
      "text/plain": [
       "                            Category Name  Budget Data 2019  Budget Data 2020  \\\n",
       "0                 Contribution To Capital           343.454           343.456   \n",
       "1  Contribution To Reserves/Reserve Funds          1374.326          1492.208   \n",
       "2                               Equipment            62.569            63.056   \n",
       "3                Inter-Divisional Charges           316.149           156.995   \n",
       "4                    Materials & Supplies           735.023           734.464   \n",
       "5                      Other Expenditures          2711.142          2611.534   \n",
       "6                   Salaries And Benefits          5928.046          6092.481   \n",
       "7                        Service And Rent          2082.853          2178.262   \n",
       "8                                Benefits             0.000             0.000   \n",
       "9                                Salaries             0.000             0.000   \n",
       "\n",
       "   Budget Data 2021  Budget Data 2022  Budget Data 2023  \n",
       "0           349.535           347.759           345.487  \n",
       "1          1569.495           679.057           817.736  \n",
       "2            63.057            69.629            74.920  \n",
       "3             0.000           312.478           319.734  \n",
       "4           813.279           810.375           839.364  \n",
       "5          2835.059          2776.243          3063.181  \n",
       "6          6232.586          6596.594          6899.584  \n",
       "7          2342.040          2632.925          3071.138  \n",
       "8          1450.706          1488.014          1586.110  \n",
       "9          4781.880          5108.580          5313.474  "
      ]
     },
     "execution_count": 116,
     "metadata": {},
     "output_type": "execute_result"
    }
   ],
   "source": [
    "# Replace 'nan' strings with actual NaN values\n",
    "merged_df_ak_final.replace('nan', pd.NA, inplace=True)\n",
    "\n",
    "# Replace NaN values with 0\n",
    "merged_df_ak_final.fillna(0, inplace=True)\n",
    "merged_df_ak_final\n",
    "\n",
    "# Filter rows for \"Salaries\" and \"Benefits\" from the year 2021\n",
    "salaries_2021 = merged_df_ak_final.loc[merged_df_ak_final['Category Name'].isin(['Salaries', 'Benefits']), 'Budget Data 2021'].sum()\n",
    "salaries_2022 = merged_df_ak_final.loc[merged_df_ak_final['Category Name'].isin(['Salaries', 'Benefits']), 'Budget Data 2022'].sum()\n",
    "salaries_2023 = merged_df_ak_final.loc[merged_df_ak_final['Category Name'].isin(['Salaries', 'Benefits']), 'Budget Data 2023'].sum()\n",
    "\n",
    "# Update the \"Salaries And Benefits\" column for the year 2021\n",
    "merged_df_ak_final.loc[merged_df_ak_final['Category Name'] == 'Salaries And Benefits', 'Budget Data 2021'] = salaries_2021\n",
    "merged_df_ak_final.loc[merged_df_ak_final['Category Name'] == 'Salaries And Benefits', 'Budget Data 2022'] = salaries_2022\n",
    "merged_df_ak_final.loc[merged_df_ak_final['Category Name'] == 'Salaries And Benefits', 'Budget Data 2023'] = salaries_2023\n",
    "merged_df_ak_final"
   ]
  },
  {
   "cell_type": "code",
   "execution_count": 117,
   "id": "557cb318",
   "metadata": {},
   "outputs": [],
   "source": [
    "merged_df_ak_final=merged_df_ak_final.drop([8,9])"
   ]
  },
  {
   "cell_type": "code",
   "execution_count": 118,
   "id": "c947bf2e",
   "metadata": {},
   "outputs": [
    {
     "data": {
      "text/html": [
       "<div>\n",
       "<style scoped>\n",
       "    .dataframe tbody tr th:only-of-type {\n",
       "        vertical-align: middle;\n",
       "    }\n",
       "\n",
       "    .dataframe tbody tr th {\n",
       "        vertical-align: top;\n",
       "    }\n",
       "\n",
       "    .dataframe thead th {\n",
       "        text-align: right;\n",
       "    }\n",
       "</style>\n",
       "<table border=\"1\" class=\"dataframe\">\n",
       "  <thead>\n",
       "    <tr style=\"text-align: right;\">\n",
       "      <th></th>\n",
       "      <th>Budget Data 2019</th>\n",
       "      <th>Budget Data 2020</th>\n",
       "      <th>Budget Data 2021</th>\n",
       "      <th>Budget Data 2022</th>\n",
       "      <th>Budget Data 2023</th>\n",
       "    </tr>\n",
       "    <tr>\n",
       "      <th>Category Name</th>\n",
       "      <th></th>\n",
       "      <th></th>\n",
       "      <th></th>\n",
       "      <th></th>\n",
       "      <th></th>\n",
       "    </tr>\n",
       "  </thead>\n",
       "  <tbody>\n",
       "    <tr>\n",
       "      <th>Contribution To Capital</th>\n",
       "      <td>343.454</td>\n",
       "      <td>343.456</td>\n",
       "      <td>349.535</td>\n",
       "      <td>347.759</td>\n",
       "      <td>345.487</td>\n",
       "    </tr>\n",
       "    <tr>\n",
       "      <th>Contribution To Reserves/Reserve Funds</th>\n",
       "      <td>1374.326</td>\n",
       "      <td>1492.208</td>\n",
       "      <td>1569.495</td>\n",
       "      <td>679.057</td>\n",
       "      <td>817.736</td>\n",
       "    </tr>\n",
       "    <tr>\n",
       "      <th>Equipment</th>\n",
       "      <td>62.569</td>\n",
       "      <td>63.056</td>\n",
       "      <td>63.057</td>\n",
       "      <td>69.629</td>\n",
       "      <td>74.920</td>\n",
       "    </tr>\n",
       "    <tr>\n",
       "      <th>Inter-Divisional Charges</th>\n",
       "      <td>316.149</td>\n",
       "      <td>156.995</td>\n",
       "      <td>0.000</td>\n",
       "      <td>312.478</td>\n",
       "      <td>319.734</td>\n",
       "    </tr>\n",
       "    <tr>\n",
       "      <th>Materials &amp; Supplies</th>\n",
       "      <td>735.023</td>\n",
       "      <td>734.464</td>\n",
       "      <td>813.279</td>\n",
       "      <td>810.375</td>\n",
       "      <td>839.364</td>\n",
       "    </tr>\n",
       "    <tr>\n",
       "      <th>Other Expenditures</th>\n",
       "      <td>2711.142</td>\n",
       "      <td>2611.534</td>\n",
       "      <td>2835.059</td>\n",
       "      <td>2776.243</td>\n",
       "      <td>3063.181</td>\n",
       "    </tr>\n",
       "    <tr>\n",
       "      <th>Salaries And Benefits</th>\n",
       "      <td>5928.046</td>\n",
       "      <td>6092.481</td>\n",
       "      <td>6232.586</td>\n",
       "      <td>6596.594</td>\n",
       "      <td>6899.584</td>\n",
       "    </tr>\n",
       "    <tr>\n",
       "      <th>Service And Rent</th>\n",
       "      <td>2082.853</td>\n",
       "      <td>2178.262</td>\n",
       "      <td>2342.040</td>\n",
       "      <td>2632.925</td>\n",
       "      <td>3071.138</td>\n",
       "    </tr>\n",
       "  </tbody>\n",
       "</table>\n",
       "</div>"
      ],
      "text/plain": [
       "                                        Budget Data 2019  Budget Data 2020  \\\n",
       "Category Name                                                                \n",
       "Contribution To Capital                          343.454           343.456   \n",
       "Contribution To Reserves/Reserve Funds          1374.326          1492.208   \n",
       "Equipment                                         62.569            63.056   \n",
       "Inter-Divisional Charges                         316.149           156.995   \n",
       "Materials & Supplies                             735.023           734.464   \n",
       "Other Expenditures                              2711.142          2611.534   \n",
       "Salaries And Benefits                           5928.046          6092.481   \n",
       "Service And Rent                                2082.853          2178.262   \n",
       "\n",
       "                                        Budget Data 2021  Budget Data 2022  \\\n",
       "Category Name                                                                \n",
       "Contribution To Capital                          349.535           347.759   \n",
       "Contribution To Reserves/Reserve Funds          1569.495           679.057   \n",
       "Equipment                                         63.057            69.629   \n",
       "Inter-Divisional Charges                           0.000           312.478   \n",
       "Materials & Supplies                             813.279           810.375   \n",
       "Other Expenditures                              2835.059          2776.243   \n",
       "Salaries And Benefits                           6232.586          6596.594   \n",
       "Service And Rent                                2342.040          2632.925   \n",
       "\n",
       "                                        Budget Data 2023  \n",
       "Category Name                                             \n",
       "Contribution To Capital                          345.487  \n",
       "Contribution To Reserves/Reserve Funds           817.736  \n",
       "Equipment                                         74.920  \n",
       "Inter-Divisional Charges                         319.734  \n",
       "Materials & Supplies                             839.364  \n",
       "Other Expenditures                              3063.181  \n",
       "Salaries And Benefits                           6899.584  \n",
       "Service And Rent                                3071.138  "
      ]
     },
     "execution_count": 118,
     "metadata": {},
     "output_type": "execute_result"
    }
   ],
   "source": [
    "merged_df_ak_final.set_index(\"Category Name\")"
   ]
  },
  {
   "cell_type": "code",
   "execution_count": 192,
   "id": "e84a4cc0",
   "metadata": {},
   "outputs": [
    {
     "data": {
      "text/plain": [
       "dtype('float64')"
      ]
     },
     "execution_count": 192,
     "metadata": {},
     "output_type": "execute_result"
    }
   ],
   "source": [
    "# Assuming merged_df_ak_final is your DataFrame\n",
    "years = [\"2019\", \"2020\", \"2021\", \"2022\", \"2023\"]\n",
    "\n",
    "for year in years:\n",
    "    column_name = f\"Budget Data {year}\"\n",
    "    merged_df_ak_final[column_name] = pd.to_numeric(merged_df_ak_final[column_name], errors='coerce')\n",
    "\n",
    "total_2019_ak = merged_df_ak_final[\"Budget Data 2019\"].sum()\n",
    "total_2020_ak = merged_df_ak_final[\"Budget Data 2020\"].sum()\n",
    "total_2021_ak = merged_df_ak_final[\"Budget Data 2021\"].sum()\n",
    "total_2022_ak = merged_df_ak_final[\"Budget Data 2022\"].sum()\n",
    "total_2023_ak = merged_df_ak_final[\"Budget Data 2023\"].sum()\n",
    "\n",
    "# Create a DataFrame with the totals\n",
    "total_df_ak = pd.DataFrame([\n",
    "    {\"Year\": \"2019\", \"Total\": total_2019_ak},\n",
    "    {\"Year\": \"2020\", \"Total\": total_2020_ak},\n",
    "    {\"Year\": \"2021\", \"Total\": total_2021_ak},\n",
    "    {\"Year\": \"2022\", \"Total\": total_2022_ak},\n",
    "    {\"Year\": \"2023\", \"Total\": total_2023_ak}\n",
    "])\n",
    "total_df_ak=total_df_ak.set_index(\"Year\")\n",
    "q = total_df_ak.loc[\"2021\", \"Total\"]\n",
    "q.dtype"
   ]
  },
  {
   "cell_type": "code",
   "execution_count": 120,
   "id": "6a142256",
   "metadata": {},
   "outputs": [
    {
     "data": {
      "text/plain": [
       "Text(0, 0.5, 'Total Budget(in millions)')"
      ]
     },
     "execution_count": 120,
     "metadata": {},
     "output_type": "execute_result"
    },
    {
     "data": {
      "image/png": "[encoded data removed]",
      "text/plain": [
       "<Figure size 640x480 with 1 Axes>"
      ]
     },
     "metadata": {},
     "output_type": "display_data"
    }
   ],
   "source": [
    "# Create a bar plot\n",
    "graph1_ak = total_df_ak.plot(x=\"Year\", y=\"Total\", kind=\"bar\", legend=False)\n",
    "\n",
    "# Set plot title and labels\n",
    "plt.title(\"Total Expense by Year\")\n",
    "plt.xlabel(\"Year\")\n",
    "plt.ylabel(\"Total Budget(in millions)\")"
   ]
  },
  {
   "cell_type": "code",
   "execution_count": 148,
   "id": "180f05b4",
   "metadata": {},
   "outputs": [
    {
     "name": "stdout",
     "output_type": "stream",
     "text": [
      "                            Category Name\n",
      "0                 Contribution To Capital\n",
      "1  Contribution To Reserves/Reserve Funds\n",
      "2                               Equipment\n",
      "3                Inter-Divisional Charges\n",
      "4                    Materials & Supplies\n",
      "5                      Other Expenditures\n",
      "6                   Salaries And Benefits\n",
      "7                        Service And Rent\n"
     ]
    }
   ],
   "source": [
    "percent_df = pd.DataFrame()\n",
    "percent_df[\"Category Name\"] = merged_df_ak_final[\"Category Name\"]\n",
    "\n",
    "# Display the new DataFrame\n",
    "print(percent_df)"
   ]
  },
  {
   "cell_type": "code",
   "execution_count": 198,
   "id": "bf561954",
   "metadata": {},
   "outputs": [
    {
     "data": {
      "text/html": [
       "<div>\n",
       "<style scoped>\n",
       "    .dataframe tbody tr th:only-of-type {\n",
       "        vertical-align: middle;\n",
       "    }\n",
       "\n",
       "    .dataframe tbody tr th {\n",
       "        vertical-align: top;\n",
       "    }\n",
       "\n",
       "    .dataframe thead th {\n",
       "        text-align: right;\n",
       "    }\n",
       "</style>\n",
       "<table border=\"1\" class=\"dataframe\">\n",
       "  <thead>\n",
       "    <tr style=\"text-align: right;\">\n",
       "      <th></th>\n",
       "      <th>Category Name</th>\n",
       "      <th>2019</th>\n",
       "      <th>2020</th>\n",
       "      <th>2021</th>\n",
       "      <th>2022</th>\n",
       "      <th>2023</th>\n",
       "    </tr>\n",
       "  </thead>\n",
       "  <tbody>\n",
       "    <tr>\n",
       "      <th>0</th>\n",
       "      <td>Contribution To Capital</td>\n",
       "      <td>2.53</td>\n",
       "      <td>2.51</td>\n",
       "      <td>2.46</td>\n",
       "      <td>2.44</td>\n",
       "      <td>2.24</td>\n",
       "    </tr>\n",
       "    <tr>\n",
       "      <th>1</th>\n",
       "      <td>Contribution To Reserves/Reserve Funds</td>\n",
       "      <td>10.14</td>\n",
       "      <td>10.91</td>\n",
       "      <td>11.05</td>\n",
       "      <td>4.77</td>\n",
       "      <td>5.30</td>\n",
       "    </tr>\n",
       "    <tr>\n",
       "      <th>2</th>\n",
       "      <td>Equipment</td>\n",
       "      <td>0.46</td>\n",
       "      <td>0.46</td>\n",
       "      <td>0.44</td>\n",
       "      <td>0.49</td>\n",
       "      <td>0.49</td>\n",
       "    </tr>\n",
       "    <tr>\n",
       "      <th>3</th>\n",
       "      <td>Inter-Divisional Charges</td>\n",
       "      <td>2.33</td>\n",
       "      <td>1.15</td>\n",
       "      <td>0.00</td>\n",
       "      <td>2.20</td>\n",
       "      <td>2.07</td>\n",
       "    </tr>\n",
       "    <tr>\n",
       "      <th>4</th>\n",
       "      <td>Materials &amp; Supplies</td>\n",
       "      <td>5.42</td>\n",
       "      <td>5.37</td>\n",
       "      <td>5.73</td>\n",
       "      <td>5.70</td>\n",
       "      <td>5.44</td>\n",
       "    </tr>\n",
       "    <tr>\n",
       "      <th>5</th>\n",
       "      <td>Other Expenditures</td>\n",
       "      <td>20.00</td>\n",
       "      <td>19.10</td>\n",
       "      <td>19.96</td>\n",
       "      <td>19.52</td>\n",
       "      <td>19.85</td>\n",
       "    </tr>\n",
       "    <tr>\n",
       "      <th>6</th>\n",
       "      <td>Salaries And Benefits</td>\n",
       "      <td>43.74</td>\n",
       "      <td>44.56</td>\n",
       "      <td>43.88</td>\n",
       "      <td>46.37</td>\n",
       "      <td>44.71</td>\n",
       "    </tr>\n",
       "    <tr>\n",
       "      <th>7</th>\n",
       "      <td>Service And Rent</td>\n",
       "      <td>15.37</td>\n",
       "      <td>15.93</td>\n",
       "      <td>16.49</td>\n",
       "      <td>18.51</td>\n",
       "      <td>19.90</td>\n",
       "    </tr>\n",
       "  </tbody>\n",
       "</table>\n",
       "</div>"
      ],
      "text/plain": [
       "                            Category Name   2019   2020   2021   2022   2023\n",
       "0                 Contribution To Capital   2.53   2.51   2.46   2.44   2.24\n",
       "1  Contribution To Reserves/Reserve Funds  10.14  10.91  11.05   4.77   5.30\n",
       "2                               Equipment   0.46   0.46   0.44   0.49   0.49\n",
       "3                Inter-Divisional Charges   2.33   1.15   0.00   2.20   2.07\n",
       "4                    Materials & Supplies   5.42   5.37   5.73   5.70   5.44\n",
       "5                      Other Expenditures  20.00  19.10  19.96  19.52  19.85\n",
       "6                   Salaries And Benefits  43.74  44.56  43.88  46.37  44.71\n",
       "7                        Service And Rent  15.37  15.93  16.49  18.51  19.90"
      ]
     },
     "execution_count": 198,
     "metadata": {},
     "output_type": "execute_result"
    }
   ],
   "source": [
    "years = [\"2019\", \"2020\", \"2021\", \"2022\", \"2023\"]\n",
    "# Add columns for each year\n",
    "for year in years:\n",
    "    percent_df[f\"{year}\"] = round((merged_df_ak_final[f\"Budget Data {year}\"]/total_df_ak.loc[year, \"Total\"])*100,2)\n",
    "\n",
    "# Display the new DataFrame\n",
    "percent_df"
   ]
  },
  {
   "cell_type": "code",
   "execution_count": null,
   "id": "5cf186f1",
   "metadata": {},
   "outputs": [],
   "source": []
  },
  {
   "cell_type": "code",
   "execution_count": null,
   "id": "a869d12a",
   "metadata": {},
   "outputs": [],
   "source": []
  },
  {
   "cell_type": "code",
   "execution_count": null,
   "id": "d9fb9d90",
   "metadata": {},
   "outputs": [],
   "source": []
  },
  {
   "cell_type": "code",
   "execution_count": null,
   "id": "82f58cd1",
   "metadata": {},
   "outputs": [],
   "source": []
  },
  {
   "cell_type": "code",
   "execution_count": null,
   "id": "0e013c6e",
   "metadata": {},
   "outputs": [],
   "source": []
  },
  {
   "cell_type": "code",
   "execution_count": null,
   "id": "d416a42b",
   "metadata": {},
   "outputs": [],
   "source": []
  },
  {
   "cell_type": "code",
   "execution_count": null,
   "id": "b3d8ad35",
   "metadata": {},
   "outputs": [],
   "source": []
  }
 ],
 "metadata": {
  "kernelspec": {
   "display_name": "Python 3 (ipykernel)",
   "language": "python",
   "name": "python3"
  },
  "language_info": {
   "codemirror_mode": {
    "name": "ipython",
    "version": 3
   },
   "file_extension": ".py",
   "mimetype": "text/x-python",
   "name": "python",
   "nbconvert_exporter": "python",
   "pygments_lexer": "ipython3",
   "version": "3.11.5"
  }
 },
 "nbformat": 4,
 "nbformat_minor": 5
}
