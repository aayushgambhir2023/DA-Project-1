{
 "cells": [
  {
   "cell_type": "code",
   "execution_count": 773,
   "id": "a54adb55",
   "metadata": {},
   "outputs": [],
   "source": [
    "import pandas as pd\n",
    "from pathlib import Path\n",
    "import numpy as np\n",
    "import matplotlib.pyplot as plt\n",
    "import requests\n",
    "from scipy.stats import linregress\n",
    "from scipy import stats\n",
    "import scipy.stats as st\n",
    "import matplotlib.pyplot as plt\n",
    "import numpy as np\n",
    "\n",
    "# Clean and preprocess the budget data, handling missing values, standardizing formats, \n",
    "# and ensuring data consistency. \n",
    "# Perform initial checks to ensure the dataset is ready for analysis."
   ]
  },
  {
   "cell_type": "code",
   "execution_count": 774,
   "id": "a0e3ae55",
   "metadata": {},
   "outputs": [],
   "source": [
    "#Loading the data into dataframes"
   ]
  },
  {
   "cell_type": "code",
   "execution_count": 775,
   "id": "b8b8028a",
   "metadata": {},
   "outputs": [
    {
     "name": "stderr",
     "output_type": "stream",
     "text": [
      "/Users/anuradhakishore/anaconda3/lib/python3.11/site-packages/openpyxl/worksheet/header_footer.py:48: UserWarning: Cannot parse header or footer so it will be ignored\n",
      "  warn(\"\"\"Cannot parse header or footer so it will be ignored\"\"\")\n"
     ]
    }
   ],
   "source": [
    "budget_path_2014 = Path(\"approved-operating-budget-summary-2014.xlsx\") #2014\n",
    "budget2014_df = pd.read_excel(budget_path_2014, sheet_name='2014')\n",
    "budget_path_2015 = Path(\"approved-operating-budget-summary-2015.xlsx\") #2015\n",
    "budget2015_df = pd.read_excel(budget_path_2015, sheet_name='summary')\n",
    "budget_path_2016 = Path(\"approved-operating-budget-summary-2016.xlsx\") #2016\n",
    "budget2016_df = pd.read_excel(budget_path_2016, sheet_name='Open Data Summary')\n",
    "budget_path_2017 = Path(\"approved-operating-budget-summary-2017.xlsx\") #2017\n",
    "budget2017_df = pd.read_excel(budget_path_2017, sheet_name='2017')\n",
    "budget_path_2018 = Path(\"approved-operating-budget-summary-2018.xlsx\") #2018\n",
    "budget2018_df = pd.read_excel(budget_path_2018, sheet_name='2018')\n",
    "budget_path_2019 = Path(\"approved-operating-budget-summary-2019.xlsx\") #2019\n",
    "budget2019_df = pd.read_excel(budget_path_2019, sheet_name='2019')\n",
    "budget_path_2020 = Path(\"approved-operating-budget-summary-2020.xlsx\") #2020\n",
    "budget2020_df = pd.read_excel(budget_path_2020, sheet_name='open data')\n",
    "budget_path_2021 = Path(\"approved-operating-budget-summary-2021.xlsx\") #2021\n",
    "budget2021_df = pd.read_excel(budget_path_2021, sheet_name='2021')\n",
    "budget_path_2022 = Path(\"approved-operating-budget-summary-2022.xlsx\") #2022\n",
    "budget2022_df = pd.read_excel(budget_path_2022, sheet_name='Open Data')\n",
    "budget_path_2023 = Path(\"approved-operating-budget-summary-2023.xlsx\") #2023\n",
    "budget2023_df = pd.read_excel(budget_path_2023, sheet_name='Open Data')"
   ]
  },
  {
   "cell_type": "code",
   "execution_count": 776,
   "id": "ca265c9f",
   "metadata": {},
   "outputs": [],
   "source": [
    "#Checking for null values using the isnull function, and printing the number of null values in the data frame"
   ]
  },
  {
   "cell_type": "code",
   "execution_count": 777,
   "id": "9c3a323e",
   "metadata": {},
   "outputs": [
    {
     "name": "stdout",
     "output_type": "stream",
     "text": [
      "Program              0\n",
      "Service              0\n",
      "Activity             0\n",
      "Expense/Revenue      0\n",
      "Category Name        0\n",
      "Sub-Category Name    0\n",
      "Commitment item      0\n",
      "2019                 0\n",
      "dtype: int64\n"
     ]
    }
   ],
   "source": [
    "null_2019 = budget2019_df.isnull()   #checking for null values\n",
    "null_per_column_2019 = null_2019.sum()\n",
    "print(null_per_column_2019)"
   ]
  },
  {
   "cell_type": "code",
   "execution_count": 778,
   "id": "41444cb2",
   "metadata": {},
   "outputs": [
    {
     "name": "stdout",
     "output_type": "stream",
     "text": [
      "Program              0\n",
      "Service              0\n",
      "Activity             0\n",
      "Expense/Revenue      0\n",
      "Category Name        0\n",
      "Sub-Category Name    0\n",
      "Commitment item      0\n",
      "2020                 0\n",
      "dtype: int64\n"
     ]
    }
   ],
   "source": [
    "null_2020 = budget2020_df.isnull() #checking for null values\n",
    "null_per_column_2020 = null_2020.sum()\n",
    "print(null_per_column_2020)"
   ]
  },
  {
   "cell_type": "code",
   "execution_count": 779,
   "id": "2fc3dde5",
   "metadata": {},
   "outputs": [
    {
     "name": "stdout",
     "output_type": "stream",
     "text": [
      "Program              0\n",
      "Service              0\n",
      "Activity             0\n",
      "Expense/Revenue      0\n",
      "Category Name        0\n",
      "Sub-Category Name    0\n",
      "Commitment item      0\n",
      "2021                 0\n",
      "dtype: int64\n"
     ]
    }
   ],
   "source": [
    "null_2021  = budget2021_df.isnull() #checking for null values\n",
    "null_per_column_2021 = null_2021.sum()\n",
    "print(null_per_column_2021)"
   ]
  },
  {
   "cell_type": "code",
   "execution_count": 780,
   "id": "0ac6a89c",
   "metadata": {},
   "outputs": [
    {
     "name": "stdout",
     "output_type": "stream",
     "text": [
      "Program              0\n",
      "Service              0\n",
      "Activity             0\n",
      "Expense/Revenue      0\n",
      "Category Name        0\n",
      "Sub-Category Name    0\n",
      "Commitment item      0\n",
      "2022                 0\n",
      "dtype: int64\n"
     ]
    }
   ],
   "source": [
    "null_2022 = budget2022_df.isnull()  #checking for null values\n",
    "null_per_column_2022 = null_2022.sum()\n",
    "print(null_per_column_2022)"
   ]
  },
  {
   "cell_type": "code",
   "execution_count": 781,
   "id": "e77400b7",
   "metadata": {},
   "outputs": [
    {
     "name": "stdout",
     "output_type": "stream",
     "text": [
      "Program              0\n",
      "Service              0\n",
      "Activity             0\n",
      "Expense/Revenue      0\n",
      "Category Name        0\n",
      "Sub-Category Name    0\n",
      "Commitment item      0\n",
      "2023                 0\n",
      "dtype: int64\n"
     ]
    }
   ],
   "source": [
    "null_2023 = budget2023_df.isnull()    #checking for null values\n",
    "null_per_column_2023 = null_2023.sum()\n",
    "print(null_per_column_2023)"
   ]
  },
  {
   "cell_type": "code",
   "execution_count": 782,
   "id": "14f3735b",
   "metadata": {},
   "outputs": [],
   "source": [
    "#Renaming the last column in the data set to Budgeted Amount Year"
   ]
  },
  {
   "cell_type": "code",
   "execution_count": 783,
   "id": "26eca081",
   "metadata": {},
   "outputs": [],
   "source": [
    "budget2014_df.rename(columns={2014.0: 'Budgeted amount 2014'}, inplace=True)\n",
    "budget2015_df.rename(columns={2015.0: 'Budgeted amount 2015'}, inplace=True)\n",
    "budget2016_df.rename(columns={2016.0: 'Budgeted amount 2016'}, inplace=True)\n",
    "budget2017_df.rename(columns={2017.0: 'Budgeted amount 2017'}, inplace=True)\n",
    "budget2018_df.rename(columns={2018.0: 'Budgeted amount 2018'}, inplace=True)\n",
    "budget2019_df.rename(columns={2019.0: 'Budgeted amount 2019'}, inplace=True)\n",
    "budget2020_df.rename(columns={2020.0: 'Budgeted amount 2020'}, inplace=True)\n",
    "budget2021_df.rename(columns={2021.0: 'Budgeted amount 2021'}, inplace=True)\n",
    "budget2022_df.rename(columns={2022.0: 'Budgeted amount 2022'}, inplace=True)\n",
    "budget2023_df.rename(columns={2023.0: 'Budgeted amount 2023'}, inplace=True)"
   ]
  },
  {
   "cell_type": "code",
   "execution_count": 784,
   "id": "fa3ebe42",
   "metadata": {},
   "outputs": [],
   "source": [
    "#Checking for duplicates "
   ]
  },
  {
   "cell_type": "code",
   "execution_count": 785,
   "id": "73947f56",
   "metadata": {},
   "outputs": [],
   "source": [
    "##  Counts number of values in each dataframe before dropping duplicates"
   ]
  },
  {
   "cell_type": "code",
   "execution_count": 786,
   "id": "a017964a",
   "metadata": {},
   "outputs": [
    {
     "data": {
      "text/plain": [
       "Program                 19428\n",
       "Service                 19428\n",
       "Activity                19428\n",
       "Expense/Revenue         19428\n",
       "Category Name           19428\n",
       "Sub-Category Name       19428\n",
       "Commitment item         19428\n",
       "Budgeted amount 2019    19428\n",
       "dtype: int64"
      ]
     },
     "execution_count": 786,
     "metadata": {},
     "output_type": "execute_result"
    }
   ],
   "source": [
    "budget2019_df.count()"
   ]
  },
  {
   "cell_type": "code",
   "execution_count": 787,
   "id": "421c90af",
   "metadata": {},
   "outputs": [
    {
     "data": {
      "text/plain": [
       "Program                 17779\n",
       "Service                 17779\n",
       "Activity                17779\n",
       "Expense/Revenue         17779\n",
       "Category Name           17779\n",
       "Sub-Category Name       17779\n",
       "Commitment item         17779\n",
       "Budgeted amount 2020    17779\n",
       "dtype: int64"
      ]
     },
     "execution_count": 787,
     "metadata": {},
     "output_type": "execute_result"
    }
   ],
   "source": [
    "budget2020_df.count()"
   ]
  },
  {
   "cell_type": "code",
   "execution_count": 788,
   "id": "5a3ada99",
   "metadata": {},
   "outputs": [
    {
     "data": {
      "text/plain": [
       "Program                 20816\n",
       "Service                 20816\n",
       "Activity                20816\n",
       "Expense/Revenue         20816\n",
       "Category Name           20816\n",
       "Sub-Category Name       20816\n",
       "Commitment item         20816\n",
       "Budgeted amount 2021    20816\n",
       "dtype: int64"
      ]
     },
     "execution_count": 788,
     "metadata": {},
     "output_type": "execute_result"
    }
   ],
   "source": [
    "budget2021_df.count()"
   ]
  },
  {
   "cell_type": "code",
   "execution_count": 789,
   "id": "8981c132",
   "metadata": {},
   "outputs": [
    {
     "data": {
      "text/plain": [
       "Program                 19714\n",
       "Service                 19714\n",
       "Activity                19714\n",
       "Expense/Revenue         19714\n",
       "Category Name           19714\n",
       "Sub-Category Name       19714\n",
       "Commitment item         19714\n",
       "Budgeted amount 2022    19714\n",
       "dtype: int64"
      ]
     },
     "execution_count": 789,
     "metadata": {},
     "output_type": "execute_result"
    }
   ],
   "source": [
    "budget2022_df.count()"
   ]
  },
  {
   "cell_type": "code",
   "execution_count": 790,
   "id": "1841707b",
   "metadata": {},
   "outputs": [
    {
     "data": {
      "text/plain": [
       "Program                 20127\n",
       "Service                 20127\n",
       "Activity                20127\n",
       "Expense/Revenue         20127\n",
       "Category Name           20127\n",
       "Sub-Category Name       20127\n",
       "Commitment item         20127\n",
       "Budgeted amount 2023    20127\n",
       "dtype: int64"
      ]
     },
     "execution_count": 790,
     "metadata": {},
     "output_type": "execute_result"
    }
   ],
   "source": [
    "budget2023_df.count()"
   ]
  },
  {
   "cell_type": "code",
   "execution_count": 791,
   "id": "fb89ee39",
   "metadata": {},
   "outputs": [
    {
     "data": {
      "text/html": [
       "<div>\n",
       "<style scoped>\n",
       "    .dataframe tbody tr th:only-of-type {\n",
       "        vertical-align: middle;\n",
       "    }\n",
       "\n",
       "    .dataframe tbody tr th {\n",
       "        vertical-align: top;\n",
       "    }\n",
       "\n",
       "    .dataframe thead th {\n",
       "        text-align: right;\n",
       "    }\n",
       "</style>\n",
       "<table border=\"1\" class=\"dataframe\">\n",
       "  <thead>\n",
       "    <tr style=\"text-align: right;\">\n",
       "      <th></th>\n",
       "      <th>Program</th>\n",
       "      <th>Service</th>\n",
       "      <th>Activity</th>\n",
       "      <th>Expense/Revenue</th>\n",
       "      <th>Category Name</th>\n",
       "      <th>Sub-Category Name</th>\n",
       "      <th>Commitment item</th>\n",
       "      <th>Budgeted amount 2023</th>\n",
       "    </tr>\n",
       "  </thead>\n",
       "  <tbody>\n",
       "    <tr>\n",
       "      <th>0</th>\n",
       "      <td>311 Toronto</td>\n",
       "      <td>311 Development</td>\n",
       "      <td>311 PMO</td>\n",
       "      <td>Expenses</td>\n",
       "      <td>Benefits</td>\n",
       "      <td>Benefits</td>\n",
       "      <td>Canada Pension Plan</td>\n",
       "      <td>63293.40</td>\n",
       "    </tr>\n",
       "    <tr>\n",
       "      <th>1</th>\n",
       "      <td>311 Toronto</td>\n",
       "      <td>311 Development</td>\n",
       "      <td>311 PMO</td>\n",
       "      <td>Expenses</td>\n",
       "      <td>Service And Rent</td>\n",
       "      <td>Telecommnuncation</td>\n",
       "      <td>Cellular Telephones</td>\n",
       "      <td>2830.00</td>\n",
       "    </tr>\n",
       "    <tr>\n",
       "      <th>2</th>\n",
       "      <td>311 Toronto</td>\n",
       "      <td>311 Development</td>\n",
       "      <td>311 PMO</td>\n",
       "      <td>Expenses</td>\n",
       "      <td>Benefits</td>\n",
       "      <td>Benefits</td>\n",
       "      <td>Comprehensive Medical</td>\n",
       "      <td>72595.32</td>\n",
       "    </tr>\n",
       "    <tr>\n",
       "      <th>3</th>\n",
       "      <td>311 Toronto</td>\n",
       "      <td>311 Development</td>\n",
       "      <td>311 PMO</td>\n",
       "      <td>Expenses</td>\n",
       "      <td>Benefits</td>\n",
       "      <td>Benefits</td>\n",
       "      <td>Dental Plan</td>\n",
       "      <td>37800.96</td>\n",
       "    </tr>\n",
       "    <tr>\n",
       "      <th>4</th>\n",
       "      <td>311 Toronto</td>\n",
       "      <td>311 Development</td>\n",
       "      <td>311 PMO</td>\n",
       "      <td>Expenses</td>\n",
       "      <td>Benefits</td>\n",
       "      <td>Benefits</td>\n",
       "      <td>Employment Insurance</td>\n",
       "      <td>22992.96</td>\n",
       "    </tr>\n",
       "    <tr>\n",
       "      <th>...</th>\n",
       "      <td>...</td>\n",
       "      <td>...</td>\n",
       "      <td>...</td>\n",
       "      <td>...</td>\n",
       "      <td>...</td>\n",
       "      <td>...</td>\n",
       "      <td>...</td>\n",
       "      <td>...</td>\n",
       "    </tr>\n",
       "    <tr>\n",
       "      <th>20114</th>\n",
       "      <td>Yonge-Dundas Square</td>\n",
       "      <td>Public Square And Event Venue</td>\n",
       "      <td>Not assigned</td>\n",
       "      <td>Expenses</td>\n",
       "      <td>Service And Rent</td>\n",
       "      <td>Services</td>\n",
       "      <td>Other Expenses</td>\n",
       "      <td>714500.00</td>\n",
       "    </tr>\n",
       "    <tr>\n",
       "      <th>20115</th>\n",
       "      <td>Yonge-Dundas Square</td>\n",
       "      <td>Public Square And Event Venue</td>\n",
       "      <td>Not assigned</td>\n",
       "      <td>Expenses</td>\n",
       "      <td>Service And Rent</td>\n",
       "      <td>Services</td>\n",
       "      <td>Other Professional And Technical Service</td>\n",
       "      <td>66000.00</td>\n",
       "    </tr>\n",
       "    <tr>\n",
       "      <th>20123</th>\n",
       "      <td>Yonge-Dundas Square</td>\n",
       "      <td>Public Square And Event Venue</td>\n",
       "      <td>Not assigned</td>\n",
       "      <td>Revenues</td>\n",
       "      <td>Contribution From Reserves/Reserve Funds</td>\n",
       "      <td>Contribution From Reserves/Reserve Funds</td>\n",
       "      <td>Contributions From Reserves</td>\n",
       "      <td>-33519.00</td>\n",
       "    </tr>\n",
       "    <tr>\n",
       "      <th>20124</th>\n",
       "      <td>Yonge-Dundas Square</td>\n",
       "      <td>Public Square And Event Venue</td>\n",
       "      <td>Not assigned</td>\n",
       "      <td>Revenues</td>\n",
       "      <td>User Fees &amp; Donations</td>\n",
       "      <td>User Fees</td>\n",
       "      <td>Fees, Service Charges</td>\n",
       "      <td>-836250.00</td>\n",
       "    </tr>\n",
       "    <tr>\n",
       "      <th>20126</th>\n",
       "      <td>Yonge-Dundas Square</td>\n",
       "      <td>Public Square And Event Venue</td>\n",
       "      <td>Not assigned</td>\n",
       "      <td>Revenues</td>\n",
       "      <td>Other Revenue</td>\n",
       "      <td>Miscellaneous Revenues</td>\n",
       "      <td>Sundry Revenue</td>\n",
       "      <td>-880000.00</td>\n",
       "    </tr>\n",
       "  </tbody>\n",
       "</table>\n",
       "<p>15323 rows × 8 columns</p>\n",
       "</div>"
      ],
      "text/plain": [
       "                   Program                        Service      Activity  \\\n",
       "0              311 Toronto                311 Development       311 PMO   \n",
       "1              311 Toronto                311 Development       311 PMO   \n",
       "2              311 Toronto                311 Development       311 PMO   \n",
       "3              311 Toronto                311 Development       311 PMO   \n",
       "4              311 Toronto                311 Development       311 PMO   \n",
       "...                    ...                            ...           ...   \n",
       "20114  Yonge-Dundas Square  Public Square And Event Venue  Not assigned   \n",
       "20115  Yonge-Dundas Square  Public Square And Event Venue  Not assigned   \n",
       "20123  Yonge-Dundas Square  Public Square And Event Venue  Not assigned   \n",
       "20124  Yonge-Dundas Square  Public Square And Event Venue  Not assigned   \n",
       "20126  Yonge-Dundas Square  Public Square And Event Venue  Not assigned   \n",
       "\n",
       "      Expense/Revenue                             Category Name  \\\n",
       "0            Expenses                                  Benefits   \n",
       "1            Expenses                          Service And Rent   \n",
       "2            Expenses                                  Benefits   \n",
       "3            Expenses                                  Benefits   \n",
       "4            Expenses                                  Benefits   \n",
       "...               ...                                       ...   \n",
       "20114        Expenses                          Service And Rent   \n",
       "20115        Expenses                          Service And Rent   \n",
       "20123        Revenues  Contribution From Reserves/Reserve Funds   \n",
       "20124        Revenues                     User Fees & Donations   \n",
       "20126        Revenues                             Other Revenue   \n",
       "\n",
       "                              Sub-Category Name  \\\n",
       "0                                      Benefits   \n",
       "1                             Telecommnuncation   \n",
       "2                                      Benefits   \n",
       "3                                      Benefits   \n",
       "4                                      Benefits   \n",
       "...                                         ...   \n",
       "20114                                  Services   \n",
       "20115                                  Services   \n",
       "20123  Contribution From Reserves/Reserve Funds   \n",
       "20124                                 User Fees   \n",
       "20126                    Miscellaneous Revenues   \n",
       "\n",
       "                                Commitment item  Budgeted amount 2023  \n",
       "0                           Canada Pension Plan              63293.40  \n",
       "1                           Cellular Telephones               2830.00  \n",
       "2                         Comprehensive Medical              72595.32  \n",
       "3                                   Dental Plan              37800.96  \n",
       "4                          Employment Insurance              22992.96  \n",
       "...                                         ...                   ...  \n",
       "20114                            Other Expenses             714500.00  \n",
       "20115  Other Professional And Technical Service              66000.00  \n",
       "20123               Contributions From Reserves             -33519.00  \n",
       "20124                     Fees, Service Charges            -836250.00  \n",
       "20126                            Sundry Revenue            -880000.00  \n",
       "\n",
       "[15323 rows x 8 columns]"
      ]
     },
     "execution_count": 791,
     "metadata": {},
     "output_type": "execute_result"
    }
   ],
   "source": [
    "##Dropping duplicates\n",
    "budget2014_df.drop_duplicates(subset = 'Budgeted amount 2014')\n",
    "budget2015_df.drop_duplicates(subset = 'Budgeted amount 2015')\n",
    "budget2016_df.drop_duplicates(subset = 'Budgeted amount 2016')\n",
    "budget2017_df.drop_duplicates(subset = 'Budgeted amount 2017')\n",
    "budget2018_df.drop_duplicates(subset = 'Budgeted amount 2018')\n",
    "budget2019_df.drop_duplicates(subset = 'Budgeted amount 2019')\n",
    "budget2020_df.drop_duplicates(subset = 'Budgeted amount 2020')\n",
    "budget2021_df.drop_duplicates(subset = 'Budgeted amount 2021')\n",
    "budget2022_df.drop_duplicates(subset = 'Budgeted amount 2022')\n",
    "budget2023_df.drop_duplicates(subset = 'Budgeted amount 2023')"
   ]
  },
  {
   "cell_type": "code",
   "execution_count": 792,
   "id": "cbcde813",
   "metadata": {},
   "outputs": [],
   "source": [
    "##Checking if count values changed after dropping duplicates"
   ]
  },
  {
   "cell_type": "code",
   "execution_count": 793,
   "id": "a566dd18",
   "metadata": {},
   "outputs": [
    {
     "data": {
      "text/plain": [
       "Program                 2631\n",
       "Service                 2631\n",
       "Activity                2631\n",
       "Category Name           2631\n",
       "Category                2631\n",
       "Expense/Revenue         2631\n",
       "Budgeted amount 2015    2631\n",
       "dtype: int64"
      ]
     },
     "execution_count": 793,
     "metadata": {},
     "output_type": "execute_result"
    }
   ],
   "source": [
    "budget2015_df.count()"
   ]
  },
  {
   "cell_type": "code",
   "execution_count": 794,
   "id": "30eae67e",
   "metadata": {},
   "outputs": [
    {
     "data": {
      "text/plain": [
       "Program                 1312\n",
       "Service                 1312\n",
       "Category Name           1312\n",
       "Expense/Revenue         1312\n",
       "Budgeted amount 2016    1312\n",
       "dtype: int64"
      ]
     },
     "execution_count": 794,
     "metadata": {},
     "output_type": "execute_result"
    }
   ],
   "source": [
    "budget2016_df.count()"
   ]
  },
  {
   "cell_type": "code",
   "execution_count": 795,
   "id": "16ba44a0",
   "metadata": {},
   "outputs": [
    {
     "data": {
      "text/plain": [
       "Program                 19428\n",
       "Service                 19428\n",
       "Activity                19428\n",
       "Expense/Revenue         19428\n",
       "Category Name           19428\n",
       "Sub-Category Name       19428\n",
       "Commitment item         19428\n",
       "Budgeted amount 2019    19428\n",
       "dtype: int64"
      ]
     },
     "execution_count": 795,
     "metadata": {},
     "output_type": "execute_result"
    }
   ],
   "source": [
    "budget2019_df.count()"
   ]
  },
  {
   "cell_type": "code",
   "execution_count": 796,
   "id": "e7098e74",
   "metadata": {},
   "outputs": [
    {
     "data": {
      "text/plain": [
       "Program                 17779\n",
       "Service                 17779\n",
       "Activity                17779\n",
       "Expense/Revenue         17779\n",
       "Category Name           17779\n",
       "Sub-Category Name       17779\n",
       "Commitment item         17779\n",
       "Budgeted amount 2020    17779\n",
       "dtype: int64"
      ]
     },
     "execution_count": 796,
     "metadata": {},
     "output_type": "execute_result"
    }
   ],
   "source": [
    "budget2020_df.count()"
   ]
  },
  {
   "cell_type": "code",
   "execution_count": 797,
   "id": "eabde54d",
   "metadata": {},
   "outputs": [
    {
     "data": {
      "text/plain": [
       "Program                 20816\n",
       "Service                 20816\n",
       "Activity                20816\n",
       "Expense/Revenue         20816\n",
       "Category Name           20816\n",
       "Sub-Category Name       20816\n",
       "Commitment item         20816\n",
       "Budgeted amount 2021    20816\n",
       "dtype: int64"
      ]
     },
     "execution_count": 797,
     "metadata": {},
     "output_type": "execute_result"
    }
   ],
   "source": [
    "budget2021_df.count()"
   ]
  },
  {
   "cell_type": "code",
   "execution_count": 798,
   "id": "1d139b47",
   "metadata": {},
   "outputs": [
    {
     "data": {
      "text/plain": [
       "Program                 19714\n",
       "Service                 19714\n",
       "Activity                19714\n",
       "Expense/Revenue         19714\n",
       "Category Name           19714\n",
       "Sub-Category Name       19714\n",
       "Commitment item         19714\n",
       "Budgeted amount 2022    19714\n",
       "dtype: int64"
      ]
     },
     "execution_count": 798,
     "metadata": {},
     "output_type": "execute_result"
    }
   ],
   "source": [
    "budget2022_df.count()"
   ]
  },
  {
   "cell_type": "code",
   "execution_count": 799,
   "id": "32fe54bd",
   "metadata": {},
   "outputs": [
    {
     "data": {
      "text/plain": [
       "Program                 20127\n",
       "Service                 20127\n",
       "Activity                20127\n",
       "Expense/Revenue         20127\n",
       "Category Name           20127\n",
       "Sub-Category Name       20127\n",
       "Commitment item         20127\n",
       "Budgeted amount 2023    20127\n",
       "dtype: int64"
      ]
     },
     "execution_count": 799,
     "metadata": {},
     "output_type": "execute_result"
    }
   ],
   "source": [
    "budget2023_df.count()"
   ]
  },
  {
   "cell_type": "code",
   "execution_count": 800,
   "id": "91d5b53b",
   "metadata": {},
   "outputs": [],
   "source": [
    "#Checking if data types are consistent in the datasets"
   ]
  },
  {
   "cell_type": "code",
   "execution_count": 801,
   "id": "d0549638",
   "metadata": {},
   "outputs": [
    {
     "data": {
      "text/plain": [
       "Program                  object\n",
       "Service                  object\n",
       "Activity                 object\n",
       "Expense/Revenue          object\n",
       "Category Name            object\n",
       "Sub-Category Name        object\n",
       "Commitment item          object\n",
       "Budgeted amount 2019    float64\n",
       "dtype: object"
      ]
     },
     "execution_count": 801,
     "metadata": {},
     "output_type": "execute_result"
    }
   ],
   "source": [
    "budget2019_df.dtypes"
   ]
  },
  {
   "cell_type": "code",
   "execution_count": 802,
   "id": "a8e7f99c",
   "metadata": {},
   "outputs": [
    {
     "data": {
      "text/plain": [
       "Program                  object\n",
       "Service                  object\n",
       "Activity                 object\n",
       "Expense/Revenue          object\n",
       "Category Name            object\n",
       "Sub-Category Name        object\n",
       "Commitment item          object\n",
       "Budgeted amount 2020    float64\n",
       "dtype: object"
      ]
     },
     "execution_count": 802,
     "metadata": {},
     "output_type": "execute_result"
    }
   ],
   "source": [
    "budget2020_df.dtypes"
   ]
  },
  {
   "cell_type": "code",
   "execution_count": 803,
   "id": "4efce172",
   "metadata": {},
   "outputs": [
    {
     "data": {
      "text/plain": [
       "Program                  object\n",
       "Service                  object\n",
       "Activity                 object\n",
       "Expense/Revenue          object\n",
       "Category Name            object\n",
       "Sub-Category Name        object\n",
       "Commitment item          object\n",
       "Budgeted amount 2021    float64\n",
       "dtype: object"
      ]
     },
     "execution_count": 803,
     "metadata": {},
     "output_type": "execute_result"
    }
   ],
   "source": [
    "budget2021_df.dtypes"
   ]
  },
  {
   "cell_type": "code",
   "execution_count": 804,
   "id": "9fc7c1d3",
   "metadata": {},
   "outputs": [
    {
     "data": {
      "text/plain": [
       "Program                  object\n",
       "Service                  object\n",
       "Activity                 object\n",
       "Expense/Revenue          object\n",
       "Category Name            object\n",
       "Sub-Category Name        object\n",
       "Commitment item          object\n",
       "Budgeted amount 2022    float64\n",
       "dtype: object"
      ]
     },
     "execution_count": 804,
     "metadata": {},
     "output_type": "execute_result"
    }
   ],
   "source": [
    "budget2022_df.dtypes"
   ]
  },
  {
   "cell_type": "code",
   "execution_count": 805,
   "id": "ffad9279",
   "metadata": {},
   "outputs": [
    {
     "data": {
      "text/plain": [
       "Program                  object\n",
       "Service                  object\n",
       "Activity                 object\n",
       "Expense/Revenue          object\n",
       "Category Name            object\n",
       "Sub-Category Name        object\n",
       "Commitment item          object\n",
       "Budgeted amount 2023    float64\n",
       "dtype: object"
      ]
     },
     "execution_count": 805,
     "metadata": {},
     "output_type": "execute_result"
    }
   ],
   "source": [
    "budget2023_df.dtypes"
   ]
  },
  {
   "cell_type": "code",
   "execution_count": 806,
   "id": "557bad4f",
   "metadata": {},
   "outputs": [],
   "source": [
    "#Seperating the data into different dataframes based on if they are expense or revenue"
   ]
  },
  {
   "cell_type": "code",
   "execution_count": 807,
   "id": "51758525",
   "metadata": {},
   "outputs": [
    {
     "data": {
      "text/html": [
       "<div>\n",
       "<style scoped>\n",
       "    .dataframe tbody tr th:only-of-type {\n",
       "        vertical-align: middle;\n",
       "    }\n",
       "\n",
       "    .dataframe tbody tr th {\n",
       "        vertical-align: top;\n",
       "    }\n",
       "\n",
       "    .dataframe thead th {\n",
       "        text-align: right;\n",
       "    }\n",
       "</style>\n",
       "<table border=\"1\" class=\"dataframe\">\n",
       "  <thead>\n",
       "    <tr style=\"text-align: right;\">\n",
       "      <th></th>\n",
       "      <th>Program</th>\n",
       "      <th>Service</th>\n",
       "      <th>Activity</th>\n",
       "      <th>Expense/Revenue</th>\n",
       "      <th>Category Name</th>\n",
       "      <th>Sub-Category Name</th>\n",
       "      <th>Commitment item</th>\n",
       "      <th>Budgeted amount 2019</th>\n",
       "    </tr>\n",
       "  </thead>\n",
       "  <tbody>\n",
       "    <tr>\n",
       "      <th>2212</th>\n",
       "      <td>Parks, Forestry &amp; Recreation</td>\n",
       "      <td>Community Recreation</td>\n",
       "      <td>Instructional Recreation Programs</td>\n",
       "      <td>Expenses</td>\n",
       "      <td>Service And Rent</td>\n",
       "      <td>Services</td>\n",
       "      <td>Medical Reports</td>\n",
       "      <td>730.42</td>\n",
       "    </tr>\n",
       "    <tr>\n",
       "      <th>6733</th>\n",
       "      <td>Fire Services</td>\n",
       "      <td>Fire Safety Education</td>\n",
       "      <td>School Based Fire Education</td>\n",
       "      <td>Expenses</td>\n",
       "      <td>Materials &amp; Supplies</td>\n",
       "      <td>Supplies</td>\n",
       "      <td>Misc Materials</td>\n",
       "      <td>230.12</td>\n",
       "    </tr>\n",
       "  </tbody>\n",
       "</table>\n",
       "</div>"
      ],
      "text/plain": [
       "                           Program                Service  \\\n",
       "2212  Parks, Forestry & Recreation   Community Recreation   \n",
       "6733                 Fire Services  Fire Safety Education   \n",
       "\n",
       "                               Activity Expense/Revenue         Category Name  \\\n",
       "2212  Instructional Recreation Programs        Expenses      Service And Rent   \n",
       "6733        School Based Fire Education        Expenses  Materials & Supplies   \n",
       "\n",
       "     Sub-Category Name  Commitment item  Budgeted amount 2019  \n",
       "2212          Services  Medical Reports                730.42  \n",
       "6733          Supplies   Misc Materials                230.12  "
      ]
     },
     "execution_count": 807,
     "metadata": {},
     "output_type": "execute_result"
    }
   ],
   "source": [
    "budget2019_df_exp = budget2019_df[budget2019_df['Expense/Revenue']=='Expenses']\n",
    "budget2019_df_rev = budget2019_df[budget2019_df['Expense/Revenue']=='Revenues']\n",
    "budget2019_df_exp.to_excel('expense_2019.xlsx', index=False)\n",
    "budget2019_df_exp.sample(2)"
   ]
  },
  {
   "cell_type": "code",
   "execution_count": 808,
   "id": "9bce003f",
   "metadata": {},
   "outputs": [],
   "source": [
    "budget2020_df_exp = budget2020_df[budget2020_df['Expense/Revenue']=='Expenses']\n",
    "budget2020_df_rev = budget2020_df[budget2020_df['Expense/Revenue']=='Revenues']\n",
    "#budget2020_df_exp.to_excel('expense_2020.xlsx', index=False)"
   ]
  },
  {
   "cell_type": "code",
   "execution_count": 809,
   "id": "b83f92db",
   "metadata": {},
   "outputs": [],
   "source": [
    "budget2021_df_exp = budget2021_df[budget2021_df['Expense/Revenue']=='Expenses']\n",
    "budget2021_df_rev = budget2021_df[budget2021_df['Expense/Revenue']=='Revenues']\n",
    "#budget2021_df_exp.to_excel('expense_2021.xlsx', index=False)"
   ]
  },
  {
   "cell_type": "code",
   "execution_count": 810,
   "id": "1996ec81",
   "metadata": {},
   "outputs": [],
   "source": [
    "budget2022_df_exp = budget2022_df[budget2022_df['Expense/Revenue']=='Expenses']\n",
    "budget2022_df_rev = budget2022_df[budget2022_df['Expense/Revenue']=='Revenues']\n",
    "#budget2022_df_exp.to_excel('expense_2022.xlsx', index=False)"
   ]
  },
  {
   "cell_type": "code",
   "execution_count": 811,
   "id": "d1b03f15",
   "metadata": {},
   "outputs": [],
   "source": [
    "budget2023_df_exp = budget2023_df[budget2023_df['Expense/Revenue']=='Expenses']\n",
    "budget2023_df_rev = budget2023_df[budget2023_df['Expense/Revenue']=='Revenues']\n",
    "#budget2023_df_exp.to_excel('expense_2023.xlsx', index=False)"
   ]
  },
  {
   "cell_type": "code",
   "execution_count": 812,
   "id": "6ceb1741",
   "metadata": {},
   "outputs": [],
   "source": [
    "# Group by \"Category Name\" and sum the \"Budgeted amount 2019\" for each category\n",
    "category_df_2019_ak = budget2019_df_exp.groupby(\"Category Name\")[\"Budgeted amount 2019\"].sum().reset_index()\n",
    "\n",
    "# Rename the columns in the new DataFrame\n",
    "category_df_2019_ak = category_df_2019_ak.rename(columns={\"Category Name\": \"Category Name\", \"Budgeted amount 2019\": \"Budget Data 2019\"})\n",
    "\n",
    "\n",
    "#Repeating the above steps for year 2020,2021,2022,2023\n",
    "category_df_2020_ak = budget2020_df_exp.groupby(\"Category Name\")[\"Budgeted amount 2020\"].sum().reset_index()\n",
    "category_df_2020_ak = category_df_2020_ak.rename(columns={\"Category Name\": \"Category Name\", \"Budgeted amount 2020\": \"Budget Data 2020\"})\n",
    "\n",
    "\n",
    "category_df_2021_ak = budget2021_df_exp.groupby(\"Category Name\")[\"Budgeted amount 2021\"].sum().reset_index()\n",
    "category_df_2021_ak = category_df_2021_ak.rename(columns={\"Category Name\": \"Category Name\", \"Budgeted amount 2021\": \"Budget Data 2021\"})\n",
    "\n",
    "\n",
    "category_df_2022_ak = budget2022_df_exp.groupby(\"Category Name\")[\"Budgeted amount 2022\"].sum().reset_index()\n",
    "category_df_2022_ak = category_df_2022_ak.rename(columns={\"Category Name\": \"Category Name\", \"Budgeted amount 2022\": \"Budget Data 2022\"})\n",
    "\n",
    "category_df_2023_ak = budget2023_df_exp.groupby(\"Category Name\")[\"Budgeted amount 2023\"].sum().reset_index()\n",
    "category_df_2023_ak = category_df_2023_ak.rename(columns={\"Category Name\": \"Category Name\", \"Budgeted amount 2023\": \"Budget Data 2023\"})\n"
   ]
  },
  {
   "cell_type": "code",
   "execution_count": 813,
   "id": "1f3541ef",
   "metadata": {},
   "outputs": [
    {
     "data": {
      "text/html": [
       "<div>\n",
       "<style scoped>\n",
       "    .dataframe tbody tr th:only-of-type {\n",
       "        vertical-align: middle;\n",
       "    }\n",
       "\n",
       "    .dataframe tbody tr th {\n",
       "        vertical-align: top;\n",
       "    }\n",
       "\n",
       "    .dataframe thead th {\n",
       "        text-align: right;\n",
       "    }\n",
       "</style>\n",
       "<table border=\"1\" class=\"dataframe\">\n",
       "  <thead>\n",
       "    <tr style=\"text-align: right;\">\n",
       "      <th></th>\n",
       "      <th>Category Name</th>\n",
       "      <th>Budget Data 2019</th>\n",
       "      <th>Budget Data 2020</th>\n",
       "      <th>Budget Data 2021</th>\n",
       "      <th>Budget Data 2022</th>\n",
       "      <th>Budget Data 2023</th>\n",
       "    </tr>\n",
       "  </thead>\n",
       "  <tbody>\n",
       "    <tr>\n",
       "      <th>0</th>\n",
       "      <td>Contribution To Capital</td>\n",
       "      <td>3.434535e+08</td>\n",
       "      <td>3.434555e+08</td>\n",
       "      <td>3.495350e+08</td>\n",
       "      <td>3.477590e+08</td>\n",
       "      <td>3.454875e+08</td>\n",
       "    </tr>\n",
       "    <tr>\n",
       "      <th>1</th>\n",
       "      <td>Contribution To Reserves/Reserve Funds</td>\n",
       "      <td>1.374326e+09</td>\n",
       "      <td>1.492208e+09</td>\n",
       "      <td>1.569495e+09</td>\n",
       "      <td>6.790572e+08</td>\n",
       "      <td>8.177363e+08</td>\n",
       "    </tr>\n",
       "    <tr>\n",
       "      <th>2</th>\n",
       "      <td>Equipment</td>\n",
       "      <td>6.256912e+07</td>\n",
       "      <td>6.305564e+07</td>\n",
       "      <td>6.305676e+07</td>\n",
       "      <td>6.962870e+07</td>\n",
       "      <td>7.491960e+07</td>\n",
       "    </tr>\n",
       "    <tr>\n",
       "      <th>3</th>\n",
       "      <td>Inter-Divisional Charges</td>\n",
       "      <td>3.161485e+08</td>\n",
       "      <td>1.569948e+08</td>\n",
       "      <td>NaN</td>\n",
       "      <td>3.124781e+08</td>\n",
       "      <td>3.197343e+08</td>\n",
       "    </tr>\n",
       "    <tr>\n",
       "      <th>4</th>\n",
       "      <td>Materials &amp; Supplies</td>\n",
       "      <td>7.350229e+08</td>\n",
       "      <td>7.344638e+08</td>\n",
       "      <td>8.132793e+08</td>\n",
       "      <td>8.103749e+08</td>\n",
       "      <td>8.393636e+08</td>\n",
       "    </tr>\n",
       "    <tr>\n",
       "      <th>5</th>\n",
       "      <td>Other Expenditures</td>\n",
       "      <td>2.711142e+09</td>\n",
       "      <td>2.611534e+09</td>\n",
       "      <td>2.835059e+09</td>\n",
       "      <td>2.776243e+09</td>\n",
       "      <td>3.063181e+09</td>\n",
       "    </tr>\n",
       "    <tr>\n",
       "      <th>6</th>\n",
       "      <td>Salaries And Benefits</td>\n",
       "      <td>5.928046e+09</td>\n",
       "      <td>6.092481e+09</td>\n",
       "      <td>NaN</td>\n",
       "      <td>NaN</td>\n",
       "      <td>NaN</td>\n",
       "    </tr>\n",
       "    <tr>\n",
       "      <th>7</th>\n",
       "      <td>Service And Rent</td>\n",
       "      <td>2.082853e+09</td>\n",
       "      <td>2.178262e+09</td>\n",
       "      <td>2.342040e+09</td>\n",
       "      <td>2.632925e+09</td>\n",
       "      <td>3.071138e+09</td>\n",
       "    </tr>\n",
       "    <tr>\n",
       "      <th>8</th>\n",
       "      <td>Benefits</td>\n",
       "      <td>NaN</td>\n",
       "      <td>NaN</td>\n",
       "      <td>1.450706e+09</td>\n",
       "      <td>1.488014e+09</td>\n",
       "      <td>1.586110e+09</td>\n",
       "    </tr>\n",
       "    <tr>\n",
       "      <th>9</th>\n",
       "      <td>Salaries</td>\n",
       "      <td>NaN</td>\n",
       "      <td>NaN</td>\n",
       "      <td>4.781880e+09</td>\n",
       "      <td>5.108580e+09</td>\n",
       "      <td>5.313474e+09</td>\n",
       "    </tr>\n",
       "  </tbody>\n",
       "</table>\n",
       "</div>"
      ],
      "text/plain": [
       "                            Category Name  Budget Data 2019  Budget Data 2020  \\\n",
       "0                 Contribution To Capital      3.434535e+08      3.434555e+08   \n",
       "1  Contribution To Reserves/Reserve Funds      1.374326e+09      1.492208e+09   \n",
       "2                               Equipment      6.256912e+07      6.305564e+07   \n",
       "3                Inter-Divisional Charges      3.161485e+08      1.569948e+08   \n",
       "4                    Materials & Supplies      7.350229e+08      7.344638e+08   \n",
       "5                      Other Expenditures      2.711142e+09      2.611534e+09   \n",
       "6                   Salaries And Benefits      5.928046e+09      6.092481e+09   \n",
       "7                        Service And Rent      2.082853e+09      2.178262e+09   \n",
       "8                                Benefits               NaN               NaN   \n",
       "9                                Salaries               NaN               NaN   \n",
       "\n",
       "   Budget Data 2021  Budget Data 2022  Budget Data 2023  \n",
       "0      3.495350e+08      3.477590e+08      3.454875e+08  \n",
       "1      1.569495e+09      6.790572e+08      8.177363e+08  \n",
       "2      6.305676e+07      6.962870e+07      7.491960e+07  \n",
       "3               NaN      3.124781e+08      3.197343e+08  \n",
       "4      8.132793e+08      8.103749e+08      8.393636e+08  \n",
       "5      2.835059e+09      2.776243e+09      3.063181e+09  \n",
       "6               NaN               NaN               NaN  \n",
       "7      2.342040e+09      2.632925e+09      3.071138e+09  \n",
       "8      1.450706e+09      1.488014e+09      1.586110e+09  \n",
       "9      4.781880e+09      5.108580e+09      5.313474e+09  "
      ]
     },
     "execution_count": 813,
     "metadata": {},
     "output_type": "execute_result"
    }
   ],
   "source": [
    "# Merge category_df_2019_ak and category_df_2020_ak on \"Category Name\"\n",
    "merged_df_ak = pd.merge(category_df_2019_ak, category_df_2020_ak, on=\"Category Name\", how=\"outer\")\n",
    "\n",
    "# Merge the result with category_df_2021 on \"Category Name\"\n",
    "merged_df_ak = pd.merge(merged_df_ak, category_df_2021_ak, on=\"Category Name\", how=\"outer\")\n",
    "\n",
    "# Merge the result with category_df_2022 on \"Category Name\"\n",
    "merged_df_ak = pd.merge(merged_df_ak, category_df_2022_ak, on=\"Category Name\", how=\"outer\")\n",
    "\n",
    "# Merge the result with category_df_2023 on \"Category Name\"\n",
    "merged_df_ak = pd.merge(merged_df_ak, category_df_2023_ak, on=\"Category Name\", how=\"outer\")\n",
    "\n",
    "merged_df_ak"
   ]
  },
  {
   "cell_type": "code",
   "execution_count": 814,
   "id": "a84b3d41",
   "metadata": {},
   "outputs": [
    {
     "data": {
      "text/plain": [
       "0                   Contribution To Capital\n",
       "1    Contribution To Reserves/Reserve Funds\n",
       "2                                 Equipment\n",
       "3                  Inter-Divisional Charges\n",
       "4                      Materials & Supplies\n",
       "5                        Other Expenditures\n",
       "6                     Salaries And Benefits\n",
       "7                          Service And Rent\n",
       "8                                  Benefits\n",
       "9                                  Salaries\n",
       "Name: Category Name, dtype: object"
      ]
     },
     "execution_count": 814,
     "metadata": {},
     "output_type": "execute_result"
    }
   ],
   "source": [
    "# Define a function to divide numbers by 10^6 and round to 3 decimal places\n",
    "divide_and_round_ak = lambda x: round(float(x) / 1e6, 3) if pd.to_numeric(x, errors='coerce') == x else str(x)\n",
    "\n",
    "# Apply the division and rounding function to all columns in the DataFrame\n",
    "merged_df_ak_final = merged_df_ak.applymap(divide_and_round_ak)\n",
    "\n",
    "# Display the DataFrame after division and rounding\n",
    "merged_df_ak_final\n",
    "\n",
    "merged_df_ak_final[\"Category Name\"]"
   ]
  },
  {
   "cell_type": "code",
   "execution_count": 815,
   "id": "c84ce2a7",
   "metadata": {},
   "outputs": [
    {
     "data": {
      "text/html": [
       "<div>\n",
       "<style scoped>\n",
       "    .dataframe tbody tr th:only-of-type {\n",
       "        vertical-align: middle;\n",
       "    }\n",
       "\n",
       "    .dataframe tbody tr th {\n",
       "        vertical-align: top;\n",
       "    }\n",
       "\n",
       "    .dataframe thead th {\n",
       "        text-align: right;\n",
       "    }\n",
       "</style>\n",
       "<table border=\"1\" class=\"dataframe\">\n",
       "  <thead>\n",
       "    <tr style=\"text-align: right;\">\n",
       "      <th></th>\n",
       "      <th>Category Name</th>\n",
       "      <th>Budget Data 2019</th>\n",
       "      <th>Budget Data 2020</th>\n",
       "      <th>Budget Data 2021</th>\n",
       "      <th>Budget Data 2022</th>\n",
       "      <th>Budget Data 2023</th>\n",
       "    </tr>\n",
       "  </thead>\n",
       "  <tbody>\n",
       "    <tr>\n",
       "      <th>0</th>\n",
       "      <td>Contribution To Capital</td>\n",
       "      <td>343.454</td>\n",
       "      <td>343.456</td>\n",
       "      <td>349.535</td>\n",
       "      <td>347.759</td>\n",
       "      <td>345.487</td>\n",
       "    </tr>\n",
       "    <tr>\n",
       "      <th>1</th>\n",
       "      <td>Contribution To Reserves/Reserve Funds</td>\n",
       "      <td>1374.326</td>\n",
       "      <td>1492.208</td>\n",
       "      <td>1569.495</td>\n",
       "      <td>679.057</td>\n",
       "      <td>817.736</td>\n",
       "    </tr>\n",
       "    <tr>\n",
       "      <th>2</th>\n",
       "      <td>Equipment</td>\n",
       "      <td>62.569</td>\n",
       "      <td>63.056</td>\n",
       "      <td>63.057</td>\n",
       "      <td>69.629</td>\n",
       "      <td>74.920</td>\n",
       "    </tr>\n",
       "    <tr>\n",
       "      <th>3</th>\n",
       "      <td>Inter-Divisional Charges</td>\n",
       "      <td>316.149</td>\n",
       "      <td>156.995</td>\n",
       "      <td>0.000</td>\n",
       "      <td>312.478</td>\n",
       "      <td>319.734</td>\n",
       "    </tr>\n",
       "    <tr>\n",
       "      <th>4</th>\n",
       "      <td>Materials &amp; Supplies</td>\n",
       "      <td>735.023</td>\n",
       "      <td>734.464</td>\n",
       "      <td>813.279</td>\n",
       "      <td>810.375</td>\n",
       "      <td>839.364</td>\n",
       "    </tr>\n",
       "    <tr>\n",
       "      <th>5</th>\n",
       "      <td>Other Expenditures</td>\n",
       "      <td>2711.142</td>\n",
       "      <td>2611.534</td>\n",
       "      <td>2835.059</td>\n",
       "      <td>2776.243</td>\n",
       "      <td>3063.181</td>\n",
       "    </tr>\n",
       "    <tr>\n",
       "      <th>6</th>\n",
       "      <td>Salaries And Benefits</td>\n",
       "      <td>5928.046</td>\n",
       "      <td>6092.481</td>\n",
       "      <td>6232.586</td>\n",
       "      <td>6596.594</td>\n",
       "      <td>6899.584</td>\n",
       "    </tr>\n",
       "    <tr>\n",
       "      <th>7</th>\n",
       "      <td>Service And Rent</td>\n",
       "      <td>2082.853</td>\n",
       "      <td>2178.262</td>\n",
       "      <td>2342.040</td>\n",
       "      <td>2632.925</td>\n",
       "      <td>3071.138</td>\n",
       "    </tr>\n",
       "    <tr>\n",
       "      <th>8</th>\n",
       "      <td>Benefits</td>\n",
       "      <td>0.000</td>\n",
       "      <td>0.000</td>\n",
       "      <td>1450.706</td>\n",
       "      <td>1488.014</td>\n",
       "      <td>1586.110</td>\n",
       "    </tr>\n",
       "    <tr>\n",
       "      <th>9</th>\n",
       "      <td>Salaries</td>\n",
       "      <td>0.000</td>\n",
       "      <td>0.000</td>\n",
       "      <td>4781.880</td>\n",
       "      <td>5108.580</td>\n",
       "      <td>5313.474</td>\n",
       "    </tr>\n",
       "  </tbody>\n",
       "</table>\n",
       "</div>"
      ],
      "text/plain": [
       "                            Category Name  Budget Data 2019  Budget Data 2020  \\\n",
       "0                 Contribution To Capital           343.454           343.456   \n",
       "1  Contribution To Reserves/Reserve Funds          1374.326          1492.208   \n",
       "2                               Equipment            62.569            63.056   \n",
       "3                Inter-Divisional Charges           316.149           156.995   \n",
       "4                    Materials & Supplies           735.023           734.464   \n",
       "5                      Other Expenditures          2711.142          2611.534   \n",
       "6                   Salaries And Benefits          5928.046          6092.481   \n",
       "7                        Service And Rent          2082.853          2178.262   \n",
       "8                                Benefits             0.000             0.000   \n",
       "9                                Salaries             0.000             0.000   \n",
       "\n",
       "   Budget Data 2021  Budget Data 2022  Budget Data 2023  \n",
       "0           349.535           347.759           345.487  \n",
       "1          1569.495           679.057           817.736  \n",
       "2            63.057            69.629            74.920  \n",
       "3             0.000           312.478           319.734  \n",
       "4           813.279           810.375           839.364  \n",
       "5          2835.059          2776.243          3063.181  \n",
       "6          6232.586          6596.594          6899.584  \n",
       "7          2342.040          2632.925          3071.138  \n",
       "8          1450.706          1488.014          1586.110  \n",
       "9          4781.880          5108.580          5313.474  "
      ]
     },
     "execution_count": 815,
     "metadata": {},
     "output_type": "execute_result"
    }
   ],
   "source": [
    "# Replace 'nan' strings with actual NaN values\n",
    "merged_df_ak_final.replace('nan', pd.NA, inplace=True)\n",
    "\n",
    "# Replace NaN values with 0\n",
    "merged_df_ak_final.fillna(0, inplace=True)\n",
    "merged_df_ak_final\n",
    "\n",
    "# Filter rows for \"Salaries\" and \"Benefits\" from the year 2021\n",
    "salaries_2021 = merged_df_ak_final.loc[merged_df_ak_final['Category Name'].isin(['Salaries', 'Benefits']), 'Budget Data 2021'].sum()\n",
    "salaries_2022 = merged_df_ak_final.loc[merged_df_ak_final['Category Name'].isin(['Salaries', 'Benefits']), 'Budget Data 2022'].sum()\n",
    "salaries_2023 = merged_df_ak_final.loc[merged_df_ak_final['Category Name'].isin(['Salaries', 'Benefits']), 'Budget Data 2023'].sum()\n",
    "\n",
    "# Update the \"Salaries And Benefits\" column for the year 2021\n",
    "merged_df_ak_final.loc[merged_df_ak_final['Category Name'] == 'Salaries And Benefits', 'Budget Data 2021'] = salaries_2021\n",
    "merged_df_ak_final.loc[merged_df_ak_final['Category Name'] == 'Salaries And Benefits', 'Budget Data 2022'] = salaries_2022\n",
    "merged_df_ak_final.loc[merged_df_ak_final['Category Name'] == 'Salaries And Benefits', 'Budget Data 2023'] = salaries_2023\n",
    "merged_df_ak_final"
   ]
  },
  {
   "cell_type": "code",
   "execution_count": 816,
   "id": "b1003579",
   "metadata": {},
   "outputs": [],
   "source": [
    "merged_df_ak_final=merged_df_ak_final.drop([8,9])"
   ]
  },
  {
   "cell_type": "code",
   "execution_count": 817,
   "id": "c947bf2e",
   "metadata": {},
   "outputs": [
    {
     "data": {
      "text/html": [
       "<div>\n",
       "<style scoped>\n",
       "    .dataframe tbody tr th:only-of-type {\n",
       "        vertical-align: middle;\n",
       "    }\n",
       "\n",
       "    .dataframe tbody tr th {\n",
       "        vertical-align: top;\n",
       "    }\n",
       "\n",
       "    .dataframe thead th {\n",
       "        text-align: right;\n",
       "    }\n",
       "</style>\n",
       "<table border=\"1\" class=\"dataframe\">\n",
       "  <thead>\n",
       "    <tr style=\"text-align: right;\">\n",
       "      <th></th>\n",
       "      <th>Budget Data 2019</th>\n",
       "      <th>Budget Data 2020</th>\n",
       "      <th>Budget Data 2021</th>\n",
       "      <th>Budget Data 2022</th>\n",
       "      <th>Budget Data 2023</th>\n",
       "    </tr>\n",
       "    <tr>\n",
       "      <th>Category Name</th>\n",
       "      <th></th>\n",
       "      <th></th>\n",
       "      <th></th>\n",
       "      <th></th>\n",
       "      <th></th>\n",
       "    </tr>\n",
       "  </thead>\n",
       "  <tbody>\n",
       "    <tr>\n",
       "      <th>Contribution To Capital</th>\n",
       "      <td>343.454</td>\n",
       "      <td>343.456</td>\n",
       "      <td>349.535</td>\n",
       "      <td>347.759</td>\n",
       "      <td>345.487</td>\n",
       "    </tr>\n",
       "    <tr>\n",
       "      <th>Contribution To Reserves/Reserve Funds</th>\n",
       "      <td>1374.326</td>\n",
       "      <td>1492.208</td>\n",
       "      <td>1569.495</td>\n",
       "      <td>679.057</td>\n",
       "      <td>817.736</td>\n",
       "    </tr>\n",
       "    <tr>\n",
       "      <th>Equipment</th>\n",
       "      <td>62.569</td>\n",
       "      <td>63.056</td>\n",
       "      <td>63.057</td>\n",
       "      <td>69.629</td>\n",
       "      <td>74.920</td>\n",
       "    </tr>\n",
       "    <tr>\n",
       "      <th>Inter-Divisional Charges</th>\n",
       "      <td>316.149</td>\n",
       "      <td>156.995</td>\n",
       "      <td>0.000</td>\n",
       "      <td>312.478</td>\n",
       "      <td>319.734</td>\n",
       "    </tr>\n",
       "    <tr>\n",
       "      <th>Materials &amp; Supplies</th>\n",
       "      <td>735.023</td>\n",
       "      <td>734.464</td>\n",
       "      <td>813.279</td>\n",
       "      <td>810.375</td>\n",
       "      <td>839.364</td>\n",
       "    </tr>\n",
       "    <tr>\n",
       "      <th>Other Expenditures</th>\n",
       "      <td>2711.142</td>\n",
       "      <td>2611.534</td>\n",
       "      <td>2835.059</td>\n",
       "      <td>2776.243</td>\n",
       "      <td>3063.181</td>\n",
       "    </tr>\n",
       "    <tr>\n",
       "      <th>Salaries And Benefits</th>\n",
       "      <td>5928.046</td>\n",
       "      <td>6092.481</td>\n",
       "      <td>6232.586</td>\n",
       "      <td>6596.594</td>\n",
       "      <td>6899.584</td>\n",
       "    </tr>\n",
       "    <tr>\n",
       "      <th>Service And Rent</th>\n",
       "      <td>2082.853</td>\n",
       "      <td>2178.262</td>\n",
       "      <td>2342.040</td>\n",
       "      <td>2632.925</td>\n",
       "      <td>3071.138</td>\n",
       "    </tr>\n",
       "  </tbody>\n",
       "</table>\n",
       "</div>"
      ],
      "text/plain": [
       "                                        Budget Data 2019  Budget Data 2020  \\\n",
       "Category Name                                                                \n",
       "Contribution To Capital                          343.454           343.456   \n",
       "Contribution To Reserves/Reserve Funds          1374.326          1492.208   \n",
       "Equipment                                         62.569            63.056   \n",
       "Inter-Divisional Charges                         316.149           156.995   \n",
       "Materials & Supplies                             735.023           734.464   \n",
       "Other Expenditures                              2711.142          2611.534   \n",
       "Salaries And Benefits                           5928.046          6092.481   \n",
       "Service And Rent                                2082.853          2178.262   \n",
       "\n",
       "                                        Budget Data 2021  Budget Data 2022  \\\n",
       "Category Name                                                                \n",
       "Contribution To Capital                          349.535           347.759   \n",
       "Contribution To Reserves/Reserve Funds          1569.495           679.057   \n",
       "Equipment                                         63.057            69.629   \n",
       "Inter-Divisional Charges                           0.000           312.478   \n",
       "Materials & Supplies                             813.279           810.375   \n",
       "Other Expenditures                              2835.059          2776.243   \n",
       "Salaries And Benefits                           6232.586          6596.594   \n",
       "Service And Rent                                2342.040          2632.925   \n",
       "\n",
       "                                        Budget Data 2023  \n",
       "Category Name                                             \n",
       "Contribution To Capital                          345.487  \n",
       "Contribution To Reserves/Reserve Funds           817.736  \n",
       "Equipment                                         74.920  \n",
       "Inter-Divisional Charges                         319.734  \n",
       "Materials & Supplies                             839.364  \n",
       "Other Expenditures                              3063.181  \n",
       "Salaries And Benefits                           6899.584  \n",
       "Service And Rent                                3071.138  "
      ]
     },
     "execution_count": 817,
     "metadata": {},
     "output_type": "execute_result"
    }
   ],
   "source": [
    "merged_df_ak_final.set_index(\"Category Name\")"
   ]
  },
  {
   "cell_type": "code",
   "execution_count": 828,
   "id": "2a195d88",
   "metadata": {
    "scrolled": false
   },
   "outputs": [
    {
     "data": {
      "text/html": [
       "<div>\n",
       "<style scoped>\n",
       "    .dataframe tbody tr th:only-of-type {\n",
       "        vertical-align: middle;\n",
       "    }\n",
       "\n",
       "    .dataframe tbody tr th {\n",
       "        vertical-align: top;\n",
       "    }\n",
       "\n",
       "    .dataframe thead th {\n",
       "        text-align: right;\n",
       "    }\n",
       "</style>\n",
       "<table border=\"1\" class=\"dataframe\">\n",
       "  <thead>\n",
       "    <tr style=\"text-align: right;\">\n",
       "      <th></th>\n",
       "      <th>Category Name</th>\n",
       "      <th>Budget Data 2019</th>\n",
       "      <th>Budget Data 2020</th>\n",
       "      <th>Budget Data 2021</th>\n",
       "      <th>Budget Data 2022</th>\n",
       "      <th>Budget Data 2023</th>\n",
       "    </tr>\n",
       "  </thead>\n",
       "  <tbody>\n",
       "    <tr>\n",
       "      <th>6</th>\n",
       "      <td>Salaries And Benefits</td>\n",
       "      <td>5928.046</td>\n",
       "      <td>6092.481</td>\n",
       "      <td>6232.586</td>\n",
       "      <td>6596.594</td>\n",
       "      <td>6899.584</td>\n",
       "    </tr>\n",
       "    <tr>\n",
       "      <th>5</th>\n",
       "      <td>Other Expenditures</td>\n",
       "      <td>2711.142</td>\n",
       "      <td>2611.534</td>\n",
       "      <td>2835.059</td>\n",
       "      <td>2776.243</td>\n",
       "      <td>3063.181</td>\n",
       "    </tr>\n",
       "    <tr>\n",
       "      <th>7</th>\n",
       "      <td>Service And Rent</td>\n",
       "      <td>2082.853</td>\n",
       "      <td>2178.262</td>\n",
       "      <td>2342.040</td>\n",
       "      <td>2632.925</td>\n",
       "      <td>3071.138</td>\n",
       "    </tr>\n",
       "    <tr>\n",
       "      <th>1</th>\n",
       "      <td>Contribution To Reserves/Reserve Funds</td>\n",
       "      <td>1374.326</td>\n",
       "      <td>1492.208</td>\n",
       "      <td>1569.495</td>\n",
       "      <td>679.057</td>\n",
       "      <td>817.736</td>\n",
       "    </tr>\n",
       "    <tr>\n",
       "      <th>4</th>\n",
       "      <td>Materials &amp; Supplies</td>\n",
       "      <td>735.023</td>\n",
       "      <td>734.464</td>\n",
       "      <td>813.279</td>\n",
       "      <td>810.375</td>\n",
       "      <td>839.364</td>\n",
       "    </tr>\n",
       "    <tr>\n",
       "      <th>0</th>\n",
       "      <td>Contribution To Capital</td>\n",
       "      <td>343.454</td>\n",
       "      <td>343.456</td>\n",
       "      <td>349.535</td>\n",
       "      <td>347.759</td>\n",
       "      <td>345.487</td>\n",
       "    </tr>\n",
       "    <tr>\n",
       "      <th>3</th>\n",
       "      <td>Inter-Divisional Charges</td>\n",
       "      <td>316.149</td>\n",
       "      <td>156.995</td>\n",
       "      <td>0.000</td>\n",
       "      <td>312.478</td>\n",
       "      <td>319.734</td>\n",
       "    </tr>\n",
       "    <tr>\n",
       "      <th>2</th>\n",
       "      <td>Equipment</td>\n",
       "      <td>62.569</td>\n",
       "      <td>63.056</td>\n",
       "      <td>63.057</td>\n",
       "      <td>69.629</td>\n",
       "      <td>74.920</td>\n",
       "    </tr>\n",
       "  </tbody>\n",
       "</table>\n",
       "</div>"
      ],
      "text/plain": [
       "                            Category Name  Budget Data 2019  Budget Data 2020  \\\n",
       "6                   Salaries And Benefits          5928.046          6092.481   \n",
       "5                      Other Expenditures          2711.142          2611.534   \n",
       "7                        Service And Rent          2082.853          2178.262   \n",
       "1  Contribution To Reserves/Reserve Funds          1374.326          1492.208   \n",
       "4                    Materials & Supplies           735.023           734.464   \n",
       "0                 Contribution To Capital           343.454           343.456   \n",
       "3                Inter-Divisional Charges           316.149           156.995   \n",
       "2                               Equipment            62.569            63.056   \n",
       "\n",
       "   Budget Data 2021  Budget Data 2022  Budget Data 2023  \n",
       "6          6232.586          6596.594          6899.584  \n",
       "5          2835.059          2776.243          3063.181  \n",
       "7          2342.040          2632.925          3071.138  \n",
       "1          1569.495           679.057           817.736  \n",
       "4           813.279           810.375           839.364  \n",
       "0           349.535           347.759           345.487  \n",
       "3             0.000           312.478           319.734  \n",
       "2            63.057            69.629            74.920  "
      ]
     },
     "execution_count": 828,
     "metadata": {},
     "output_type": "execute_result"
    }
   ],
   "source": [
    "# Extract the non-numeric columns (assuming the first column is non-numeric)\n",
    "non_numeric_columns = merged_df_ak_final.columns[1:]\n",
    "\n",
    "# Convert non-numeric values to NaN and then sum each row\n",
    "merged_df_ak_final['Total'] = merged_df_ak_final[non_numeric_columns].apply(pd.to_numeric, errors='coerce').sum(axis=1)\n",
    "\n",
    "# Sort the DataFrame based on the \"Total\" column in descending order\n",
    "merged_df_ak_final = merged_df_ak_final.sort_values(\"Total\", ascending=False)\n",
    "\n",
    "# Display the updated and sorted DataFrame\n",
    "merged_df_ak_final=merged_df_ak_final.drop(['Total'], axis=1)\n",
    "merged_df_ak_final"
   ]
  },
  {
   "cell_type": "code",
   "execution_count": 820,
   "id": "e84a4cc0",
   "metadata": {},
   "outputs": [
    {
     "data": {
      "text/html": [
       "<div>\n",
       "<style scoped>\n",
       "    .dataframe tbody tr th:only-of-type {\n",
       "        vertical-align: middle;\n",
       "    }\n",
       "\n",
       "    .dataframe tbody tr th {\n",
       "        vertical-align: top;\n",
       "    }\n",
       "\n",
       "    .dataframe thead th {\n",
       "        text-align: right;\n",
       "    }\n",
       "</style>\n",
       "<table border=\"1\" class=\"dataframe\">\n",
       "  <thead>\n",
       "    <tr style=\"text-align: right;\">\n",
       "      <th></th>\n",
       "      <th>Total</th>\n",
       "    </tr>\n",
       "    <tr>\n",
       "      <th>Year</th>\n",
       "      <th></th>\n",
       "    </tr>\n",
       "  </thead>\n",
       "  <tbody>\n",
       "    <tr>\n",
       "      <th>2019</th>\n",
       "      <td>13553.562</td>\n",
       "    </tr>\n",
       "    <tr>\n",
       "      <th>2020</th>\n",
       "      <td>13672.456</td>\n",
       "    </tr>\n",
       "    <tr>\n",
       "      <th>2021</th>\n",
       "      <td>14205.051</td>\n",
       "    </tr>\n",
       "    <tr>\n",
       "      <th>2022</th>\n",
       "      <td>14225.060</td>\n",
       "    </tr>\n",
       "    <tr>\n",
       "      <th>2023</th>\n",
       "      <td>15431.144</td>\n",
       "    </tr>\n",
       "  </tbody>\n",
       "</table>\n",
       "</div>"
      ],
      "text/plain": [
       "          Total\n",
       "Year           \n",
       "2019  13553.562\n",
       "2020  13672.456\n",
       "2021  14205.051\n",
       "2022  14225.060\n",
       "2023  15431.144"
      ]
     },
     "execution_count": 820,
     "metadata": {},
     "output_type": "execute_result"
    }
   ],
   "source": [
    "# Assuming merged_df_ak_final is your DataFrame\n",
    "years = [\"2019\", \"2020\", \"2021\", \"2022\", \"2023\"]\n",
    "\n",
    "for year in years:\n",
    "    column_name = f\"Budget Data {year}\"\n",
    "    merged_df_ak_final[column_name] = pd.to_numeric(merged_df_ak_final[column_name], errors='coerce')\n",
    "\n",
    "total_2019_ak = merged_df_ak_final[\"Budget Data 2019\"].sum()\n",
    "total_2020_ak = merged_df_ak_final[\"Budget Data 2020\"].sum()\n",
    "total_2021_ak = merged_df_ak_final[\"Budget Data 2021\"].sum()\n",
    "total_2022_ak = merged_df_ak_final[\"Budget Data 2022\"].sum()\n",
    "total_2023_ak = merged_df_ak_final[\"Budget Data 2023\"].sum()\n",
    "\n",
    "# Create a DataFrame with the totals\n",
    "total_df_ak = pd.DataFrame([\n",
    "    {\"Year\": \"2019\", \"Total\": total_2019_ak},\n",
    "    {\"Year\": \"2020\", \"Total\": total_2020_ak},\n",
    "    {\"Year\": \"2021\", \"Total\": total_2021_ak},\n",
    "    {\"Year\": \"2022\", \"Total\": total_2022_ak},\n",
    "    {\"Year\": \"2023\", \"Total\": total_2023_ak}\n",
    "])\n",
    "total_df_ak=total_df_ak.set_index(\"Year\")\n",
    "total_df_ak"
   ]
  },
  {
   "cell_type": "code",
   "execution_count": 821,
   "id": "6a142256",
   "metadata": {},
   "outputs": [
    {
     "data": {
      "text/plain": [
       "Text(0, 0.5, 'Total Budget(in millions)')"
      ]
     },
     "execution_count": 821,
     "metadata": {},
     "output_type": "execute_result"
    },
    {
     "data": {
      "image/png": "[encoded data removed]",
      "text/plain": [
       "<Figure size 640x480 with 1 Axes>"
      ]
     },
     "metadata": {},
     "output_type": "display_data"
    }
   ],
   "source": [
    "# Create a bar plot\n",
    "graph1_ak = total_df_ak.plot(kind=\"bar\", legend=False)\n",
    "\n",
    "# Set plot title and labels\n",
    "plt.title(\"Total Expense by Year\")\n",
    "plt.xlabel(\"Year\")\n",
    "plt.ylabel(\"Total Budget(in millions)\")"
   ]
  },
  {
   "cell_type": "code",
   "execution_count": 822,
   "id": "180f05b4",
   "metadata": {},
   "outputs": [
    {
     "name": "stdout",
     "output_type": "stream",
     "text": [
      "                            Category Name\n",
      "6                   Salaries And Benefits\n",
      "5                      Other Expenditures\n",
      "7                        Service And Rent\n",
      "1  Contribution To Reserves/Reserve Funds\n",
      "4                    Materials & Supplies\n",
      "0                 Contribution To Capital\n",
      "3                Inter-Divisional Charges\n",
      "2                               Equipment\n"
     ]
    }
   ],
   "source": [
    "percent_df = pd.DataFrame()\n",
    "percent_df[\"Category Name\"] = merged_df_ak_final[\"Category Name\"]\n",
    "\n",
    "# Display the new DataFrame\n",
    "print(percent_df)"
   ]
  },
  {
   "cell_type": "code",
   "execution_count": 823,
   "id": "bf561954",
   "metadata": {},
   "outputs": [
    {
     "data": {
      "text/html": [
       "<div>\n",
       "<style scoped>\n",
       "    .dataframe tbody tr th:only-of-type {\n",
       "        vertical-align: middle;\n",
       "    }\n",
       "\n",
       "    .dataframe tbody tr th {\n",
       "        vertical-align: top;\n",
       "    }\n",
       "\n",
       "    .dataframe thead th {\n",
       "        text-align: right;\n",
       "    }\n",
       "</style>\n",
       "<table border=\"1\" class=\"dataframe\">\n",
       "  <thead>\n",
       "    <tr style=\"text-align: right;\">\n",
       "      <th></th>\n",
       "      <th>2019</th>\n",
       "      <th>2020</th>\n",
       "      <th>2021</th>\n",
       "      <th>2022</th>\n",
       "      <th>2023</th>\n",
       "    </tr>\n",
       "    <tr>\n",
       "      <th>Category Name</th>\n",
       "      <th></th>\n",
       "      <th></th>\n",
       "      <th></th>\n",
       "      <th></th>\n",
       "      <th></th>\n",
       "    </tr>\n",
       "  </thead>\n",
       "  <tbody>\n",
       "    <tr>\n",
       "      <th>Salaries And Benefits</th>\n",
       "      <td>43.74</td>\n",
       "      <td>44.56</td>\n",
       "      <td>43.88</td>\n",
       "      <td>46.37</td>\n",
       "      <td>44.71</td>\n",
       "    </tr>\n",
       "    <tr>\n",
       "      <th>Other Expenditures</th>\n",
       "      <td>20.00</td>\n",
       "      <td>19.10</td>\n",
       "      <td>19.96</td>\n",
       "      <td>19.52</td>\n",
       "      <td>19.85</td>\n",
       "    </tr>\n",
       "    <tr>\n",
       "      <th>Service And Rent</th>\n",
       "      <td>15.37</td>\n",
       "      <td>15.93</td>\n",
       "      <td>16.49</td>\n",
       "      <td>18.51</td>\n",
       "      <td>19.90</td>\n",
       "    </tr>\n",
       "    <tr>\n",
       "      <th>Contribution To Reserves/Reserve Funds</th>\n",
       "      <td>10.14</td>\n",
       "      <td>10.91</td>\n",
       "      <td>11.05</td>\n",
       "      <td>4.77</td>\n",
       "      <td>5.30</td>\n",
       "    </tr>\n",
       "    <tr>\n",
       "      <th>Materials &amp; Supplies</th>\n",
       "      <td>5.42</td>\n",
       "      <td>5.37</td>\n",
       "      <td>5.73</td>\n",
       "      <td>5.70</td>\n",
       "      <td>5.44</td>\n",
       "    </tr>\n",
       "    <tr>\n",
       "      <th>Contribution To Capital</th>\n",
       "      <td>2.53</td>\n",
       "      <td>2.51</td>\n",
       "      <td>2.46</td>\n",
       "      <td>2.44</td>\n",
       "      <td>2.24</td>\n",
       "    </tr>\n",
       "    <tr>\n",
       "      <th>Inter-Divisional Charges</th>\n",
       "      <td>2.33</td>\n",
       "      <td>1.15</td>\n",
       "      <td>0.00</td>\n",
       "      <td>2.20</td>\n",
       "      <td>2.07</td>\n",
       "    </tr>\n",
       "    <tr>\n",
       "      <th>Equipment</th>\n",
       "      <td>0.46</td>\n",
       "      <td>0.46</td>\n",
       "      <td>0.44</td>\n",
       "      <td>0.49</td>\n",
       "      <td>0.49</td>\n",
       "    </tr>\n",
       "  </tbody>\n",
       "</table>\n",
       "</div>"
      ],
      "text/plain": [
       "                                         2019   2020   2021   2022   2023\n",
       "Category Name                                                            \n",
       "Salaries And Benefits                   43.74  44.56  43.88  46.37  44.71\n",
       "Other Expenditures                      20.00  19.10  19.96  19.52  19.85\n",
       "Service And Rent                        15.37  15.93  16.49  18.51  19.90\n",
       "Contribution To Reserves/Reserve Funds  10.14  10.91  11.05   4.77   5.30\n",
       "Materials & Supplies                     5.42   5.37   5.73   5.70   5.44\n",
       "Contribution To Capital                  2.53   2.51   2.46   2.44   2.24\n",
       "Inter-Divisional Charges                 2.33   1.15   0.00   2.20   2.07\n",
       "Equipment                                0.46   0.46   0.44   0.49   0.49"
      ]
     },
     "execution_count": 823,
     "metadata": {},
     "output_type": "execute_result"
    }
   ],
   "source": [
    "# Assuming you have a DataFrame named percent_df, merged_df_ak_final, and total_df_ak\n",
    "\n",
    "years = [\"2019\", \"2020\", \"2021\", \"2022\", \"2023\"]\n",
    "\n",
    "# Add columns for each year\n",
    "for year in years:\n",
    "    percent_df[f\"{year}\"] = round((merged_df_ak_final[f\"Budget Data {year}\"] / total_df_ak.loc[year,\"Total\"]) * 100, 2)\n",
    "\n",
    "# Display the new DataFrame\n",
    "percent_df=percent_df.set_index(\"Category Name\")\n",
    "percent_df"
   ]
  },
  {
   "cell_type": "code",
   "execution_count": 824,
   "id": "5cf186f1",
   "metadata": {},
   "outputs": [
    {
     "data": {
      "image/png": "[encoded data removed]",
      "text/plain": [
       "<Figure size 1000x500 with 1 Axes>"
      ]
     },
     "metadata": {},
     "output_type": "display_data"
    }
   ],
   "source": [
    "colors = [\"yellow\", \"blue\", \"green\", \"purple\", \"red\"]\n",
    "graph = percent_df.plot(kind=\"bar\", width=0.8, figsize=(10, 5), color=colors,title=\"Yearly Percentage Comparison between Categories\",xlabel=\"Category\",ylabel=\"% share\")\n",
    "graph.set_xticklabels(percent_df.index,rotation=45,rotation_mode=\"anchor\",ha=\"right\",wrap=True)\n",
    "plt.tight_layout()\n",
    "plt.show()"
   ]
  },
  {
   "cell_type": "markdown",
   "id": "7794071a",
   "metadata": {},
   "source": [
    "Highest Expense Category for each year"
   ]
  },
  {
   "cell_type": "code",
   "execution_count": 826,
   "id": "d9fb9d90",
   "metadata": {},
   "outputs": [
    {
     "data": {
      "text/html": [
       "<div>\n",
       "<style scoped>\n",
       "    .dataframe tbody tr th:only-of-type {\n",
       "        vertical-align: middle;\n",
       "    }\n",
       "\n",
       "    .dataframe tbody tr th {\n",
       "        vertical-align: top;\n",
       "    }\n",
       "\n",
       "    .dataframe thead th {\n",
       "        text-align: right;\n",
       "    }\n",
       "</style>\n",
       "<table border=\"1\" class=\"dataframe\">\n",
       "  <thead>\n",
       "    <tr style=\"text-align: right;\">\n",
       "      <th></th>\n",
       "      <th>Year</th>\n",
       "      <th>Highest Category</th>\n",
       "      <th>Expense Amount</th>\n",
       "    </tr>\n",
       "  </thead>\n",
       "  <tbody>\n",
       "    <tr>\n",
       "      <th>0</th>\n",
       "      <td>2019</td>\n",
       "      <td>Salaries And Benefits</td>\n",
       "      <td>5928.046</td>\n",
       "    </tr>\n",
       "    <tr>\n",
       "      <th>1</th>\n",
       "      <td>2020</td>\n",
       "      <td>Salaries And Benefits</td>\n",
       "      <td>6092.481</td>\n",
       "    </tr>\n",
       "    <tr>\n",
       "      <th>2</th>\n",
       "      <td>2021</td>\n",
       "      <td>Salaries And Benefits</td>\n",
       "      <td>6232.586</td>\n",
       "    </tr>\n",
       "    <tr>\n",
       "      <th>3</th>\n",
       "      <td>2022</td>\n",
       "      <td>Salaries And Benefits</td>\n",
       "      <td>6596.594</td>\n",
       "    </tr>\n",
       "    <tr>\n",
       "      <th>4</th>\n",
       "      <td>2023</td>\n",
       "      <td>Salaries And Benefits</td>\n",
       "      <td>6899.584</td>\n",
       "    </tr>\n",
       "  </tbody>\n",
       "</table>\n",
       "</div>"
      ],
      "text/plain": [
       "   Year       Highest Category  Expense Amount\n",
       "0  2019  Salaries And Benefits        5928.046\n",
       "1  2020  Salaries And Benefits        6092.481\n",
       "2  2021  Salaries And Benefits        6232.586\n",
       "3  2022  Salaries And Benefits        6596.594\n",
       "4  2023  Salaries And Benefits        6899.584"
      ]
     },
     "execution_count": 826,
     "metadata": {},
     "output_type": "execute_result"
    }
   ],
   "source": [
    "max_values = []\n",
    "category_names = []\n",
    "\n",
    "for year in years:\n",
    "    max_value = merged_df_ak_final[f\"Budget Data {year}\"].max()\n",
    "    category_name = merged_df_ak_final.loc[merged_df_ak_final[f\"Budget Data {year}\"].idxmax(), \"Category Name\"]\n",
    "    \n",
    "    max_values.append(max_value)\n",
    "    category_names.append(category_name)\n",
    "\n",
    "high_df_ak = pd.DataFrame({\n",
    "    \"Year\": years,\n",
    "    \"Highest Category\": category_names,\n",
    "    \"Expense Amount\": max_values\n",
    "})\n",
    "\n",
    "high_df_ak"
   ]
  },
  {
   "cell_type": "markdown",
   "id": "5608ee89",
   "metadata": {},
   "source": [
    "Lowest Expense Category for each year"
   ]
  },
  {
   "cell_type": "code",
   "execution_count": 632,
   "id": "0e013c6e",
   "metadata": {},
   "outputs": [
    {
     "data": {
      "text/html": [
       "<div>\n",
       "<style scoped>\n",
       "    .dataframe tbody tr th:only-of-type {\n",
       "        vertical-align: middle;\n",
       "    }\n",
       "\n",
       "    .dataframe tbody tr th {\n",
       "        vertical-align: top;\n",
       "    }\n",
       "\n",
       "    .dataframe thead th {\n",
       "        text-align: right;\n",
       "    }\n",
       "</style>\n",
       "<table border=\"1\" class=\"dataframe\">\n",
       "  <thead>\n",
       "    <tr style=\"text-align: right;\">\n",
       "      <th></th>\n",
       "      <th>Year</th>\n",
       "      <th>Lowest Category</th>\n",
       "      <th>Expense Amount</th>\n",
       "    </tr>\n",
       "  </thead>\n",
       "  <tbody>\n",
       "    <tr>\n",
       "      <th>0</th>\n",
       "      <td>2019</td>\n",
       "      <td>Equipment</td>\n",
       "      <td>62.569</td>\n",
       "    </tr>\n",
       "    <tr>\n",
       "      <th>1</th>\n",
       "      <td>2020</td>\n",
       "      <td>Equipment</td>\n",
       "      <td>63.056</td>\n",
       "    </tr>\n",
       "    <tr>\n",
       "      <th>2</th>\n",
       "      <td>2021</td>\n",
       "      <td>Equipment</td>\n",
       "      <td>63.057</td>\n",
       "    </tr>\n",
       "    <tr>\n",
       "      <th>3</th>\n",
       "      <td>2022</td>\n",
       "      <td>Equipment</td>\n",
       "      <td>69.629</td>\n",
       "    </tr>\n",
       "    <tr>\n",
       "      <th>4</th>\n",
       "      <td>2023</td>\n",
       "      <td>Equipment</td>\n",
       "      <td>74.920</td>\n",
       "    </tr>\n",
       "  </tbody>\n",
       "</table>\n",
       "</div>"
      ],
      "text/plain": [
       "   Year Lowest Category  Expense Amount\n",
       "0  2019       Equipment          62.569\n",
       "1  2020       Equipment          63.056\n",
       "2  2021       Equipment          63.057\n",
       "3  2022       Equipment          69.629\n",
       "4  2023       Equipment          74.920"
      ]
     },
     "execution_count": 632,
     "metadata": {},
     "output_type": "execute_result"
    }
   ],
   "source": [
    "filtered_df = merged_df_ak_final.copy()\n",
    "filtered_df.replace(0, np.nan, inplace=True)\n",
    "\n",
    "min_values = []\n",
    "category_names = []\n",
    "\n",
    "for year in years:\n",
    "    min_value = filtered_df[f\"Budget Data {year}\"].min()\n",
    "    category_name = filtered_df.loc[filtered_df[f\"Budget Data {year}\"].idxmin(), \"Category Name\"]\n",
    "\n",
    "    min_values.append(min_value)\n",
    "    category_names.append(category_name)\n",
    "\n",
    "low_df_ak = pd.DataFrame({\n",
    "    \"Year\": years,\n",
    "    \"Lowest Category\": category_names,\n",
    "    \"Expense Amount\": min_values\n",
    "})\n",
    "low_df_ak"
   ]
  },
  {
   "cell_type": "code",
   "execution_count": 633,
   "id": "b3d8ad35",
   "metadata": {},
   "outputs": [
    {
     "data": {
      "image/png": "[encoded data removed]",
      "text/plain": [
       "<Figure size 1200x800 with 1 Axes>"
      ]
     },
     "metadata": {},
     "output_type": "display_data"
    }
   ],
   "source": [
    "# Assuming 'Category Name' is the budget category column\n",
    "time_series_data = merged_df_ak_final.set_index('Category Name').T\n",
    "time_series_data.plot(figsize=(12, 8))\n",
    "plt.xlabel('Year')\n",
    "plt.ylabel('Budget Amount')\n",
    "plt.legend(title='Category Name', bbox_to_anchor=(1.05, 1), loc='upper left')\n",
    "plt.show()"
   ]
  },
  {
   "cell_type": "code",
   "execution_count": 634,
   "id": "b5ebe1b6",
   "metadata": {},
   "outputs": [
    {
     "data": {
      "image/png": "[encoded data removed]",
      "text/plain": [
       "<Figure size 640x480 with 2 Axes>"
      ]
     },
     "metadata": {},
     "output_type": "display_data"
    }
   ],
   "source": [
    "import seaborn as sns\n",
    "import matplotlib.pyplot as plt\n",
    "\n",
    "# Select only numeric columns\n",
    "numeric_columns = merged_df_ak_final.select_dtypes(include='number')\n",
    "correlation_matrix = numeric_columns.corr()\n",
    "\n",
    "# Plot heatmap\n",
    "sns.heatmap(correlation_matrix, annot=True, cmap='coolwarm', linewidths=.5)\n",
    "plt.show()"
   ]
  },
  {
   "cell_type": "code",
   "execution_count": 635,
   "id": "78de1e8f",
   "metadata": {},
   "outputs": [
    {
     "data": {
      "image/png": "[encoded data removed]",
      "text/plain": [
       "<Figure size 640x480 with 2 Axes>"
      ]
     },
     "metadata": {},
     "output_type": "display_data"
    }
   ],
   "source": [
    "import seaborn as sns\n",
    "import matplotlib.pyplot as plt\n",
    "\n",
    "# Transpose the DataFrame so that categories are rows and years are columns\n",
    "transposed_df = merged_df_ak_final.set_index('Category Name').T\n",
    "\n",
    "# Calculate the correlation matrix\n",
    "correlation_matrix = transposed_df.corr()\n",
    "\n",
    "# Plot heatmap\n",
    "sns.heatmap(correlation_matrix, annot=True, cmap='coolwarm', linewidths=.5)\n",
    "plt.title(\"Correlation Matrix of Budget Categories Across Years\")\n",
    "plt.show()"
   ]
  },
  {
   "cell_type": "code",
   "execution_count": 636,
   "id": "e6302a17",
   "metadata": {},
   "outputs": [
    {
     "data": {
      "image/png": "[encoded data removed]",
      "text/plain": [
       "<Figure size 640x480 with 1 Axes>"
      ]
     },
     "metadata": {},
     "output_type": "display_data"
    }
   ],
   "source": [
    "import matplotlib.pyplot as plt\n",
    "\n",
    "plt.scatter(merged_df_ak_final['Budget Data 2019'], merged_df_ak_final['Budget Data 2023'])\n",
    "plt.xlabel('Budget Data 2019')\n",
    "plt.ylabel('Budget Data 2023')\n",
    "plt.title('Scatter Plot: Budget Data 2019 vs Budget Data 2023')\n",
    "plt.show()"
   ]
  },
  {
   "cell_type": "code",
   "execution_count": 676,
   "id": "8d953a76",
   "metadata": {},
   "outputs": [
    {
     "data": {
      "text/plain": [
       "array([[5928.046],\n",
       "       [6092.481],\n",
       "       [6232.586],\n",
       "       [6596.594],\n",
       "       [6899.584]])"
      ]
     },
     "execution_count": 676,
     "metadata": {},
     "output_type": "execute_result"
    }
   ],
   "source": [
    "q = merged_df_ak_final.loc[\"Salaries And Benefits\", :]\n",
    "df=pd.DataFrame(q)\n",
    "\n",
    "years = df.index\n",
    "salaries_and_benefits=df.values\n",
    "salaries_and_benefits"
   ]
  },
  {
   "cell_type": "code",
   "execution_count": 722,
   "id": "996a0fae",
   "metadata": {},
   "outputs": [
    {
     "data": {
      "text/html": [
       "<div>\n",
       "<style scoped>\n",
       "    .dataframe tbody tr th:only-of-type {\n",
       "        vertical-align: middle;\n",
       "    }\n",
       "\n",
       "    .dataframe tbody tr th {\n",
       "        vertical-align: top;\n",
       "    }\n",
       "\n",
       "    .dataframe thead th {\n",
       "        text-align: right;\n",
       "    }\n",
       "</style>\n",
       "<table border=\"1\" class=\"dataframe\">\n",
       "  <thead>\n",
       "    <tr style=\"text-align: right;\">\n",
       "      <th></th>\n",
       "      <th>Program</th>\n",
       "      <th>Service</th>\n",
       "      <th>Category Name</th>\n",
       "      <th>Expense/Revenue</th>\n",
       "      <th>Budgeted amount 2016</th>\n",
       "    </tr>\n",
       "  </thead>\n",
       "  <tbody>\n",
       "    <tr>\n",
       "      <th>1042</th>\n",
       "      <td>Toronto Paramedic Services</td>\n",
       "      <td>AM-Emergency Medical Care</td>\n",
       "      <td>Equipment</td>\n",
       "      <td>Expenses</td>\n",
       "      <td>839518.33</td>\n",
       "    </tr>\n",
       "    <tr>\n",
       "      <th>805</th>\n",
       "      <td>Policy, Planning, Finance &amp; Administration</td>\n",
       "      <td>Organizational Effectiveness</td>\n",
       "      <td>Inter-Divisional Charges</td>\n",
       "      <td>Expenses</td>\n",
       "      <td>234577.36</td>\n",
       "    </tr>\n",
       "  </tbody>\n",
       "</table>\n",
       "</div>"
      ],
      "text/plain": [
       "                                         Program  \\\n",
       "1042                  Toronto Paramedic Services   \n",
       "805   Policy, Planning, Finance & Administration   \n",
       "\n",
       "                           Service             Category Name Expense/Revenue  \\\n",
       "1042     AM-Emergency Medical Care                 Equipment        Expenses   \n",
       "805   Organizational Effectiveness  Inter-Divisional Charges        Expenses   \n",
       "\n",
       "      Budgeted amount 2016  \n",
       "1042             839518.33  \n",
       "805              234577.36  "
      ]
     },
     "execution_count": 722,
     "metadata": {},
     "output_type": "execute_result"
    }
   ],
   "source": [
    "budget2016_df_exp = budget2016_df[budget2016_df['Expense/Revenue']=='Expenses']\n",
    "budget2016_df_rev = budget2016_df[budget2016_df['Expense/Revenue']=='Revenues']\n",
    "budget2016_df_exp.sample(2)"
   ]
  },
  {
   "cell_type": "code",
   "execution_count": 723,
   "id": "741d1037",
   "metadata": {},
   "outputs": [
    {
     "data": {
      "text/html": [
       "<div>\n",
       "<style scoped>\n",
       "    .dataframe tbody tr th:only-of-type {\n",
       "        vertical-align: middle;\n",
       "    }\n",
       "\n",
       "    .dataframe tbody tr th {\n",
       "        vertical-align: top;\n",
       "    }\n",
       "\n",
       "    .dataframe thead th {\n",
       "        text-align: right;\n",
       "    }\n",
       "</style>\n",
       "<table border=\"1\" class=\"dataframe\">\n",
       "  <thead>\n",
       "    <tr style=\"text-align: right;\">\n",
       "      <th></th>\n",
       "      <th>Program</th>\n",
       "      <th>Service</th>\n",
       "      <th>Activity</th>\n",
       "      <th>Category Name</th>\n",
       "      <th>Expense/Revenue</th>\n",
       "      <th>Budgeted amount 2017</th>\n",
       "    </tr>\n",
       "  </thead>\n",
       "  <tbody>\n",
       "    <tr>\n",
       "      <th>2136</th>\n",
       "      <td>Toronto Paramedic Services</td>\n",
       "      <td>AM-Community Paramedicine &amp; Emergency Call Mit...</td>\n",
       "      <td>Citizen First Response Education</td>\n",
       "      <td>Contribution To Capital</td>\n",
       "      <td>Expenses</td>\n",
       "      <td>4536.00</td>\n",
       "    </tr>\n",
       "    <tr>\n",
       "      <th>1063</th>\n",
       "      <td>Office of the Chief Financial Officer</td>\n",
       "      <td>CPF-Investment &amp; Debt Management</td>\n",
       "      <td>CPF-Investment Management</td>\n",
       "      <td>Materials &amp; Supplies</td>\n",
       "      <td>Expenses</td>\n",
       "      <td>2428.68</td>\n",
       "    </tr>\n",
       "  </tbody>\n",
       "</table>\n",
       "</div>"
      ],
      "text/plain": [
       "                                    Program  \\\n",
       "2136             Toronto Paramedic Services   \n",
       "1063  Office of the Chief Financial Officer   \n",
       "\n",
       "                                                Service  \\\n",
       "2136  AM-Community Paramedicine & Emergency Call Mit...   \n",
       "1063                   CPF-Investment & Debt Management   \n",
       "\n",
       "                              Activity            Category Name  \\\n",
       "2136  Citizen First Response Education  Contribution To Capital   \n",
       "1063         CPF-Investment Management     Materials & Supplies   \n",
       "\n",
       "     Expense/Revenue  Budgeted amount 2017  \n",
       "2136        Expenses               4536.00  \n",
       "1063        Expenses               2428.68  "
      ]
     },
     "execution_count": 723,
     "metadata": {},
     "output_type": "execute_result"
    }
   ],
   "source": [
    "budget2017_df_exp = budget2017_df[budget2017_df['Expense/Revenue']=='Expenses']\n",
    "budget2017_df_rev = budget2017_df[budget2017_df['Expense/Revenue']=='Revenues']\n",
    "budget2017_df_exp.sample(2)"
   ]
  },
  {
   "cell_type": "code",
   "execution_count": 724,
   "id": "5b5b4ba3",
   "metadata": {},
   "outputs": [
    {
     "data": {
      "text/html": [
       "<div>\n",
       "<style scoped>\n",
       "    .dataframe tbody tr th:only-of-type {\n",
       "        vertical-align: middle;\n",
       "    }\n",
       "\n",
       "    .dataframe tbody tr th {\n",
       "        vertical-align: top;\n",
       "    }\n",
       "\n",
       "    .dataframe thead th {\n",
       "        text-align: right;\n",
       "    }\n",
       "</style>\n",
       "<table border=\"1\" class=\"dataframe\">\n",
       "  <thead>\n",
       "    <tr style=\"text-align: right;\">\n",
       "      <th></th>\n",
       "      <th>Program</th>\n",
       "      <th>Service</th>\n",
       "      <th>Activity</th>\n",
       "      <th>Category Name</th>\n",
       "      <th>Expense/Revenue</th>\n",
       "      <th>Budgeted amount 2018</th>\n",
       "    </tr>\n",
       "  </thead>\n",
       "  <tbody>\n",
       "    <tr>\n",
       "      <th>1055</th>\n",
       "      <td>Office of the Chief financial Officer</td>\n",
       "      <td>CPF-Financial Strategies, Analysis &amp; Policy De...</td>\n",
       "      <td>CPF-Financial Policy Development</td>\n",
       "      <td>Salaries And Benefits</td>\n",
       "      <td>Expenses</td>\n",
       "      <td>876418.60</td>\n",
       "    </tr>\n",
       "    <tr>\n",
       "      <th>686</th>\n",
       "      <td>Fleet Services</td>\n",
       "      <td>FL-Fuel Management</td>\n",
       "      <td>Fuel Acquisition</td>\n",
       "      <td>Materials &amp; Supplies</td>\n",
       "      <td>Expenses</td>\n",
       "      <td>15841193.24</td>\n",
       "    </tr>\n",
       "  </tbody>\n",
       "</table>\n",
       "</div>"
      ],
      "text/plain": [
       "                                    Program  \\\n",
       "1055  Office of the Chief financial Officer   \n",
       "686                          Fleet Services   \n",
       "\n",
       "                                                Service  \\\n",
       "1055  CPF-Financial Strategies, Analysis & Policy De...   \n",
       "686                                  FL-Fuel Management   \n",
       "\n",
       "                              Activity          Category Name Expense/Revenue  \\\n",
       "1055  CPF-Financial Policy Development  Salaries And Benefits        Expenses   \n",
       "686                   Fuel Acquisition   Materials & Supplies        Expenses   \n",
       "\n",
       "      Budgeted amount 2018  \n",
       "1055             876418.60  \n",
       "686            15841193.24  "
      ]
     },
     "execution_count": 724,
     "metadata": {},
     "output_type": "execute_result"
    }
   ],
   "source": [
    "budget2018_df_exp = budget2018_df[budget2018_df['Expense/Revenue']=='Expenses']\n",
    "budget2018_df_rev = budget2018_df[budget2018_df['Expense/Revenue']=='Revenues']\n",
    "budget2018_df_exp.sample(2)"
   ]
  },
  {
   "cell_type": "code",
   "execution_count": 725,
   "id": "6d7a5870",
   "metadata": {},
   "outputs": [
    {
     "data": {
      "text/html": [
       "<div>\n",
       "<style scoped>\n",
       "    .dataframe tbody tr th:only-of-type {\n",
       "        vertical-align: middle;\n",
       "    }\n",
       "\n",
       "    .dataframe tbody tr th {\n",
       "        vertical-align: top;\n",
       "    }\n",
       "\n",
       "    .dataframe thead th {\n",
       "        text-align: right;\n",
       "    }\n",
       "</style>\n",
       "<table border=\"1\" class=\"dataframe\">\n",
       "  <thead>\n",
       "    <tr style=\"text-align: right;\">\n",
       "      <th></th>\n",
       "      <th>Program</th>\n",
       "      <th>Category Name</th>\n",
       "      <th>Category</th>\n",
       "      <th>Expense/Revenue</th>\n",
       "      <th>Budgeted amount 2014</th>\n",
       "    </tr>\n",
       "  </thead>\n",
       "  <tbody>\n",
       "    <tr>\n",
       "      <th>381</th>\n",
       "      <td>Toronto &amp; Region Conservation Authority</td>\n",
       "      <td>Equipment</td>\n",
       "      <td>300A</td>\n",
       "      <td>Expenses</td>\n",
       "      <td>8.206000e+05</td>\n",
       "    </tr>\n",
       "    <tr>\n",
       "      <th>317</th>\n",
       "      <td>Parks, Forestry &amp; Recreation</td>\n",
       "      <td>Salaries And Benefits</td>\n",
       "      <td>100A</td>\n",
       "      <td>Expenses</td>\n",
       "      <td>2.733265e+08</td>\n",
       "    </tr>\n",
       "  </tbody>\n",
       "</table>\n",
       "</div>"
      ],
      "text/plain": [
       "                                     Program          Category Name Category  \\\n",
       "381  Toronto & Region Conservation Authority              Equipment     300A   \n",
       "317             Parks, Forestry & Recreation  Salaries And Benefits     100A   \n",
       "\n",
       "    Expense/Revenue  Budgeted amount 2014  \n",
       "381        Expenses          8.206000e+05  \n",
       "317        Expenses          2.733265e+08  "
      ]
     },
     "execution_count": 725,
     "metadata": {},
     "output_type": "execute_result"
    }
   ],
   "source": [
    "budget2014_df_exp = budget2014_df[budget2014_df['Expense/Revenue']=='Expenses']\n",
    "budget2014_df_rev = budget2014_df[budget2014_df['Expense/Revenue']=='Revenues']\n",
    "budget2014_df_exp.sample(2)"
   ]
  },
  {
   "cell_type": "code",
   "execution_count": 726,
   "id": "eb60e6ab",
   "metadata": {},
   "outputs": [
    {
     "data": {
      "text/html": [
       "<div>\n",
       "<style scoped>\n",
       "    .dataframe tbody tr th:only-of-type {\n",
       "        vertical-align: middle;\n",
       "    }\n",
       "\n",
       "    .dataframe tbody tr th {\n",
       "        vertical-align: top;\n",
       "    }\n",
       "\n",
       "    .dataframe thead th {\n",
       "        text-align: right;\n",
       "    }\n",
       "</style>\n",
       "<table border=\"1\" class=\"dataframe\">\n",
       "  <thead>\n",
       "    <tr style=\"text-align: right;\">\n",
       "      <th></th>\n",
       "      <th>Program</th>\n",
       "      <th>Service</th>\n",
       "      <th>Activity</th>\n",
       "      <th>Category Name</th>\n",
       "      <th>Category</th>\n",
       "      <th>Expense/Revenue</th>\n",
       "      <th>Budgeted amount 2015</th>\n",
       "    </tr>\n",
       "  </thead>\n",
       "  <tbody>\n",
       "    <tr>\n",
       "      <th>1500</th>\n",
       "      <td>Parks, Forestry &amp; Recreation</td>\n",
       "      <td>PR-Parks</td>\n",
       "      <td>Parks Planning &amp; Development</td>\n",
       "      <td>Salaries And Benefits</td>\n",
       "      <td>100A</td>\n",
       "      <td>Expenses</td>\n",
       "      <td>10684993.71</td>\n",
       "    </tr>\n",
       "    <tr>\n",
       "      <th>2011</th>\n",
       "      <td>Theatres</td>\n",
       "      <td>Theatrical &amp; Other Cultural Events</td>\n",
       "      <td>Theatrical &amp; Other Cultural Events</td>\n",
       "      <td>Equipment</td>\n",
       "      <td>300A</td>\n",
       "      <td>Expenses</td>\n",
       "      <td>436163.00</td>\n",
       "    </tr>\n",
       "  </tbody>\n",
       "</table>\n",
       "</div>"
      ],
      "text/plain": [
       "                           Program                             Service  \\\n",
       "1500  Parks, Forestry & Recreation                            PR-Parks   \n",
       "2011                      Theatres  Theatrical & Other Cultural Events   \n",
       "\n",
       "                                Activity          Category Name Category  \\\n",
       "1500        Parks Planning & Development  Salaries And Benefits     100A   \n",
       "2011  Theatrical & Other Cultural Events              Equipment     300A   \n",
       "\n",
       "     Expense/Revenue  Budgeted amount 2015  \n",
       "1500        Expenses           10684993.71  \n",
       "2011        Expenses             436163.00  "
      ]
     },
     "execution_count": 726,
     "metadata": {},
     "output_type": "execute_result"
    }
   ],
   "source": [
    "budget2015_df_exp = budget2015_df[budget2015_df['Expense/Revenue']=='Expenses']\n",
    "budget2015_df_rev = budget2015_df[budget2015_df['Expense/Revenue']=='Revenues']\n",
    "budget2015_df_exp.sample(2)"
   ]
  },
  {
   "cell_type": "code",
   "execution_count": null,
   "id": "7a0eea0e",
   "metadata": {},
   "outputs": [],
   "source": [
    "# Assuming you have a list of DataFrames for each year\n",
    "budget_dfs = [budget2014_df_exp,budget2015_df_expbudget2016_df_exp, budget2017_df_exp, budget2018_df_exp, budget2019_df_exp, budget2020_df_exp]\n",
    "\n",
    "# Initialize an empty dictionary to store the results\n",
    "results = {}\n",
    "\n",
    "# Iterate over the DataFrames and calculate the sums\n",
    "for year, budget_df in zip(range(2016, 2021), budget_dfs):\n",
    "    sum_value = budget_df[budget_df[\"Category Name\"] == \"Salaries And Benefits\"][\"Budgeted amount \" + str(year)].sum()\n",
    "    results[f'ak_{year}'] = sum_value\n",
    "\n",
    "# Display the results\n",
    "print(results)"
   ]
  },
  {
   "cell_type": "code",
   "execution_count": 832,
   "id": "e95f7d83",
   "metadata": {},
   "outputs": [],
   "source": [
    "# Assuming you want to filter rows where the \"Category Name\" is \"Salaries And Benefits\"\n",
    "ak_2016 = round(budget2016_df_exp[budget2016_df_exp[\"Category Name\"] == \"Salaries And Benefits\"][\"Budgeted amount 2016\"].sum()/1000000,2)\n",
    "ak_2017 = round(budget2017_df_exp[budget2017_df_exp[\"Category Name\"] == \"Salaries And Benefits\"][\"Budgeted amount 2017\"].sum()/1000000,2)\n",
    "ak_2018= round(budget2018_df_exp[budget2018_df_exp[\"Category Name\"] == \"Salaries And Benefits\"][\"Budgeted amount 2018\"].sum()/1000000,2)\n",
    "ak_2019= round(budget2019_df_exp[budget2019_df_exp[\"Category Name\"] == \"Salaries And Benefits\"][\"Budgeted amount 2019\"].sum()/1000000,2)\n",
    "ak_2020= round(budget2020_df_exp[budget2020_df_exp[\"Category Name\"] == \"Salaries And Benefits\"][\"Budgeted amount 2020\"].sum()/1000000,2)\n",
    "ak_2021 = round(budget2021_df_exp[(budget2021_df_exp[\"Category Name\"] == \"Salaries\") | (budget2021_df_exp[\"Category Name\"] == \"Benefits\")][\"Budgeted amount 2021\"].sum() / 1000000, 2)\n",
    "ak_2022 = round(budget2022_df_exp[(budget2022_df_exp[\"Category Name\"] == \"Salaries\") | (budget2022_df_exp[\"Category Name\"] == \"Benefits\")][\"Budgeted amount 2022\"].sum() / 1000000, 2)\n",
    "ak_2023 = round(budget2023_df_exp[(budget2023_df_exp[\"Category Name\"] == \"Salaries\") | (budget2023_df_exp[\"Category Name\"] == \"Benefits\")][\"Budgeted amount 2023\"].sum() / 1000000, 2)\n",
    "ak_2014= round(budget2014_df_exp[budget2014_df_exp[\"Category Name\"] == \"Salaries And Benefits\"][\"Budgeted amount 2014\"].sum()/1000000,2)\n",
    "ak_2015= round(budget2015_df_exp[budget2015_df_exp[\"Category Name\"] == \"Salaries And Benefits\"][\"Budgeted amount 2015\"].sum()/1000000,2)\n",
    "\n"
   ]
  },
  {
   "cell_type": "code",
   "execution_count": 833,
   "id": "21529fd4",
   "metadata": {},
   "outputs": [
    {
     "name": "stdout",
     "output_type": "stream",
     "text": [
      "[5088.15, 5306.23, 5442.21, 5526.44, 5688.31, 5928.05, 6092.48, 6232.59, 6596.59, 6899.58]\n"
     ]
    }
   ],
   "source": [
    "salaries_and_benefits = [ak_2014,ak_2015,ak_2016,ak_2017,ak_2018,ak_2019,ak_2020,ak_2021,ak_2022,ak_2023]\n",
    "print(salaries_and_benefits)"
   ]
  },
  {
   "cell_type": "code",
   "execution_count": 847,
   "id": "2dd4249a",
   "metadata": {
    "scrolled": false
   },
   "outputs": [
    {
     "name": "stdout",
     "output_type": "stream",
     "text": [
      "r-squared value is 0.9736713941983182\n",
      "Linear Regression: 189.24x + -376107.61\n"
     ]
    },
    {
     "data": {
      "image/png": "[encoded data removed]",
      "text/plain": [
       "<Figure size 640x480 with 1 Axes>"
      ]
     },
     "metadata": {},
     "output_type": "display_data"
    }
   ],
   "source": [
    "\n",
    "years = [2014,2015,2016,2017,2018,2019, 2020, 2021, 2022, 2023]\n",
    "salaries_and_benefits = [ak_2014,ak_2015,ak_2016,ak_2017,ak_2018,ak_2019,ak_2020,ak_2021,ak_2022,ak_2023]\n",
    "\n",
    "# Perform linear regression\n",
    "slope, intercept, r_value, p_value, std_err = linregress(years, salaries_and_benefits)\n",
    "\n",
    "# Create the regression line\n",
    "regress_values = [slope * year + intercept for year in years]\n",
    "\n",
    "# Plot the data and regression line\n",
    "plt.scatter(years, salaries_and_benefits, label='Actual Data', marker='o')\n",
    "plt.plot(years, regress_values, label=f'Linear Regression: y = {slope:.2f}x + {intercept:.2f}',color=\"red\")\n",
    "\n",
    "# Add labels and legend\n",
    "plt.title('Linear Regression: Salaries And Benefits over Years')\n",
    "plt.xlabel('Year')\n",
    "plt.ylabel('Salaries And Benefits')\n",
    "plt.legend()\n",
    "print(f\"r-squared value is {r_value**2}\")\n",
    "print(f'Linear Regression: {slope:.2f}x + {intercept:.2f}')\n",
    "# Show the plot\n",
    "plt.show()"
   ]
  },
  {
   "cell_type": "code",
   "execution_count": null,
   "id": "387d26bd",
   "metadata": {},
   "outputs": [],
   "source": []
  }
 ],
 "metadata": {
  "kernelspec": {
   "display_name": "Python 3 (ipykernel)",
   "language": "python",
   "name": "python3"
  },
  "language_info": {
   "codemirror_mode": {
    "name": "ipython",
    "version": 3
   },
   "file_extension": ".py",
   "mimetype": "text/x-python",
   "name": "python",
   "nbconvert_exporter": "python",
   "pygments_lexer": "ipython3",
   "version": "3.11.5"
  }
 },
 "nbformat": 4,
 "nbformat_minor": 5
}
