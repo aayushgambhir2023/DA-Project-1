{
 "cells": [
  {
   "cell_type": "code",
   "execution_count": 1350,
   "id": "a54adb55",
   "metadata": {},
   "outputs": [],
   "source": [
    "import pandas as pd\n",
    "from pathlib import Path\n",
    "import numpy as np\n",
    "import matplotlib.pyplot as plt\n",
    "import requests\n",
    "from scipy.stats import linregress\n",
    "from scipy import stats\n",
    "import scipy.stats as st\n",
    "import matplotlib.pyplot as plt\n",
    "import numpy as np\n",
    "\n",
    "# Clean and preprocess the budget data, handling missing values, standardizing formats, \n",
    "# and ensuring data consistency. \n",
    "# Perform initial checks to ensure the dataset is ready for analysis."
   ]
  },
  {
   "cell_type": "code",
   "execution_count": 1351,
   "id": "a0e3ae55",
   "metadata": {},
   "outputs": [],
   "source": [
    "#Loading the data into dataframes"
   ]
  },
  {
   "cell_type": "code",
   "execution_count": 1352,
   "id": "b8b8028a",
   "metadata": {},
   "outputs": [],
   "source": [
    "budget_path_2019 = Path(\"approved-operating-budget-summary-2019.xlsx\") #2019\n",
    "budget2019_df = pd.read_excel(budget_path_2019, sheet_name='2019')\n",
    "budget_path_2020 = Path(\"approved-operating-budget-summary-2020.xlsx\") #2020\n",
    "budget2020_df = pd.read_excel(budget_path_2020, sheet_name='open data')\n",
    "budget_path_2021 = Path(\"approved-operating-budget-summary-2021.xlsx\") #2021\n",
    "budget2021_df = pd.read_excel(budget_path_2021, sheet_name='2021')\n",
    "budget_path_2022 = Path(\"approved-operating-budget-summary-2022.xlsx\") #2022\n",
    "budget2022_df = pd.read_excel(budget_path_2022, sheet_name='Open Data')\n",
    "budget_path_2023 = Path(\"approved-operating-budget-summary-2023.xlsx\") #2023\n",
    "budget2023_df = pd.read_excel(budget_path_2023, sheet_name='Open Data')"
   ]
  },
  {
   "cell_type": "code",
   "execution_count": 1353,
   "id": "ca265c9f",
   "metadata": {},
   "outputs": [],
   "source": [
    "#Checking for null values using the isnull function, and printing the number of null values in the data frame"
   ]
  },
  {
   "cell_type": "code",
   "execution_count": 1354,
   "id": "9c3a323e",
   "metadata": {},
   "outputs": [
    {
     "name": "stdout",
     "output_type": "stream",
     "text": [
      "Program              0\n",
      "Service              0\n",
      "Activity             0\n",
      "Expense/Revenue      0\n",
      "Category Name        0\n",
      "Sub-Category Name    0\n",
      "Commitment item      0\n",
      "2019                 0\n",
      "dtype: int64\n"
     ]
    }
   ],
   "source": [
    "null_2019 = budget2019_df.isnull()   #checking for null values\n",
    "null_per_column_2019 = null_2019.sum()\n",
    "print(null_per_column_2019)"
   ]
  },
  {
   "cell_type": "code",
   "execution_count": 1355,
   "id": "41444cb2",
   "metadata": {},
   "outputs": [
    {
     "name": "stdout",
     "output_type": "stream",
     "text": [
      "Program              0\n",
      "Service              0\n",
      "Activity             0\n",
      "Expense/Revenue      0\n",
      "Category Name        0\n",
      "Sub-Category Name    0\n",
      "Commitment item      0\n",
      "2020                 0\n",
      "dtype: int64\n"
     ]
    }
   ],
   "source": [
    "null_2020 = budget2020_df.isnull() #checking for null values\n",
    "null_per_column_2020 = null_2020.sum()\n",
    "print(null_per_column_2020)"
   ]
  },
  {
   "cell_type": "code",
   "execution_count": 1356,
   "id": "2fc3dde5",
   "metadata": {},
   "outputs": [
    {
     "name": "stdout",
     "output_type": "stream",
     "text": [
      "Program              0\n",
      "Service              0\n",
      "Activity             0\n",
      "Expense/Revenue      0\n",
      "Category Name        0\n",
      "Sub-Category Name    0\n",
      "Commitment item      0\n",
      "2021                 0\n",
      "dtype: int64\n"
     ]
    }
   ],
   "source": [
    "null_2021  = budget2021_df.isnull() #checking for null values\n",
    "null_per_column_2021 = null_2021.sum()\n",
    "print(null_per_column_2021)"
   ]
  },
  {
   "cell_type": "code",
   "execution_count": 1357,
   "id": "0ac6a89c",
   "metadata": {},
   "outputs": [
    {
     "name": "stdout",
     "output_type": "stream",
     "text": [
      "Program              0\n",
      "Service              0\n",
      "Activity             0\n",
      "Expense/Revenue      0\n",
      "Category Name        0\n",
      "Sub-Category Name    0\n",
      "Commitment item      0\n",
      "2022                 0\n",
      "dtype: int64\n"
     ]
    }
   ],
   "source": [
    "null_2022 = budget2022_df.isnull()  #checking for null values\n",
    "null_per_column_2022 = null_2022.sum()\n",
    "print(null_per_column_2022)"
   ]
  },
  {
   "cell_type": "code",
   "execution_count": 1358,
   "id": "e77400b7",
   "metadata": {},
   "outputs": [
    {
     "name": "stdout",
     "output_type": "stream",
     "text": [
      "Program              0\n",
      "Service              0\n",
      "Activity             0\n",
      "Expense/Revenue      0\n",
      "Category Name        0\n",
      "Sub-Category Name    0\n",
      "Commitment item      0\n",
      "2023                 0\n",
      "dtype: int64\n"
     ]
    }
   ],
   "source": [
    "null_2023 = budget2023_df.isnull()    #checking for null values\n",
    "null_per_column_2023 = null_2023.sum()\n",
    "print(null_per_column_2023)"
   ]
  },
  {
   "cell_type": "code",
   "execution_count": 1359,
   "id": "14f3735b",
   "metadata": {},
   "outputs": [],
   "source": [
    "#Renaming the last column in the data set to Budgeted Amount Year"
   ]
  },
  {
   "cell_type": "code",
   "execution_count": 1360,
   "id": "26eca081",
   "metadata": {},
   "outputs": [],
   "source": [
    "budget2019_df.rename(columns={2019.0: 'Budgeted amount 2019'}, inplace=True)\n",
    "budget2020_df.rename(columns={2020.0: 'Budgeted amount 2020'}, inplace=True)\n",
    "budget2021_df.rename(columns={2021.0: 'Budgeted amount 2021'}, inplace=True)\n",
    "budget2022_df.rename(columns={2022.0: 'Budgeted amount 2022'}, inplace=True)\n",
    "budget2023_df.rename(columns={2023.0: 'Budgeted amount 2023'}, inplace=True)"
   ]
  },
  {
   "cell_type": "code",
   "execution_count": 1361,
   "id": "fa3ebe42",
   "metadata": {},
   "outputs": [],
   "source": [
    "#Checking for duplicates "
   ]
  },
  {
   "cell_type": "code",
   "execution_count": 1362,
   "id": "73947f56",
   "metadata": {},
   "outputs": [],
   "source": [
    "##  Counts number of values in each dataframe before dropping duplicates"
   ]
  },
  {
   "cell_type": "code",
   "execution_count": 1363,
   "id": "a017964a",
   "metadata": {},
   "outputs": [
    {
     "data": {
      "text/plain": [
       "Program                 19428\n",
       "Service                 19428\n",
       "Activity                19428\n",
       "Expense/Revenue         19428\n",
       "Category Name           19428\n",
       "Sub-Category Name       19428\n",
       "Commitment item         19428\n",
       "Budgeted amount 2019    19428\n",
       "dtype: int64"
      ]
     },
     "execution_count": 1363,
     "metadata": {},
     "output_type": "execute_result"
    }
   ],
   "source": [
    "budget2019_df.count()"
   ]
  },
  {
   "cell_type": "code",
   "execution_count": 1364,
   "id": "421c90af",
   "metadata": {},
   "outputs": [
    {
     "data": {
      "text/plain": [
       "Program                 17779\n",
       "Service                 17779\n",
       "Activity                17779\n",
       "Expense/Revenue         17779\n",
       "Category Name           17779\n",
       "Sub-Category Name       17779\n",
       "Commitment item         17779\n",
       "Budgeted amount 2020    17779\n",
       "dtype: int64"
      ]
     },
     "execution_count": 1364,
     "metadata": {},
     "output_type": "execute_result"
    }
   ],
   "source": [
    "budget2020_df.count()"
   ]
  },
  {
   "cell_type": "code",
   "execution_count": 1365,
   "id": "5a3ada99",
   "metadata": {},
   "outputs": [
    {
     "data": {
      "text/plain": [
       "Program                 20816\n",
       "Service                 20816\n",
       "Activity                20816\n",
       "Expense/Revenue         20816\n",
       "Category Name           20816\n",
       "Sub-Category Name       20816\n",
       "Commitment item         20816\n",
       "Budgeted amount 2021    20816\n",
       "dtype: int64"
      ]
     },
     "execution_count": 1365,
     "metadata": {},
     "output_type": "execute_result"
    }
   ],
   "source": [
    "budget2021_df.count()"
   ]
  },
  {
   "cell_type": "code",
   "execution_count": 1366,
   "id": "8981c132",
   "metadata": {},
   "outputs": [
    {
     "data": {
      "text/plain": [
       "Program                 19714\n",
       "Service                 19714\n",
       "Activity                19714\n",
       "Expense/Revenue         19714\n",
       "Category Name           19714\n",
       "Sub-Category Name       19714\n",
       "Commitment item         19714\n",
       "Budgeted amount 2022    19714\n",
       "dtype: int64"
      ]
     },
     "execution_count": 1366,
     "metadata": {},
     "output_type": "execute_result"
    }
   ],
   "source": [
    "budget2022_df.count()"
   ]
  },
  {
   "cell_type": "code",
   "execution_count": 1367,
   "id": "1841707b",
   "metadata": {},
   "outputs": [
    {
     "data": {
      "text/plain": [
       "Program                 20127\n",
       "Service                 20127\n",
       "Activity                20127\n",
       "Expense/Revenue         20127\n",
       "Category Name           20127\n",
       "Sub-Category Name       20127\n",
       "Commitment item         20127\n",
       "Budgeted amount 2023    20127\n",
       "dtype: int64"
      ]
     },
     "execution_count": 1367,
     "metadata": {},
     "output_type": "execute_result"
    }
   ],
   "source": [
    "budget2023_df.count()"
   ]
  },
  {
   "cell_type": "code",
   "execution_count": 1368,
   "id": "fb89ee39",
   "metadata": {},
   "outputs": [
    {
     "data": {
      "text/html": [
       "<div>\n",
       "<style scoped>\n",
       "    .dataframe tbody tr th:only-of-type {\n",
       "        vertical-align: middle;\n",
       "    }\n",
       "\n",
       "    .dataframe tbody tr th {\n",
       "        vertical-align: top;\n",
       "    }\n",
       "\n",
       "    .dataframe thead th {\n",
       "        text-align: right;\n",
       "    }\n",
       "</style>\n",
       "<table border=\"1\" class=\"dataframe\">\n",
       "  <thead>\n",
       "    <tr style=\"text-align: right;\">\n",
       "      <th></th>\n",
       "      <th>Program</th>\n",
       "      <th>Service</th>\n",
       "      <th>Activity</th>\n",
       "      <th>Expense/Revenue</th>\n",
       "      <th>Category Name</th>\n",
       "      <th>Sub-Category Name</th>\n",
       "      <th>Commitment item</th>\n",
       "      <th>Budgeted amount 2023</th>\n",
       "    </tr>\n",
       "  </thead>\n",
       "  <tbody>\n",
       "    <tr>\n",
       "      <th>0</th>\n",
       "      <td>311 Toronto</td>\n",
       "      <td>311 Development</td>\n",
       "      <td>311 PMO</td>\n",
       "      <td>Expenses</td>\n",
       "      <td>Benefits</td>\n",
       "      <td>Benefits</td>\n",
       "      <td>Canada Pension Plan</td>\n",
       "      <td>63293.40</td>\n",
       "    </tr>\n",
       "    <tr>\n",
       "      <th>1</th>\n",
       "      <td>311 Toronto</td>\n",
       "      <td>311 Development</td>\n",
       "      <td>311 PMO</td>\n",
       "      <td>Expenses</td>\n",
       "      <td>Service And Rent</td>\n",
       "      <td>Telecommnuncation</td>\n",
       "      <td>Cellular Telephones</td>\n",
       "      <td>2830.00</td>\n",
       "    </tr>\n",
       "    <tr>\n",
       "      <th>2</th>\n",
       "      <td>311 Toronto</td>\n",
       "      <td>311 Development</td>\n",
       "      <td>311 PMO</td>\n",
       "      <td>Expenses</td>\n",
       "      <td>Benefits</td>\n",
       "      <td>Benefits</td>\n",
       "      <td>Comprehensive Medical</td>\n",
       "      <td>72595.32</td>\n",
       "    </tr>\n",
       "    <tr>\n",
       "      <th>3</th>\n",
       "      <td>311 Toronto</td>\n",
       "      <td>311 Development</td>\n",
       "      <td>311 PMO</td>\n",
       "      <td>Expenses</td>\n",
       "      <td>Benefits</td>\n",
       "      <td>Benefits</td>\n",
       "      <td>Dental Plan</td>\n",
       "      <td>37800.96</td>\n",
       "    </tr>\n",
       "    <tr>\n",
       "      <th>4</th>\n",
       "      <td>311 Toronto</td>\n",
       "      <td>311 Development</td>\n",
       "      <td>311 PMO</td>\n",
       "      <td>Expenses</td>\n",
       "      <td>Benefits</td>\n",
       "      <td>Benefits</td>\n",
       "      <td>Employment Insurance</td>\n",
       "      <td>22992.96</td>\n",
       "    </tr>\n",
       "    <tr>\n",
       "      <th>...</th>\n",
       "      <td>...</td>\n",
       "      <td>...</td>\n",
       "      <td>...</td>\n",
       "      <td>...</td>\n",
       "      <td>...</td>\n",
       "      <td>...</td>\n",
       "      <td>...</td>\n",
       "      <td>...</td>\n",
       "    </tr>\n",
       "    <tr>\n",
       "      <th>20114</th>\n",
       "      <td>Yonge-Dundas Square</td>\n",
       "      <td>Public Square And Event Venue</td>\n",
       "      <td>Not assigned</td>\n",
       "      <td>Expenses</td>\n",
       "      <td>Service And Rent</td>\n",
       "      <td>Services</td>\n",
       "      <td>Other Expenses</td>\n",
       "      <td>714500.00</td>\n",
       "    </tr>\n",
       "    <tr>\n",
       "      <th>20115</th>\n",
       "      <td>Yonge-Dundas Square</td>\n",
       "      <td>Public Square And Event Venue</td>\n",
       "      <td>Not assigned</td>\n",
       "      <td>Expenses</td>\n",
       "      <td>Service And Rent</td>\n",
       "      <td>Services</td>\n",
       "      <td>Other Professional And Technical Service</td>\n",
       "      <td>66000.00</td>\n",
       "    </tr>\n",
       "    <tr>\n",
       "      <th>20123</th>\n",
       "      <td>Yonge-Dundas Square</td>\n",
       "      <td>Public Square And Event Venue</td>\n",
       "      <td>Not assigned</td>\n",
       "      <td>Revenues</td>\n",
       "      <td>Contribution From Reserves/Reserve Funds</td>\n",
       "      <td>Contribution From Reserves/Reserve Funds</td>\n",
       "      <td>Contributions From Reserves</td>\n",
       "      <td>-33519.00</td>\n",
       "    </tr>\n",
       "    <tr>\n",
       "      <th>20124</th>\n",
       "      <td>Yonge-Dundas Square</td>\n",
       "      <td>Public Square And Event Venue</td>\n",
       "      <td>Not assigned</td>\n",
       "      <td>Revenues</td>\n",
       "      <td>User Fees &amp; Donations</td>\n",
       "      <td>User Fees</td>\n",
       "      <td>Fees, Service Charges</td>\n",
       "      <td>-836250.00</td>\n",
       "    </tr>\n",
       "    <tr>\n",
       "      <th>20126</th>\n",
       "      <td>Yonge-Dundas Square</td>\n",
       "      <td>Public Square And Event Venue</td>\n",
       "      <td>Not assigned</td>\n",
       "      <td>Revenues</td>\n",
       "      <td>Other Revenue</td>\n",
       "      <td>Miscellaneous Revenues</td>\n",
       "      <td>Sundry Revenue</td>\n",
       "      <td>-880000.00</td>\n",
       "    </tr>\n",
       "  </tbody>\n",
       "</table>\n",
       "<p>15323 rows × 8 columns</p>\n",
       "</div>"
      ],
      "text/plain": [
       "                   Program                        Service      Activity  \\\n",
       "0              311 Toronto                311 Development       311 PMO   \n",
       "1              311 Toronto                311 Development       311 PMO   \n",
       "2              311 Toronto                311 Development       311 PMO   \n",
       "3              311 Toronto                311 Development       311 PMO   \n",
       "4              311 Toronto                311 Development       311 PMO   \n",
       "...                    ...                            ...           ...   \n",
       "20114  Yonge-Dundas Square  Public Square And Event Venue  Not assigned   \n",
       "20115  Yonge-Dundas Square  Public Square And Event Venue  Not assigned   \n",
       "20123  Yonge-Dundas Square  Public Square And Event Venue  Not assigned   \n",
       "20124  Yonge-Dundas Square  Public Square And Event Venue  Not assigned   \n",
       "20126  Yonge-Dundas Square  Public Square And Event Venue  Not assigned   \n",
       "\n",
       "      Expense/Revenue                             Category Name  \\\n",
       "0            Expenses                                  Benefits   \n",
       "1            Expenses                          Service And Rent   \n",
       "2            Expenses                                  Benefits   \n",
       "3            Expenses                                  Benefits   \n",
       "4            Expenses                                  Benefits   \n",
       "...               ...                                       ...   \n",
       "20114        Expenses                          Service And Rent   \n",
       "20115        Expenses                          Service And Rent   \n",
       "20123        Revenues  Contribution From Reserves/Reserve Funds   \n",
       "20124        Revenues                     User Fees & Donations   \n",
       "20126        Revenues                             Other Revenue   \n",
       "\n",
       "                              Sub-Category Name  \\\n",
       "0                                      Benefits   \n",
       "1                             Telecommnuncation   \n",
       "2                                      Benefits   \n",
       "3                                      Benefits   \n",
       "4                                      Benefits   \n",
       "...                                         ...   \n",
       "20114                                  Services   \n",
       "20115                                  Services   \n",
       "20123  Contribution From Reserves/Reserve Funds   \n",
       "20124                                 User Fees   \n",
       "20126                    Miscellaneous Revenues   \n",
       "\n",
       "                                Commitment item  Budgeted amount 2023  \n",
       "0                           Canada Pension Plan              63293.40  \n",
       "1                           Cellular Telephones               2830.00  \n",
       "2                         Comprehensive Medical              72595.32  \n",
       "3                                   Dental Plan              37800.96  \n",
       "4                          Employment Insurance              22992.96  \n",
       "...                                         ...                   ...  \n",
       "20114                            Other Expenses             714500.00  \n",
       "20115  Other Professional And Technical Service              66000.00  \n",
       "20123               Contributions From Reserves             -33519.00  \n",
       "20124                     Fees, Service Charges            -836250.00  \n",
       "20126                            Sundry Revenue            -880000.00  \n",
       "\n",
       "[15323 rows x 8 columns]"
      ]
     },
     "execution_count": 1368,
     "metadata": {},
     "output_type": "execute_result"
    }
   ],
   "source": [
    "##Dropping duplicates\n",
    "\n",
    "budget2019_df.drop_duplicates(subset = 'Budgeted amount 2019')\n",
    "budget2020_df.drop_duplicates(subset = 'Budgeted amount 2020')\n",
    "budget2021_df.drop_duplicates(subset = 'Budgeted amount 2021')\n",
    "budget2022_df.drop_duplicates(subset = 'Budgeted amount 2022')\n",
    "budget2023_df.drop_duplicates(subset = 'Budgeted amount 2023')"
   ]
  },
  {
   "cell_type": "code",
   "execution_count": 1369,
   "id": "cbcde813",
   "metadata": {},
   "outputs": [],
   "source": [
    "##Checking if count values changed after dropping duplicates"
   ]
  },
  {
   "cell_type": "code",
   "execution_count": 1370,
   "id": "16ba44a0",
   "metadata": {},
   "outputs": [
    {
     "data": {
      "text/plain": [
       "Program                 19428\n",
       "Service                 19428\n",
       "Activity                19428\n",
       "Expense/Revenue         19428\n",
       "Category Name           19428\n",
       "Sub-Category Name       19428\n",
       "Commitment item         19428\n",
       "Budgeted amount 2019    19428\n",
       "dtype: int64"
      ]
     },
     "execution_count": 1370,
     "metadata": {},
     "output_type": "execute_result"
    }
   ],
   "source": [
    "budget2019_df.count()"
   ]
  },
  {
   "cell_type": "code",
   "execution_count": 1371,
   "id": "e7098e74",
   "metadata": {},
   "outputs": [
    {
     "data": {
      "text/plain": [
       "Program                 17779\n",
       "Service                 17779\n",
       "Activity                17779\n",
       "Expense/Revenue         17779\n",
       "Category Name           17779\n",
       "Sub-Category Name       17779\n",
       "Commitment item         17779\n",
       "Budgeted amount 2020    17779\n",
       "dtype: int64"
      ]
     },
     "execution_count": 1371,
     "metadata": {},
     "output_type": "execute_result"
    }
   ],
   "source": [
    "budget2020_df.count()"
   ]
  },
  {
   "cell_type": "code",
   "execution_count": 1372,
   "id": "eabde54d",
   "metadata": {},
   "outputs": [
    {
     "data": {
      "text/plain": [
       "Program                 20816\n",
       "Service                 20816\n",
       "Activity                20816\n",
       "Expense/Revenue         20816\n",
       "Category Name           20816\n",
       "Sub-Category Name       20816\n",
       "Commitment item         20816\n",
       "Budgeted amount 2021    20816\n",
       "dtype: int64"
      ]
     },
     "execution_count": 1372,
     "metadata": {},
     "output_type": "execute_result"
    }
   ],
   "source": [
    "budget2021_df.count()"
   ]
  },
  {
   "cell_type": "code",
   "execution_count": 1373,
   "id": "1d139b47",
   "metadata": {},
   "outputs": [
    {
     "data": {
      "text/plain": [
       "Program                 19714\n",
       "Service                 19714\n",
       "Activity                19714\n",
       "Expense/Revenue         19714\n",
       "Category Name           19714\n",
       "Sub-Category Name       19714\n",
       "Commitment item         19714\n",
       "Budgeted amount 2022    19714\n",
       "dtype: int64"
      ]
     },
     "execution_count": 1373,
     "metadata": {},
     "output_type": "execute_result"
    }
   ],
   "source": [
    "budget2022_df.count()"
   ]
  },
  {
   "cell_type": "code",
   "execution_count": 1374,
   "id": "32fe54bd",
   "metadata": {},
   "outputs": [
    {
     "data": {
      "text/plain": [
       "Program                 20127\n",
       "Service                 20127\n",
       "Activity                20127\n",
       "Expense/Revenue         20127\n",
       "Category Name           20127\n",
       "Sub-Category Name       20127\n",
       "Commitment item         20127\n",
       "Budgeted amount 2023    20127\n",
       "dtype: int64"
      ]
     },
     "execution_count": 1374,
     "metadata": {},
     "output_type": "execute_result"
    }
   ],
   "source": [
    "budget2023_df.count()"
   ]
  },
  {
   "cell_type": "code",
   "execution_count": 1375,
   "id": "91d5b53b",
   "metadata": {},
   "outputs": [],
   "source": [
    "#Checking if data types are consistent in the datasets"
   ]
  },
  {
   "cell_type": "code",
   "execution_count": 1376,
   "id": "d0549638",
   "metadata": {},
   "outputs": [
    {
     "data": {
      "text/plain": [
       "Program                  object\n",
       "Service                  object\n",
       "Activity                 object\n",
       "Expense/Revenue          object\n",
       "Category Name            object\n",
       "Sub-Category Name        object\n",
       "Commitment item          object\n",
       "Budgeted amount 2019    float64\n",
       "dtype: object"
      ]
     },
     "execution_count": 1376,
     "metadata": {},
     "output_type": "execute_result"
    }
   ],
   "source": [
    "budget2019_df.dtypes"
   ]
  },
  {
   "cell_type": "code",
   "execution_count": 1377,
   "id": "a8e7f99c",
   "metadata": {},
   "outputs": [
    {
     "data": {
      "text/plain": [
       "Program                  object\n",
       "Service                  object\n",
       "Activity                 object\n",
       "Expense/Revenue          object\n",
       "Category Name            object\n",
       "Sub-Category Name        object\n",
       "Commitment item          object\n",
       "Budgeted amount 2020    float64\n",
       "dtype: object"
      ]
     },
     "execution_count": 1377,
     "metadata": {},
     "output_type": "execute_result"
    }
   ],
   "source": [
    "budget2020_df.dtypes"
   ]
  },
  {
   "cell_type": "code",
   "execution_count": 1378,
   "id": "4efce172",
   "metadata": {},
   "outputs": [
    {
     "data": {
      "text/plain": [
       "Program                  object\n",
       "Service                  object\n",
       "Activity                 object\n",
       "Expense/Revenue          object\n",
       "Category Name            object\n",
       "Sub-Category Name        object\n",
       "Commitment item          object\n",
       "Budgeted amount 2021    float64\n",
       "dtype: object"
      ]
     },
     "execution_count": 1378,
     "metadata": {},
     "output_type": "execute_result"
    }
   ],
   "source": [
    "budget2021_df.dtypes"
   ]
  },
  {
   "cell_type": "code",
   "execution_count": 1379,
   "id": "9fc7c1d3",
   "metadata": {},
   "outputs": [
    {
     "data": {
      "text/plain": [
       "Program                  object\n",
       "Service                  object\n",
       "Activity                 object\n",
       "Expense/Revenue          object\n",
       "Category Name            object\n",
       "Sub-Category Name        object\n",
       "Commitment item          object\n",
       "Budgeted amount 2022    float64\n",
       "dtype: object"
      ]
     },
     "execution_count": 1379,
     "metadata": {},
     "output_type": "execute_result"
    }
   ],
   "source": [
    "budget2022_df.dtypes"
   ]
  },
  {
   "cell_type": "code",
   "execution_count": 1380,
   "id": "ffad9279",
   "metadata": {},
   "outputs": [
    {
     "data": {
      "text/plain": [
       "Program                  object\n",
       "Service                  object\n",
       "Activity                 object\n",
       "Expense/Revenue          object\n",
       "Category Name            object\n",
       "Sub-Category Name        object\n",
       "Commitment item          object\n",
       "Budgeted amount 2023    float64\n",
       "dtype: object"
      ]
     },
     "execution_count": 1380,
     "metadata": {},
     "output_type": "execute_result"
    }
   ],
   "source": [
    "budget2023_df.dtypes"
   ]
  },
  {
   "cell_type": "code",
   "execution_count": 1381,
   "id": "557bad4f",
   "metadata": {},
   "outputs": [],
   "source": [
    "#Seperating the data into different dataframes based on if they are expense or revenue"
   ]
  },
  {
   "cell_type": "code",
   "execution_count": 1382,
   "id": "51758525",
   "metadata": {},
   "outputs": [],
   "source": [
    "budget2019_df_exp = budget2019_df[budget2019_df['Expense/Revenue']=='Expenses']\n",
    "budget2019_df_rev = budget2019_df[budget2019_df['Expense/Revenue']=='Revenues']"
   ]
  },
  {
   "cell_type": "code",
   "execution_count": 1383,
   "id": "9bce003f",
   "metadata": {},
   "outputs": [],
   "source": [
    "budget2020_df_exp = budget2020_df[budget2020_df['Expense/Revenue']=='Expenses']\n",
    "budget2020_df_rev = budget2020_df[budget2020_df['Expense/Revenue']=='Revenues']"
   ]
  },
  {
   "cell_type": "code",
   "execution_count": 1384,
   "id": "b83f92db",
   "metadata": {},
   "outputs": [],
   "source": [
    "budget2021_df_exp = budget2021_df[budget2021_df['Expense/Revenue']=='Expenses']\n",
    "budget2021_df_rev = budget2021_df[budget2021_df['Expense/Revenue']=='Revenues']"
   ]
  },
  {
   "cell_type": "code",
   "execution_count": 1385,
   "id": "1996ec81",
   "metadata": {},
   "outputs": [],
   "source": [
    "budget2022_df_exp = budget2022_df[budget2022_df['Expense/Revenue']=='Expenses']\n",
    "budget2022_df_rev = budget2022_df[budget2022_df['Expense/Revenue']=='Revenues']"
   ]
  },
  {
   "cell_type": "code",
   "execution_count": 1386,
   "id": "ca98b872",
   "metadata": {},
   "outputs": [
    {
     "data": {
      "text/html": [
       "<div>\n",
       "<style scoped>\n",
       "    .dataframe tbody tr th:only-of-type {\n",
       "        vertical-align: middle;\n",
       "    }\n",
       "\n",
       "    .dataframe tbody tr th {\n",
       "        vertical-align: top;\n",
       "    }\n",
       "\n",
       "    .dataframe thead th {\n",
       "        text-align: right;\n",
       "    }\n",
       "</style>\n",
       "<table border=\"1\" class=\"dataframe\">\n",
       "  <thead>\n",
       "    <tr style=\"text-align: right;\">\n",
       "      <th></th>\n",
       "      <th>Program</th>\n",
       "      <th>Service</th>\n",
       "      <th>Activity</th>\n",
       "      <th>Expense/Revenue</th>\n",
       "      <th>Category Name</th>\n",
       "      <th>Sub-Category Name</th>\n",
       "      <th>Commitment item</th>\n",
       "      <th>Budgeted amount 2023</th>\n",
       "    </tr>\n",
       "  </thead>\n",
       "  <tbody>\n",
       "    <tr>\n",
       "      <th>0</th>\n",
       "      <td>311 Toronto</td>\n",
       "      <td>311 Development</td>\n",
       "      <td>311 PMO</td>\n",
       "      <td>Expenses</td>\n",
       "      <td>Benefits</td>\n",
       "      <td>Benefits</td>\n",
       "      <td>Canada Pension Plan</td>\n",
       "      <td>63293.40</td>\n",
       "    </tr>\n",
       "    <tr>\n",
       "      <th>1</th>\n",
       "      <td>311 Toronto</td>\n",
       "      <td>311 Development</td>\n",
       "      <td>311 PMO</td>\n",
       "      <td>Expenses</td>\n",
       "      <td>Service And Rent</td>\n",
       "      <td>Telecommnuncation</td>\n",
       "      <td>Cellular Telephones</td>\n",
       "      <td>2830.00</td>\n",
       "    </tr>\n",
       "    <tr>\n",
       "      <th>2</th>\n",
       "      <td>311 Toronto</td>\n",
       "      <td>311 Development</td>\n",
       "      <td>311 PMO</td>\n",
       "      <td>Expenses</td>\n",
       "      <td>Benefits</td>\n",
       "      <td>Benefits</td>\n",
       "      <td>Comprehensive Medical</td>\n",
       "      <td>72595.32</td>\n",
       "    </tr>\n",
       "    <tr>\n",
       "      <th>3</th>\n",
       "      <td>311 Toronto</td>\n",
       "      <td>311 Development</td>\n",
       "      <td>311 PMO</td>\n",
       "      <td>Expenses</td>\n",
       "      <td>Benefits</td>\n",
       "      <td>Benefits</td>\n",
       "      <td>Dental Plan</td>\n",
       "      <td>37800.96</td>\n",
       "    </tr>\n",
       "    <tr>\n",
       "      <th>4</th>\n",
       "      <td>311 Toronto</td>\n",
       "      <td>311 Development</td>\n",
       "      <td>311 PMO</td>\n",
       "      <td>Expenses</td>\n",
       "      <td>Benefits</td>\n",
       "      <td>Benefits</td>\n",
       "      <td>Employment Insurance</td>\n",
       "      <td>22992.96</td>\n",
       "    </tr>\n",
       "    <tr>\n",
       "      <th>...</th>\n",
       "      <td>...</td>\n",
       "      <td>...</td>\n",
       "      <td>...</td>\n",
       "      <td>...</td>\n",
       "      <td>...</td>\n",
       "      <td>...</td>\n",
       "      <td>...</td>\n",
       "      <td>...</td>\n",
       "    </tr>\n",
       "    <tr>\n",
       "      <th>20118</th>\n",
       "      <td>Yonge-Dundas Square</td>\n",
       "      <td>Public Square And Event Venue</td>\n",
       "      <td>Not assigned</td>\n",
       "      <td>Expenses</td>\n",
       "      <td>Service And Rent</td>\n",
       "      <td>Professtional &amp; Consulting</td>\n",
       "      <td>Professional Services - Audit</td>\n",
       "      <td>10000.00</td>\n",
       "    </tr>\n",
       "    <tr>\n",
       "      <th>20119</th>\n",
       "      <td>Yonge-Dundas Square</td>\n",
       "      <td>Public Square And Event Venue</td>\n",
       "      <td>Not assigned</td>\n",
       "      <td>Expenses</td>\n",
       "      <td>Service And Rent</td>\n",
       "      <td>Professtional &amp; Consulting</td>\n",
       "      <td>Professional Services - Legal</td>\n",
       "      <td>2500.00</td>\n",
       "    </tr>\n",
       "    <tr>\n",
       "      <th>20120</th>\n",
       "      <td>Yonge-Dundas Square</td>\n",
       "      <td>Public Square And Event Venue</td>\n",
       "      <td>Not assigned</td>\n",
       "      <td>Expenses</td>\n",
       "      <td>Service And Rent</td>\n",
       "      <td>Rentals</td>\n",
       "      <td>Rental Of Office</td>\n",
       "      <td>80000.00</td>\n",
       "    </tr>\n",
       "    <tr>\n",
       "      <th>20121</th>\n",
       "      <td>Yonge-Dundas Square</td>\n",
       "      <td>Public Square And Event Venue</td>\n",
       "      <td>Not assigned</td>\n",
       "      <td>Expenses</td>\n",
       "      <td>Service And Rent</td>\n",
       "      <td>Telecommnuncation</td>\n",
       "      <td>Telephone</td>\n",
       "      <td>25000.00</td>\n",
       "    </tr>\n",
       "    <tr>\n",
       "      <th>20122</th>\n",
       "      <td>Yonge-Dundas Square</td>\n",
       "      <td>Public Square And Event Venue</td>\n",
       "      <td>Not assigned</td>\n",
       "      <td>Expenses</td>\n",
       "      <td>Materials &amp; Supplies</td>\n",
       "      <td>Energy</td>\n",
       "      <td>Water</td>\n",
       "      <td>7000.00</td>\n",
       "    </tr>\n",
       "  </tbody>\n",
       "</table>\n",
       "<p>18576 rows × 8 columns</p>\n",
       "</div>"
      ],
      "text/plain": [
       "                   Program                        Service      Activity  \\\n",
       "0              311 Toronto                311 Development       311 PMO   \n",
       "1              311 Toronto                311 Development       311 PMO   \n",
       "2              311 Toronto                311 Development       311 PMO   \n",
       "3              311 Toronto                311 Development       311 PMO   \n",
       "4              311 Toronto                311 Development       311 PMO   \n",
       "...                    ...                            ...           ...   \n",
       "20118  Yonge-Dundas Square  Public Square And Event Venue  Not assigned   \n",
       "20119  Yonge-Dundas Square  Public Square And Event Venue  Not assigned   \n",
       "20120  Yonge-Dundas Square  Public Square And Event Venue  Not assigned   \n",
       "20121  Yonge-Dundas Square  Public Square And Event Venue  Not assigned   \n",
       "20122  Yonge-Dundas Square  Public Square And Event Venue  Not assigned   \n",
       "\n",
       "      Expense/Revenue         Category Name           Sub-Category Name  \\\n",
       "0            Expenses              Benefits                    Benefits   \n",
       "1            Expenses      Service And Rent           Telecommnuncation   \n",
       "2            Expenses              Benefits                    Benefits   \n",
       "3            Expenses              Benefits                    Benefits   \n",
       "4            Expenses              Benefits                    Benefits   \n",
       "...               ...                   ...                         ...   \n",
       "20118        Expenses      Service And Rent  Professtional & Consulting   \n",
       "20119        Expenses      Service And Rent  Professtional & Consulting   \n",
       "20120        Expenses      Service And Rent                     Rentals   \n",
       "20121        Expenses      Service And Rent           Telecommnuncation   \n",
       "20122        Expenses  Materials & Supplies                      Energy   \n",
       "\n",
       "                     Commitment item  Budgeted amount 2023  \n",
       "0                Canada Pension Plan              63293.40  \n",
       "1                Cellular Telephones               2830.00  \n",
       "2              Comprehensive Medical              72595.32  \n",
       "3                        Dental Plan              37800.96  \n",
       "4               Employment Insurance              22992.96  \n",
       "...                              ...                   ...  \n",
       "20118  Professional Services - Audit              10000.00  \n",
       "20119  Professional Services - Legal               2500.00  \n",
       "20120               Rental Of Office              80000.00  \n",
       "20121                      Telephone              25000.00  \n",
       "20122                          Water               7000.00  \n",
       "\n",
       "[18576 rows x 8 columns]"
      ]
     },
     "execution_count": 1386,
     "metadata": {},
     "output_type": "execute_result"
    }
   ],
   "source": [
    "budget2023_df_exp = budget2023_df[budget2023_df['Expense/Revenue']=='Expenses']\n",
    "budget2023_df_rev = budget2023_df[budget2023_df['Expense/Revenue']=='Revenues']\n",
    "budget2023_df_exp"
   ]
  },
  {
   "cell_type": "markdown",
   "id": "42029b57",
   "metadata": {},
   "source": [
    "##Defining Years for all futhure calculations"
   ]
  },
  {
   "cell_type": "code",
   "execution_count": 1401,
   "id": "658e7e06",
   "metadata": {},
   "outputs": [],
   "source": [
    "years = [2019, 2020, 2021, 2022, 2023]"
   ]
  },
  {
   "cell_type": "markdown",
   "id": "b9ead65c",
   "metadata": {},
   "source": [
    "#Calculating Category wise total budget amount and converting it in multiples of 10^6 \n",
    "#Converting the Budget amount in Millions"
   ]
  },
  {
   "cell_type": "code",
   "execution_count": 1402,
   "id": "c89b218c",
   "metadata": {},
   "outputs": [
    {
     "name": "stdout",
     "output_type": "stream",
     "text": [
      "                            Category Name  Budgeted amount 2019\n",
      "0                 Contribution To Capital          3.434535e+08\n",
      "1  Contribution To Reserves/Reserve Funds          1.374326e+09\n",
      "2                               Equipment          6.256912e+07\n",
      "3                Inter-Divisional Charges          3.161485e+08\n",
      "4                    Materials & Supplies          7.350229e+08\n",
      "5                      Other Expenditures          2.711142e+09\n",
      "6                   Salaries And Benefits          5.928046e+09\n",
      "7                        Service And Rent          2.082853e+09\n",
      "                            Category Name  Budgeted amount 2020\n",
      "0                 Contribution To Capital          3.434555e+08\n",
      "1  Contribution To Reserves/Reserve Funds          1.492208e+09\n",
      "2                               Equipment          6.305564e+07\n",
      "3                Inter-Divisional Charges          1.569948e+08\n",
      "4                    Materials & Supplies          7.344638e+08\n",
      "5                      Other Expenditures          2.611534e+09\n",
      "6                   Salaries And Benefits          6.092481e+09\n",
      "7                        Service And Rent          2.178262e+09\n",
      "                            Category Name  Budgeted amount 2021\n",
      "0                                Benefits          1.450706e+09\n",
      "1                 Contribution To Capital          3.495350e+08\n",
      "2  Contribution To Reserves/Reserve Funds          1.569495e+09\n",
      "3                               Equipment          6.305676e+07\n",
      "4                    Materials & Supplies          8.132793e+08\n",
      "5                      Other Expenditures          2.835059e+09\n",
      "6                                Salaries          4.781880e+09\n",
      "7                        Service And Rent          2.342040e+09\n",
      "                            Category Name  Budgeted amount 2022\n",
      "0                                Benefits          1.488014e+09\n",
      "1                 Contribution To Capital          3.477590e+08\n",
      "2  Contribution To Reserves/Reserve Funds          6.790572e+08\n",
      "3                               Equipment          6.962870e+07\n",
      "4                Inter-Divisional Charges          3.124781e+08\n",
      "5                    Materials & Supplies          8.103749e+08\n",
      "6                      Other Expenditures          2.776243e+09\n",
      "7                                Salaries          5.108580e+09\n",
      "8                        Service And Rent          2.632925e+09\n",
      "                            Category Name  Budgeted amount 2023\n",
      "0                                Benefits          1.586110e+09\n",
      "1                 Contribution To Capital          3.454875e+08\n",
      "2  Contribution To Reserves/Reserve Funds          8.177363e+08\n",
      "3                               Equipment          7.491960e+07\n",
      "4                Inter-Divisional Charges          3.197343e+08\n",
      "5                    Materials & Supplies          8.393636e+08\n",
      "6                      Other Expenditures          3.063181e+09\n",
      "7                                Salaries          5.313474e+09\n",
      "8                        Service And Rent          3.071138e+09\n"
     ]
    }
   ],
   "source": [
    "# Create an empty dictionary to store DataFrames for each year\n",
    "category_dfs_ak = []\n",
    "\n",
    "for year in years:\n",
    "    budget_df = globals()[f\"budget{year}_df_exp\"]\n",
    "    category_df = budget_df.groupby(\"Category Name\")[f\"Budgeted amount {year}\"].sum().reset_index()\n",
    "    category_dfs_ak.append(category_df)\n",
    "    \n",
    "    \n",
    "# category_dfs now contains DataFrames for each year (2019 to 2023)\n",
    "# You can access them using category_dfs[0], category_dfs[1], ..., category_dfs[4]\n",
    "for df in category_dfs_ak:\n",
    "    print(df)"
   ]
  },
  {
   "cell_type": "code",
   "execution_count": null,
   "id": "4c075204",
   "metadata": {},
   "outputs": [],
   "source": []
  },
  {
   "cell_type": "markdown",
   "id": "f728c410",
   "metadata": {},
   "source": [
    "Merging the Category wise Budget Amount Dataframe to a single Dataframe"
   ]
  },
  {
   "cell_type": "code",
   "execution_count": 1403,
   "id": "1f3541ef",
   "metadata": {},
   "outputs": [
    {
     "data": {
      "text/html": [
       "<div>\n",
       "<style scoped>\n",
       "    .dataframe tbody tr th:only-of-type {\n",
       "        vertical-align: middle;\n",
       "    }\n",
       "\n",
       "    .dataframe tbody tr th {\n",
       "        vertical-align: top;\n",
       "    }\n",
       "\n",
       "    .dataframe thead th {\n",
       "        text-align: right;\n",
       "    }\n",
       "</style>\n",
       "<table border=\"1\" class=\"dataframe\">\n",
       "  <thead>\n",
       "    <tr style=\"text-align: right;\">\n",
       "      <th></th>\n",
       "      <th>Category Name</th>\n",
       "      <th>Budget Data 2019</th>\n",
       "      <th>Budget Data 2020</th>\n",
       "      <th>Budget Data 2021</th>\n",
       "      <th>Budget Data 2022</th>\n",
       "      <th>Budget Data 2023</th>\n",
       "    </tr>\n",
       "  </thead>\n",
       "  <tbody>\n",
       "    <tr>\n",
       "      <th>0</th>\n",
       "      <td>Contribution To Capital</td>\n",
       "      <td>3.434535e+08</td>\n",
       "      <td>3.434555e+08</td>\n",
       "      <td>3.495350e+08</td>\n",
       "      <td>3.477590e+08</td>\n",
       "      <td>3.454875e+08</td>\n",
       "    </tr>\n",
       "    <tr>\n",
       "      <th>1</th>\n",
       "      <td>Contribution To Reserves/Reserve Funds</td>\n",
       "      <td>1.374326e+09</td>\n",
       "      <td>1.492208e+09</td>\n",
       "      <td>1.569495e+09</td>\n",
       "      <td>6.790572e+08</td>\n",
       "      <td>8.177363e+08</td>\n",
       "    </tr>\n",
       "    <tr>\n",
       "      <th>2</th>\n",
       "      <td>Equipment</td>\n",
       "      <td>6.256912e+07</td>\n",
       "      <td>6.305564e+07</td>\n",
       "      <td>6.305676e+07</td>\n",
       "      <td>6.962870e+07</td>\n",
       "      <td>7.491960e+07</td>\n",
       "    </tr>\n",
       "    <tr>\n",
       "      <th>3</th>\n",
       "      <td>Inter-Divisional Charges</td>\n",
       "      <td>3.161485e+08</td>\n",
       "      <td>1.569948e+08</td>\n",
       "      <td>NaN</td>\n",
       "      <td>3.124781e+08</td>\n",
       "      <td>3.197343e+08</td>\n",
       "    </tr>\n",
       "    <tr>\n",
       "      <th>4</th>\n",
       "      <td>Materials &amp; Supplies</td>\n",
       "      <td>7.350229e+08</td>\n",
       "      <td>7.344638e+08</td>\n",
       "      <td>8.132793e+08</td>\n",
       "      <td>8.103749e+08</td>\n",
       "      <td>8.393636e+08</td>\n",
       "    </tr>\n",
       "    <tr>\n",
       "      <th>5</th>\n",
       "      <td>Other Expenditures</td>\n",
       "      <td>2.711142e+09</td>\n",
       "      <td>2.611534e+09</td>\n",
       "      <td>2.835059e+09</td>\n",
       "      <td>2.776243e+09</td>\n",
       "      <td>3.063181e+09</td>\n",
       "    </tr>\n",
       "    <tr>\n",
       "      <th>6</th>\n",
       "      <td>Salaries And Benefits</td>\n",
       "      <td>5.928046e+09</td>\n",
       "      <td>6.092481e+09</td>\n",
       "      <td>NaN</td>\n",
       "      <td>NaN</td>\n",
       "      <td>NaN</td>\n",
       "    </tr>\n",
       "    <tr>\n",
       "      <th>7</th>\n",
       "      <td>Service And Rent</td>\n",
       "      <td>2.082853e+09</td>\n",
       "      <td>2.178262e+09</td>\n",
       "      <td>2.342040e+09</td>\n",
       "      <td>2.632925e+09</td>\n",
       "      <td>3.071138e+09</td>\n",
       "    </tr>\n",
       "    <tr>\n",
       "      <th>8</th>\n",
       "      <td>Benefits</td>\n",
       "      <td>NaN</td>\n",
       "      <td>NaN</td>\n",
       "      <td>1.450706e+09</td>\n",
       "      <td>1.488014e+09</td>\n",
       "      <td>1.586110e+09</td>\n",
       "    </tr>\n",
       "    <tr>\n",
       "      <th>9</th>\n",
       "      <td>Salaries</td>\n",
       "      <td>NaN</td>\n",
       "      <td>NaN</td>\n",
       "      <td>4.781880e+09</td>\n",
       "      <td>5.108580e+09</td>\n",
       "      <td>5.313474e+09</td>\n",
       "    </tr>\n",
       "  </tbody>\n",
       "</table>\n",
       "</div>"
      ],
      "text/plain": [
       "                            Category Name  Budget Data 2019  Budget Data 2020  \\\n",
       "0                 Contribution To Capital      3.434535e+08      3.434555e+08   \n",
       "1  Contribution To Reserves/Reserve Funds      1.374326e+09      1.492208e+09   \n",
       "2                               Equipment      6.256912e+07      6.305564e+07   \n",
       "3                Inter-Divisional Charges      3.161485e+08      1.569948e+08   \n",
       "4                    Materials & Supplies      7.350229e+08      7.344638e+08   \n",
       "5                      Other Expenditures      2.711142e+09      2.611534e+09   \n",
       "6                   Salaries And Benefits      5.928046e+09      6.092481e+09   \n",
       "7                        Service And Rent      2.082853e+09      2.178262e+09   \n",
       "8                                Benefits               NaN               NaN   \n",
       "9                                Salaries               NaN               NaN   \n",
       "\n",
       "   Budget Data 2021  Budget Data 2022  Budget Data 2023  \n",
       "0      3.495350e+08      3.477590e+08      3.454875e+08  \n",
       "1      1.569495e+09      6.790572e+08      8.177363e+08  \n",
       "2      6.305676e+07      6.962870e+07      7.491960e+07  \n",
       "3               NaN      3.124781e+08      3.197343e+08  \n",
       "4      8.132793e+08      8.103749e+08      8.393636e+08  \n",
       "5      2.835059e+09      2.776243e+09      3.063181e+09  \n",
       "6               NaN               NaN               NaN  \n",
       "7      2.342040e+09      2.632925e+09      3.071138e+09  \n",
       "8      1.450706e+09      1.488014e+09      1.586110e+09  \n",
       "9      4.781880e+09      5.108580e+09      5.313474e+09  "
      ]
     },
     "execution_count": 1403,
     "metadata": {},
     "output_type": "execute_result"
    }
   ],
   "source": [
    "# Merge category_df_2019_ak and category_df_2020_ak on \"Category Name\"\n",
    "merged_df_ak = pd.merge(category_df_2019_ak, category_df_2020_ak, on=\"Category Name\", how=\"outer\")\n",
    "\n",
    "# Merge the result with category_df_2021 on \"Category Name\"\n",
    "merged_df_ak = pd.merge(merged_df_ak, category_df_2021_ak, on=\"Category Name\", how=\"outer\")\n",
    "\n",
    "# Merge the result with category_df_2022 on \"Category Name\"\n",
    "merged_df_ak = pd.merge(merged_df_ak, category_df_2022_ak, on=\"Category Name\", how=\"outer\")\n",
    "\n",
    "# Merge the result with category_df_2023 on \"Category Name\"\n",
    "merged_df_ak = pd.merge(merged_df_ak, category_df_2023_ak, on=\"Category Name\", how=\"outer\")\n",
    "\n",
    "merged_df_ak"
   ]
  },
  {
   "cell_type": "code",
   "execution_count": 1404,
   "id": "ee9561de",
   "metadata": {},
   "outputs": [
    {
     "data": {
      "text/html": [
       "<div>\n",
       "<style scoped>\n",
       "    .dataframe tbody tr th:only-of-type {\n",
       "        vertical-align: middle;\n",
       "    }\n",
       "\n",
       "    .dataframe tbody tr th {\n",
       "        vertical-align: top;\n",
       "    }\n",
       "\n",
       "    .dataframe thead th {\n",
       "        text-align: right;\n",
       "    }\n",
       "</style>\n",
       "<table border=\"1\" class=\"dataframe\">\n",
       "  <thead>\n",
       "    <tr style=\"text-align: right;\">\n",
       "      <th></th>\n",
       "      <th>Category Name</th>\n",
       "      <th>Expense 2019(millions)</th>\n",
       "      <th>Expense 2020(millions)</th>\n",
       "      <th>Expense 2021(millions)</th>\n",
       "      <th>Expense 2022(millions)</th>\n",
       "      <th>Expense 2023(millions)</th>\n",
       "    </tr>\n",
       "  </thead>\n",
       "  <tbody>\n",
       "    <tr>\n",
       "      <th>0</th>\n",
       "      <td>Contribution To Capital</td>\n",
       "      <td>343.45</td>\n",
       "      <td>343.46</td>\n",
       "      <td>349.53</td>\n",
       "      <td>347.76</td>\n",
       "      <td>345.49</td>\n",
       "    </tr>\n",
       "    <tr>\n",
       "      <th>1</th>\n",
       "      <td>Contribution To Reserves/Reserve Funds</td>\n",
       "      <td>1374.33</td>\n",
       "      <td>1492.21</td>\n",
       "      <td>1569.5</td>\n",
       "      <td>679.06</td>\n",
       "      <td>817.74</td>\n",
       "    </tr>\n",
       "    <tr>\n",
       "      <th>2</th>\n",
       "      <td>Equipment</td>\n",
       "      <td>62.57</td>\n",
       "      <td>63.06</td>\n",
       "      <td>63.06</td>\n",
       "      <td>69.63</td>\n",
       "      <td>74.92</td>\n",
       "    </tr>\n",
       "    <tr>\n",
       "      <th>3</th>\n",
       "      <td>Inter-Divisional Charges</td>\n",
       "      <td>316.15</td>\n",
       "      <td>156.99</td>\n",
       "      <td>nan</td>\n",
       "      <td>312.48</td>\n",
       "      <td>319.73</td>\n",
       "    </tr>\n",
       "    <tr>\n",
       "      <th>4</th>\n",
       "      <td>Materials &amp; Supplies</td>\n",
       "      <td>735.02</td>\n",
       "      <td>734.46</td>\n",
       "      <td>813.28</td>\n",
       "      <td>810.37</td>\n",
       "      <td>839.36</td>\n",
       "    </tr>\n",
       "    <tr>\n",
       "      <th>5</th>\n",
       "      <td>Other Expenditures</td>\n",
       "      <td>2711.14</td>\n",
       "      <td>2611.53</td>\n",
       "      <td>2835.06</td>\n",
       "      <td>2776.24</td>\n",
       "      <td>3063.18</td>\n",
       "    </tr>\n",
       "    <tr>\n",
       "      <th>6</th>\n",
       "      <td>Salaries And Benefits</td>\n",
       "      <td>5928.05</td>\n",
       "      <td>6092.48</td>\n",
       "      <td>nan</td>\n",
       "      <td>nan</td>\n",
       "      <td>nan</td>\n",
       "    </tr>\n",
       "    <tr>\n",
       "      <th>7</th>\n",
       "      <td>Service And Rent</td>\n",
       "      <td>2082.85</td>\n",
       "      <td>2178.26</td>\n",
       "      <td>2342.04</td>\n",
       "      <td>2632.93</td>\n",
       "      <td>3071.14</td>\n",
       "    </tr>\n",
       "    <tr>\n",
       "      <th>8</th>\n",
       "      <td>Benefits</td>\n",
       "      <td>nan</td>\n",
       "      <td>nan</td>\n",
       "      <td>1450.71</td>\n",
       "      <td>1488.01</td>\n",
       "      <td>1586.11</td>\n",
       "    </tr>\n",
       "    <tr>\n",
       "      <th>9</th>\n",
       "      <td>Salaries</td>\n",
       "      <td>nan</td>\n",
       "      <td>nan</td>\n",
       "      <td>4781.88</td>\n",
       "      <td>5108.58</td>\n",
       "      <td>5313.47</td>\n",
       "    </tr>\n",
       "  </tbody>\n",
       "</table>\n",
       "</div>"
      ],
      "text/plain": [
       "                            Category Name Expense 2019(millions)  \\\n",
       "0                 Contribution To Capital                 343.45   \n",
       "1  Contribution To Reserves/Reserve Funds                1374.33   \n",
       "2                               Equipment                  62.57   \n",
       "3                Inter-Divisional Charges                 316.15   \n",
       "4                    Materials & Supplies                 735.02   \n",
       "5                      Other Expenditures                2711.14   \n",
       "6                   Salaries And Benefits                5928.05   \n",
       "7                        Service And Rent                2082.85   \n",
       "8                                Benefits                    nan   \n",
       "9                                Salaries                    nan   \n",
       "\n",
       "  Expense 2020(millions) Expense 2021(millions) Expense 2022(millions)  \\\n",
       "0                 343.46                 349.53                 347.76   \n",
       "1                1492.21                 1569.5                 679.06   \n",
       "2                  63.06                  63.06                  69.63   \n",
       "3                 156.99                    nan                 312.48   \n",
       "4                 734.46                 813.28                 810.37   \n",
       "5                2611.53                2835.06                2776.24   \n",
       "6                6092.48                    nan                    nan   \n",
       "7                2178.26                2342.04                2632.93   \n",
       "8                    nan                1450.71                1488.01   \n",
       "9                    nan                4781.88                5108.58   \n",
       "\n",
       "  Expense 2023(millions)  \n",
       "0                 345.49  \n",
       "1                 817.74  \n",
       "2                  74.92  \n",
       "3                 319.73  \n",
       "4                 839.36  \n",
       "5                3063.18  \n",
       "6                    nan  \n",
       "7                3071.14  \n",
       "8                1586.11  \n",
       "9                5313.47  "
      ]
     },
     "execution_count": 1404,
     "metadata": {},
     "output_type": "execute_result"
    }
   ],
   "source": [
    "# Rounding off the budget amount to millions (10^6)\n",
    "\n",
    "# Define a function to divide numbers by 10^6 and round to 3 decimal places\n",
    "divide_and_round_ak = lambda x: round(float(x) / 1e6, 2) if pd.to_numeric(x, errors='coerce') == x else str(x)\n",
    "\n",
    "# Apply the division and rounding function to all columns in the DataFrame\n",
    "merged_df_ak_final = merged_df_ak.applymap(divide_and_round_ak)\n",
    "\n",
    "#Renaming the column as Expense and year\n",
    "merged_df_ak_final=merged_df_ak_final.rename(columns={\n",
    "      \"Category Name\":\"Category Name\",\n",
    "      \"Budget Data 2019\":\"Expense 2019(millions)\",\n",
    "      \"Budget Data 2020\":\"Expense 2020(millions)\",\n",
    "      \"Budget Data 2021\":\"Expense 2021(millions)\",\n",
    "      \"Budget Data 2022\":\"Expense 2022(millions)\",\n",
    "      \"Budget Data 2023\":\"Expense 2023(millions)\"\n",
    "    \n",
    "})\n",
    "merged_df_ak_final"
   ]
  },
  {
   "cell_type": "markdown",
   "id": "4c606e8b",
   "metadata": {},
   "source": [
    "#Data Cleaning for abova Category wise DataFrame"
   ]
  },
  {
   "cell_type": "code",
   "execution_count": 1405,
   "id": "dc50e702",
   "metadata": {},
   "outputs": [
    {
     "data": {
      "text/html": [
       "<div>\n",
       "<style scoped>\n",
       "    .dataframe tbody tr th:only-of-type {\n",
       "        vertical-align: middle;\n",
       "    }\n",
       "\n",
       "    .dataframe tbody tr th {\n",
       "        vertical-align: top;\n",
       "    }\n",
       "\n",
       "    .dataframe thead th {\n",
       "        text-align: right;\n",
       "    }\n",
       "</style>\n",
       "<table border=\"1\" class=\"dataframe\">\n",
       "  <thead>\n",
       "    <tr style=\"text-align: right;\">\n",
       "      <th></th>\n",
       "      <th>Category Name</th>\n",
       "      <th>Expense 2019(millions)</th>\n",
       "      <th>Expense 2020(millions)</th>\n",
       "      <th>Expense 2021(millions)</th>\n",
       "      <th>Expense 2022(millions)</th>\n",
       "      <th>Expense 2023(millions)</th>\n",
       "    </tr>\n",
       "  </thead>\n",
       "  <tbody>\n",
       "    <tr>\n",
       "      <th>0</th>\n",
       "      <td>Contribution To Capital</td>\n",
       "      <td>343.45</td>\n",
       "      <td>343.46</td>\n",
       "      <td>349.53</td>\n",
       "      <td>347.76</td>\n",
       "      <td>345.49</td>\n",
       "    </tr>\n",
       "    <tr>\n",
       "      <th>1</th>\n",
       "      <td>Contribution To Reserves/Reserve Funds</td>\n",
       "      <td>1374.33</td>\n",
       "      <td>1492.21</td>\n",
       "      <td>1569.50</td>\n",
       "      <td>679.06</td>\n",
       "      <td>817.74</td>\n",
       "    </tr>\n",
       "    <tr>\n",
       "      <th>2</th>\n",
       "      <td>Equipment</td>\n",
       "      <td>62.57</td>\n",
       "      <td>63.06</td>\n",
       "      <td>63.06</td>\n",
       "      <td>69.63</td>\n",
       "      <td>74.92</td>\n",
       "    </tr>\n",
       "    <tr>\n",
       "      <th>3</th>\n",
       "      <td>Inter-Divisional Charges</td>\n",
       "      <td>316.15</td>\n",
       "      <td>156.99</td>\n",
       "      <td>0.00</td>\n",
       "      <td>312.48</td>\n",
       "      <td>319.73</td>\n",
       "    </tr>\n",
       "    <tr>\n",
       "      <th>4</th>\n",
       "      <td>Materials &amp; Supplies</td>\n",
       "      <td>735.02</td>\n",
       "      <td>734.46</td>\n",
       "      <td>813.28</td>\n",
       "      <td>810.37</td>\n",
       "      <td>839.36</td>\n",
       "    </tr>\n",
       "    <tr>\n",
       "      <th>5</th>\n",
       "      <td>Other Expenditures</td>\n",
       "      <td>2711.14</td>\n",
       "      <td>2611.53</td>\n",
       "      <td>2835.06</td>\n",
       "      <td>2776.24</td>\n",
       "      <td>3063.18</td>\n",
       "    </tr>\n",
       "    <tr>\n",
       "      <th>6</th>\n",
       "      <td>Salaries And Benefits</td>\n",
       "      <td>5928.05</td>\n",
       "      <td>6092.48</td>\n",
       "      <td>6232.59</td>\n",
       "      <td>6596.59</td>\n",
       "      <td>6899.58</td>\n",
       "    </tr>\n",
       "    <tr>\n",
       "      <th>7</th>\n",
       "      <td>Service And Rent</td>\n",
       "      <td>2082.85</td>\n",
       "      <td>2178.26</td>\n",
       "      <td>2342.04</td>\n",
       "      <td>2632.93</td>\n",
       "      <td>3071.14</td>\n",
       "    </tr>\n",
       "  </tbody>\n",
       "</table>\n",
       "</div>"
      ],
      "text/plain": [
       "                            Category Name  Expense 2019(millions)  \\\n",
       "0                 Contribution To Capital                  343.45   \n",
       "1  Contribution To Reserves/Reserve Funds                 1374.33   \n",
       "2                               Equipment                   62.57   \n",
       "3                Inter-Divisional Charges                  316.15   \n",
       "4                    Materials & Supplies                  735.02   \n",
       "5                      Other Expenditures                 2711.14   \n",
       "6                   Salaries And Benefits                 5928.05   \n",
       "7                        Service And Rent                 2082.85   \n",
       "\n",
       "   Expense 2020(millions)  Expense 2021(millions)  Expense 2022(millions)  \\\n",
       "0                  343.46                  349.53                  347.76   \n",
       "1                 1492.21                 1569.50                  679.06   \n",
       "2                   63.06                   63.06                   69.63   \n",
       "3                  156.99                    0.00                  312.48   \n",
       "4                  734.46                  813.28                  810.37   \n",
       "5                 2611.53                 2835.06                 2776.24   \n",
       "6                 6092.48                 6232.59                 6596.59   \n",
       "7                 2178.26                 2342.04                 2632.93   \n",
       "\n",
       "   Expense 2023(millions)  \n",
       "0                  345.49  \n",
       "1                  817.74  \n",
       "2                   74.92  \n",
       "3                  319.73  \n",
       "4                  839.36  \n",
       "5                 3063.18  \n",
       "6                 6899.58  \n",
       "7                 3071.14  "
      ]
     },
     "execution_count": 1405,
     "metadata": {},
     "output_type": "execute_result"
    }
   ],
   "source": [
    "# Replace 'nan' strings with actual NaN values\n",
    "merged_df_ak_final.replace('nan', pd.NA, inplace=True)\n",
    "\n",
    "# Replace NaN values with 0\n",
    "merged_df_ak_final.fillna(0, inplace=True)\n",
    "\n",
    "# Adding Salaries And Benefits for year 2021,2022,2023\n",
    "salaries_2021 = merged_df_ak_final.loc[merged_df_ak_final['Category Name'].isin(['Salaries', 'Benefits']), 'Expense 2021(millions)'].sum()\n",
    "salaries_2022 = merged_df_ak_final.loc[merged_df_ak_final['Category Name'].isin(['Salaries', 'Benefits']), 'Expense 2022(millions)'].sum()\n",
    "salaries_2023 = merged_df_ak_final.loc[merged_df_ak_final['Category Name'].isin(['Salaries', 'Benefits']), 'Expense 2023(millions)'].sum()\n",
    "\n",
    "# Update the \"Salaries And Benefits\" column from above value for year 2021,2022,2023\n",
    "merged_df_ak_final.loc[merged_df_ak_final['Category Name'] == 'Salaries And Benefits', 'Expense 2021(millions)'] = salaries_2021\n",
    "merged_df_ak_final.loc[merged_df_ak_final['Category Name'] == 'Salaries And Benefits', 'Expense 2022(millions)'] = salaries_2022\n",
    "merged_df_ak_final.loc[merged_df_ak_final['Category Name'] == 'Salaries And Benefits', 'Expense 2023(millions)'] = salaries_2023\n",
    "\n",
    "#Drop the last two columns since the value was already aaded up in column no 6\n",
    "merged_df_ak_final=merged_df_ak_final.drop([8,9])\n",
    "merged_df_ak_final"
   ]
  },
  {
   "cell_type": "markdown",
   "id": "06d24f82",
   "metadata": {},
   "source": [
    "#Adding all categories indivisually year wise and sorting it based on total, so that highest expense category is on top"
   ]
  },
  {
   "cell_type": "code",
   "execution_count": 1406,
   "id": "4aa15d54",
   "metadata": {},
   "outputs": [
    {
     "data": {
      "text/html": [
       "<div>\n",
       "<style scoped>\n",
       "    .dataframe tbody tr th:only-of-type {\n",
       "        vertical-align: middle;\n",
       "    }\n",
       "\n",
       "    .dataframe tbody tr th {\n",
       "        vertical-align: top;\n",
       "    }\n",
       "\n",
       "    .dataframe thead th {\n",
       "        text-align: right;\n",
       "    }\n",
       "</style>\n",
       "<table border=\"1\" class=\"dataframe\">\n",
       "  <thead>\n",
       "    <tr style=\"text-align: right;\">\n",
       "      <th></th>\n",
       "      <th>Category Name</th>\n",
       "      <th>Expense 2019(millions)</th>\n",
       "      <th>Expense 2020(millions)</th>\n",
       "      <th>Expense 2021(millions)</th>\n",
       "      <th>Expense 2022(millions)</th>\n",
       "      <th>Expense 2023(millions)</th>\n",
       "    </tr>\n",
       "  </thead>\n",
       "  <tbody>\n",
       "    <tr>\n",
       "      <th>6</th>\n",
       "      <td>Salaries And Benefits</td>\n",
       "      <td>5928.05</td>\n",
       "      <td>6092.48</td>\n",
       "      <td>6232.59</td>\n",
       "      <td>6596.59</td>\n",
       "      <td>6899.58</td>\n",
       "    </tr>\n",
       "    <tr>\n",
       "      <th>5</th>\n",
       "      <td>Other Expenditures</td>\n",
       "      <td>2711.14</td>\n",
       "      <td>2611.53</td>\n",
       "      <td>2835.06</td>\n",
       "      <td>2776.24</td>\n",
       "      <td>3063.18</td>\n",
       "    </tr>\n",
       "    <tr>\n",
       "      <th>7</th>\n",
       "      <td>Service And Rent</td>\n",
       "      <td>2082.85</td>\n",
       "      <td>2178.26</td>\n",
       "      <td>2342.04</td>\n",
       "      <td>2632.93</td>\n",
       "      <td>3071.14</td>\n",
       "    </tr>\n",
       "    <tr>\n",
       "      <th>1</th>\n",
       "      <td>Contribution To Reserves/Reserve Funds</td>\n",
       "      <td>1374.33</td>\n",
       "      <td>1492.21</td>\n",
       "      <td>1569.50</td>\n",
       "      <td>679.06</td>\n",
       "      <td>817.74</td>\n",
       "    </tr>\n",
       "    <tr>\n",
       "      <th>4</th>\n",
       "      <td>Materials &amp; Supplies</td>\n",
       "      <td>735.02</td>\n",
       "      <td>734.46</td>\n",
       "      <td>813.28</td>\n",
       "      <td>810.37</td>\n",
       "      <td>839.36</td>\n",
       "    </tr>\n",
       "    <tr>\n",
       "      <th>0</th>\n",
       "      <td>Contribution To Capital</td>\n",
       "      <td>343.45</td>\n",
       "      <td>343.46</td>\n",
       "      <td>349.53</td>\n",
       "      <td>347.76</td>\n",
       "      <td>345.49</td>\n",
       "    </tr>\n",
       "    <tr>\n",
       "      <th>3</th>\n",
       "      <td>Inter-Divisional Charges</td>\n",
       "      <td>316.15</td>\n",
       "      <td>156.99</td>\n",
       "      <td>0.00</td>\n",
       "      <td>312.48</td>\n",
       "      <td>319.73</td>\n",
       "    </tr>\n",
       "    <tr>\n",
       "      <th>2</th>\n",
       "      <td>Equipment</td>\n",
       "      <td>62.57</td>\n",
       "      <td>63.06</td>\n",
       "      <td>63.06</td>\n",
       "      <td>69.63</td>\n",
       "      <td>74.92</td>\n",
       "    </tr>\n",
       "  </tbody>\n",
       "</table>\n",
       "</div>"
      ],
      "text/plain": [
       "                            Category Name  Expense 2019(millions)  \\\n",
       "6                   Salaries And Benefits                 5928.05   \n",
       "5                      Other Expenditures                 2711.14   \n",
       "7                        Service And Rent                 2082.85   \n",
       "1  Contribution To Reserves/Reserve Funds                 1374.33   \n",
       "4                    Materials & Supplies                  735.02   \n",
       "0                 Contribution To Capital                  343.45   \n",
       "3                Inter-Divisional Charges                  316.15   \n",
       "2                               Equipment                   62.57   \n",
       "\n",
       "   Expense 2020(millions)  Expense 2021(millions)  Expense 2022(millions)  \\\n",
       "6                 6092.48                 6232.59                 6596.59   \n",
       "5                 2611.53                 2835.06                 2776.24   \n",
       "7                 2178.26                 2342.04                 2632.93   \n",
       "1                 1492.21                 1569.50                  679.06   \n",
       "4                  734.46                  813.28                  810.37   \n",
       "0                  343.46                  349.53                  347.76   \n",
       "3                  156.99                    0.00                  312.48   \n",
       "2                   63.06                   63.06                   69.63   \n",
       "\n",
       "   Expense 2023(millions)  \n",
       "6                 6899.58  \n",
       "5                 3063.18  \n",
       "7                 3071.14  \n",
       "1                  817.74  \n",
       "4                  839.36  \n",
       "0                  345.49  \n",
       "3                  319.73  \n",
       "2                   74.92  "
      ]
     },
     "execution_count": 1406,
     "metadata": {},
     "output_type": "execute_result"
    }
   ],
   "source": [
    "# Extract the non-numeric columns (assuming the first column is non-numeric)\n",
    "non_numeric_columns = merged_df_ak_final.columns[1:]\n",
    "\n",
    "# Convert non-numeric values to NaN and then sum each row\n",
    "merged_df_ak_final['Total'] = merged_df_ak_final[non_numeric_columns].apply(pd.to_numeric, errors='coerce').sum(axis=1)\n",
    "\n",
    "# Sort the DataFrame based on the \"Total\" column in descending order\n",
    "merged_df_ak_final = merged_df_ak_final.sort_values(\"Total\", ascending=False)\n",
    "\n",
    "# Display the updated and sorted DataFrame\n",
    "merged_df_ak_final=merged_df_ak_final.drop(['Total'], axis=1)\n",
    "merged_df_ak_final"
   ]
  },
  {
   "cell_type": "markdown",
   "id": "1793f891",
   "metadata": {},
   "source": [
    "#Analysing the year wise total expense(in million) and also in pecentage increase with comparison to total"
   ]
  },
  {
   "cell_type": "code",
   "execution_count": 1407,
   "id": "e84a4cc0",
   "metadata": {},
   "outputs": [
    {
     "data": {
      "text/html": [
       "<div>\n",
       "<style scoped>\n",
       "    .dataframe tbody tr th:only-of-type {\n",
       "        vertical-align: middle;\n",
       "    }\n",
       "\n",
       "    .dataframe tbody tr th {\n",
       "        vertical-align: top;\n",
       "    }\n",
       "\n",
       "    .dataframe thead th {\n",
       "        text-align: right;\n",
       "    }\n",
       "</style>\n",
       "<table border=\"1\" class=\"dataframe\">\n",
       "  <thead>\n",
       "    <tr style=\"text-align: right;\">\n",
       "      <th></th>\n",
       "      <th>Total Expense(millions)</th>\n",
       "    </tr>\n",
       "    <tr>\n",
       "      <th>Year</th>\n",
       "      <th></th>\n",
       "    </tr>\n",
       "  </thead>\n",
       "  <tbody>\n",
       "    <tr>\n",
       "      <th>2019</th>\n",
       "      <td>13553.56</td>\n",
       "    </tr>\n",
       "    <tr>\n",
       "      <th>2020</th>\n",
       "      <td>13672.45</td>\n",
       "    </tr>\n",
       "    <tr>\n",
       "      <th>2021</th>\n",
       "      <td>14205.06</td>\n",
       "    </tr>\n",
       "    <tr>\n",
       "      <th>2022</th>\n",
       "      <td>14225.06</td>\n",
       "    </tr>\n",
       "    <tr>\n",
       "      <th>2023</th>\n",
       "      <td>15431.14</td>\n",
       "    </tr>\n",
       "  </tbody>\n",
       "</table>\n",
       "</div>"
      ],
      "text/plain": [
       "      Total Expense(millions)\n",
       "Year                         \n",
       "2019                 13553.56\n",
       "2020                 13672.45\n",
       "2021                 14205.06\n",
       "2022                 14225.06\n",
       "2023                 15431.14"
      ]
     },
     "execution_count": 1407,
     "metadata": {},
     "output_type": "execute_result"
    }
   ],
   "source": [
    "# Assuming merged_df_ak_final is your DataFrame\n",
    "\n",
    "for year in years:\n",
    "    column_name = f\"Expense {year}(millions)\"\n",
    "    merged_df_ak_final[column_name] = pd.to_numeric(merged_df_ak_final[column_name], errors='coerce')\n",
    "\n",
    "total_2019_ak = merged_df_ak_final[\"Expense 2019(millions)\"].sum()\n",
    "total_2020_ak = merged_df_ak_final[\"Expense 2020(millions)\"].sum()\n",
    "total_2021_ak = merged_df_ak_final[\"Expense 2021(millions)\"].sum()\n",
    "total_2022_ak = merged_df_ak_final[\"Expense 2022(millions)\"].sum()\n",
    "total_2023_ak = merged_df_ak_final[\"Expense 2023(millions)\"].sum()\n",
    "\n",
    "# Create a DataFrame with the totals\n",
    "total_df_ak = pd.DataFrame([\n",
    "    {\"Year\": \"2019\", \"Total Expense(millions)\": total_2019_ak},\n",
    "    {\"Year\": \"2020\", \"Total Expense(millions)\": total_2020_ak},\n",
    "    {\"Year\": \"2021\", \"Total Expense(millions)\": total_2021_ak},\n",
    "    {\"Year\": \"2022\", \"Total Expense(millions)\": total_2022_ak},\n",
    "    {\"Year\": \"2023\", \"Total Expense(millions)\": total_2023_ak}\n",
    "])\n",
    "total_df_ak=total_df_ak.set_index(\"Year\")\n",
    "total_df_ak"
   ]
  },
  {
   "cell_type": "markdown",
   "id": "81fbfce8",
   "metadata": {},
   "source": [
    "#Bar graph to show yearly increase in expense in five years"
   ]
  },
  {
   "cell_type": "code",
   "execution_count": 1408,
   "id": "6a142256",
   "metadata": {},
   "outputs": [
    {
     "data": {
      "text/plain": [
       "Text(0, 0.5, 'Total Expense(in millions)')"
      ]
     },
     "execution_count": 1408,
     "metadata": {},
     "output_type": "execute_result"
    },
    {
     "data": {
      "image/png": "[encoded data removed]",
      "text/plain": [
       "<Figure size 640x480 with 1 Axes>"
      ]
     },
     "metadata": {},
     "output_type": "display_data"
    }
   ],
   "source": [
    "# Create a bar plot\n",
    "graph1_ak = total_df_ak.plot(kind=\"bar\", legend=False)\n",
    "\n",
    "# Set plot title and labels\n",
    "plt.title(\"Total Expense by Year\")\n",
    "plt.xlabel(\"Year\")\n",
    "plt.ylabel(\"Total Expense(in millions)\")"
   ]
  },
  {
   "cell_type": "code",
   "execution_count": 1409,
   "id": "bf561954",
   "metadata": {},
   "outputs": [
    {
     "ename": "TypeError",
     "evalue": "list indices must be integers or slices, not str",
     "output_type": "error",
     "traceback": [
      "\u001b[0;31m---------------------------------------------------------------------------\u001b[0m",
      "\u001b[0;31mTypeError\u001b[0m                                 Traceback (most recent call last)",
      "Cell \u001b[0;32mIn[1409], line 5\u001b[0m\n\u001b[1;32m      3\u001b[0m years \u001b[38;5;241m=\u001b[39m [\u001b[38;5;124m\"\u001b[39m\u001b[38;5;124m2019\u001b[39m\u001b[38;5;124m\"\u001b[39m, \u001b[38;5;124m\"\u001b[39m\u001b[38;5;124m2020\u001b[39m\u001b[38;5;124m\"\u001b[39m, \u001b[38;5;124m\"\u001b[39m\u001b[38;5;124m2021\u001b[39m\u001b[38;5;124m\"\u001b[39m, \u001b[38;5;124m\"\u001b[39m\u001b[38;5;124m2022\u001b[39m\u001b[38;5;124m\"\u001b[39m, \u001b[38;5;124m\"\u001b[39m\u001b[38;5;124m2023\u001b[39m\u001b[38;5;124m\"\u001b[39m]\n\u001b[1;32m      4\u001b[0m \u001b[38;5;28;01mfor\u001b[39;00m year \u001b[38;5;129;01min\u001b[39;00m years:\n\u001b[0;32m----> 5\u001b[0m     percent_df_ak[\u001b[38;5;124mf\u001b[39m\u001b[38;5;124m\"\u001b[39m\u001b[38;5;132;01m{\u001b[39;00myear\u001b[38;5;132;01m}\u001b[39;00m\u001b[38;5;124m\"\u001b[39m] \u001b[38;5;241m=\u001b[39m \u001b[38;5;28mround\u001b[39m((merged_df_ak_final[\u001b[38;5;124mf\u001b[39m\u001b[38;5;124m\"\u001b[39m\u001b[38;5;124mExpense \u001b[39m\u001b[38;5;132;01m{\u001b[39;00myear\u001b[38;5;132;01m}\u001b[39;00m\u001b[38;5;124m(millions)\u001b[39m\u001b[38;5;124m\"\u001b[39m] \u001b[38;5;241m/\u001b[39m total_df_ak\u001b[38;5;241m.\u001b[39mloc[year,\u001b[38;5;124m\"\u001b[39m\u001b[38;5;124mTotal Expense(millions)\u001b[39m\u001b[38;5;124m\"\u001b[39m]) \u001b[38;5;241m*\u001b[39m \u001b[38;5;241m100\u001b[39m, \u001b[38;5;241m2\u001b[39m)\n\u001b[1;32m      7\u001b[0m percent_df\n",
      "\u001b[0;31mTypeError\u001b[0m: list indices must be integers or slices, not str"
     ]
    }
   ],
   "source": [
    "#Calculating the percentage share by each category\n",
    "# Add columns for each year\n",
    "years = [\"2019\", \"2020\", \"2021\", \"2022\", \"2023\"]\n",
    "for year in years:\n",
    "    percent_df_ak[f\"{year}\"] = round((merged_df_ak_final[f\"Expense {year}(millions)\"] / total_df_ak.loc[year,\"Total Expense(millions)\"]) * 100, 2)\n",
    "\n",
    "percent_df"
   ]
  },
  {
   "cell_type": "markdown",
   "id": "3a48d3d2",
   "metadata": {},
   "source": [
    "Bar graph for five years, showing analyis by Category Percentage"
   ]
  },
  {
   "cell_type": "code",
   "execution_count": 824,
   "id": "5cf186f1",
   "metadata": {},
   "outputs": [
    {
     "data": {
      "image/png": "[encoded data removed]",
      "text/plain": [
       "<Figure size 1000x500 with 1 Axes>"
      ]
     },
     "metadata": {},
     "output_type": "display_data"
    }
   ],
   "source": [
    "colors = [\"yellow\", \"blue\", \"green\", \"purple\", \"red\"]\n",
    "graph = percent_df.plot(kind=\"bar\", width=0.8, figsize=(10, 5), color=colors,title=\"Yearly Percentage Comparison between Categories\",xlabel=\"Category\",ylabel=\"% share\")\n",
    "graph.set_xticklabels(percent_df.index,rotation=45,rotation_mode=\"anchor\",ha=\"right\",wrap=True)\n",
    "plt.tight_layout()\n",
    "plt.show()"
   ]
  },
  {
   "cell_type": "markdown",
   "id": "ca82fbcd",
   "metadata": {},
   "source": [
    "Highest Expense Category for each year"
   ]
  },
  {
   "cell_type": "code",
   "execution_count": 1412,
   "id": "d9fb9d90",
   "metadata": {},
   "outputs": [
    {
     "data": {
      "text/html": [
       "<div>\n",
       "<style scoped>\n",
       "    .dataframe tbody tr th:only-of-type {\n",
       "        vertical-align: middle;\n",
       "    }\n",
       "\n",
       "    .dataframe tbody tr th {\n",
       "        vertical-align: top;\n",
       "    }\n",
       "\n",
       "    .dataframe thead th {\n",
       "        text-align: right;\n",
       "    }\n",
       "</style>\n",
       "<table border=\"1\" class=\"dataframe\">\n",
       "  <thead>\n",
       "    <tr style=\"text-align: right;\">\n",
       "      <th></th>\n",
       "      <th>Year</th>\n",
       "      <th>Highest Category</th>\n",
       "      <th>Expense Amount</th>\n",
       "    </tr>\n",
       "  </thead>\n",
       "  <tbody>\n",
       "    <tr>\n",
       "      <th>0</th>\n",
       "      <td>2019</td>\n",
       "      <td>Salaries And Benefits</td>\n",
       "      <td>5928.05</td>\n",
       "    </tr>\n",
       "    <tr>\n",
       "      <th>1</th>\n",
       "      <td>2020</td>\n",
       "      <td>Salaries And Benefits</td>\n",
       "      <td>6092.48</td>\n",
       "    </tr>\n",
       "    <tr>\n",
       "      <th>2</th>\n",
       "      <td>2021</td>\n",
       "      <td>Salaries And Benefits</td>\n",
       "      <td>6232.59</td>\n",
       "    </tr>\n",
       "    <tr>\n",
       "      <th>3</th>\n",
       "      <td>2022</td>\n",
       "      <td>Salaries And Benefits</td>\n",
       "      <td>6596.59</td>\n",
       "    </tr>\n",
       "    <tr>\n",
       "      <th>4</th>\n",
       "      <td>2023</td>\n",
       "      <td>Salaries And Benefits</td>\n",
       "      <td>6899.58</td>\n",
       "    </tr>\n",
       "  </tbody>\n",
       "</table>\n",
       "</div>"
      ],
      "text/plain": [
       "   Year       Highest Category  Expense Amount\n",
       "0  2019  Salaries And Benefits         5928.05\n",
       "1  2020  Salaries And Benefits         6092.48\n",
       "2  2021  Salaries And Benefits         6232.59\n",
       "3  2022  Salaries And Benefits         6596.59\n",
       "4  2023  Salaries And Benefits         6899.58"
      ]
     },
     "execution_count": 1412,
     "metadata": {},
     "output_type": "execute_result"
    }
   ],
   "source": [
    "max_values_ak = []\n",
    "category_names_ak = []\n",
    "\n",
    "for year in years:\n",
    "    max_value_ak = merged_df_ak_final[f\"Expense {year}(millions)\"].max()\n",
    "    category_name_ak = merged_df_ak_final.loc[merged_df_ak_final[f\"Expense {year}(millions)\"].idxmax(), \"Category Name\"]\n",
    "    \n",
    "    max_values_ak.append(max_value_ak)\n",
    "    category_names_ak.append(category_name_ak)\n",
    "\n",
    "high_df_ak = pd.DataFrame({\n",
    "    \"Year\": years,\n",
    "    \"Highest Category\": category_names_ak,\n",
    "    \"Expense Amount\": max_values_ak\n",
    "})\n",
    "\n",
    "high_df_ak"
   ]
  },
  {
   "cell_type": "markdown",
   "id": "8674165d",
   "metadata": {},
   "source": [
    "Lowest Expense Category for each year"
   ]
  },
  {
   "cell_type": "code",
   "execution_count": 1414,
   "id": "0e013c6e",
   "metadata": {},
   "outputs": [
    {
     "data": {
      "text/html": [
       "<div>\n",
       "<style scoped>\n",
       "    .dataframe tbody tr th:only-of-type {\n",
       "        vertical-align: middle;\n",
       "    }\n",
       "\n",
       "    .dataframe tbody tr th {\n",
       "        vertical-align: top;\n",
       "    }\n",
       "\n",
       "    .dataframe thead th {\n",
       "        text-align: right;\n",
       "    }\n",
       "</style>\n",
       "<table border=\"1\" class=\"dataframe\">\n",
       "  <thead>\n",
       "    <tr style=\"text-align: right;\">\n",
       "      <th></th>\n",
       "      <th>Year</th>\n",
       "      <th>Lowest Category</th>\n",
       "      <th>Expense Amount</th>\n",
       "    </tr>\n",
       "  </thead>\n",
       "  <tbody>\n",
       "    <tr>\n",
       "      <th>0</th>\n",
       "      <td>2019</td>\n",
       "      <td>Equipment</td>\n",
       "      <td>62.57</td>\n",
       "    </tr>\n",
       "    <tr>\n",
       "      <th>1</th>\n",
       "      <td>2020</td>\n",
       "      <td>Equipment</td>\n",
       "      <td>63.06</td>\n",
       "    </tr>\n",
       "    <tr>\n",
       "      <th>2</th>\n",
       "      <td>2021</td>\n",
       "      <td>Equipment</td>\n",
       "      <td>63.06</td>\n",
       "    </tr>\n",
       "    <tr>\n",
       "      <th>3</th>\n",
       "      <td>2022</td>\n",
       "      <td>Equipment</td>\n",
       "      <td>69.63</td>\n",
       "    </tr>\n",
       "    <tr>\n",
       "      <th>4</th>\n",
       "      <td>2023</td>\n",
       "      <td>Equipment</td>\n",
       "      <td>74.92</td>\n",
       "    </tr>\n",
       "  </tbody>\n",
       "</table>\n",
       "</div>"
      ],
      "text/plain": [
       "   Year Lowest Category  Expense Amount\n",
       "0  2019       Equipment           62.57\n",
       "1  2020       Equipment           63.06\n",
       "2  2021       Equipment           63.06\n",
       "3  2022       Equipment           69.63\n",
       "4  2023       Equipment           74.92"
      ]
     },
     "execution_count": 1414,
     "metadata": {},
     "output_type": "execute_result"
    }
   ],
   "source": [
    "#Filtering the value which are NaN or 0\n",
    "filtered_df_ak = merged_df_ak_final.copy()\n",
    "filtered_df_ak.replace(0, np.nan, inplace=True)\n",
    "\n",
    "#defining variables\n",
    "min_values_ak = []\n",
    "category_names_ak = []\n",
    "\n",
    "for year in years:\n",
    "    min_value_ak = filtered_df_ak[f\"Expense {year}(millions)\"].min()\n",
    "    category_name_ak = filtered_df_ak.loc[filtered_df_ak[f\"Expense {year}(millions)\"].idxmin(), \"Category Name\"]\n",
    "\n",
    "    min_values_ak.append(min_value_ak)\n",
    "    category_names_ak.append(category_name_ak)\n",
    "\n",
    "low_df_ak = pd.DataFrame({\n",
    "    \"Year\": years,\n",
    "    \"Lowest Category\": category_names_ak,\n",
    "    \"Expense Amount\": min_values_ak\n",
    "})\n",
    "low_df_ak"
   ]
  },
  {
   "cell_type": "markdown",
   "id": "4e2ab9ff",
   "metadata": {},
   "source": [
    "Time series data of expense amount over the years for different categories "
   ]
  },
  {
   "cell_type": "code",
   "execution_count": 1421,
   "id": "b3d8ad35",
   "metadata": {},
   "outputs": [
    {
     "data": {
      "image/png": "[encoded data removed]",
      "text/plain": [
       "<Figure size 1200x800 with 1 Axes>"
      ]
     },
     "metadata": {},
     "output_type": "display_data"
    }
   ],
   "source": [
    "# Assuming 'Category Name' is the budget category column\n",
    "time_series_data = merged_df_ak_final.set_index('Category Name').T\n",
    "time_series_data.plot(figsize=(12, 8))\n",
    "plt.xlabel('Year')\n",
    "plt.ylabel('Expense Amount(millions)')\n",
    "plt.legend(title='Category Name', bbox_to_anchor=(1.05, 1), loc='upper left')\n",
    "plt.show()"
   ]
  },
  {
   "cell_type": "markdown",
   "id": "136bc206",
   "metadata": {},
   "source": [
    "Correlation matrix of Expense Amount using Seaborn"
   ]
  },
  {
   "cell_type": "code",
   "execution_count": 634,
   "id": "c7b38848",
   "metadata": {},
   "outputs": [
    {
     "data": {
      "image/png": "[encoded data removed]",
      "text/plain": [
       "<Figure size 640x480 with 2 Axes>"
      ]
     },
     "metadata": {},
     "output_type": "display_data"
    }
   ],
   "source": [
    "import seaborn as sns\n",
    "import matplotlib.pyplot as plt\n",
    "\n",
    "# Select only numeric columns\n",
    "numeric_columns = merged_df_ak_final.select_dtypes(include='number')\n",
    "correlation_matrix = numeric_columns.corr()\n",
    "\n",
    "# Plot heatmap\n",
    "sns.heatmap(correlation_matrix, annot=True, cmap='coolwarm', linewidths=.5)\n",
    "plt.show()"
   ]
  },
  {
   "cell_type": "code",
   "execution_count": null,
   "id": "0933e066",
   "metadata": {},
   "outputs": [],
   "source": [
    "Correlation matrix of budget categories across different years"
   ]
  },
  {
   "cell_type": "code",
   "execution_count": 635,
   "id": "2a67f48d",
   "metadata": {},
   "outputs": [
    {
     "data": {
      "image/png": "[encoded data removed]",
      "text/plain": [
       "<Figure size 640x480 with 2 Axes>"
      ]
     },
     "metadata": {},
     "output_type": "display_data"
    }
   ],
   "source": [
    "import seaborn as sns\n",
    "import matplotlib.pyplot as plt\n",
    "\n",
    "# Transpose the DataFrame so that categories are rows and years are columns\n",
    "transposed_df = merged_df_ak_final.set_index('Category Name').T\n",
    "\n",
    "# Calculate the correlation matrix\n",
    "correlation_matrix = transposed_df.corr()\n",
    "\n",
    "# Plot heatmap\n",
    "sns.heatmap(correlation_matrix, annot=True, cmap='coolwarm', linewidths=.5)\n",
    "plt.title(\"Correlation Matrix of Budget Categories Across Years\")\n",
    "plt.show()"
   ]
  },
  {
   "cell_type": "markdown",
   "id": "0294df1b",
   "metadata": {},
   "source": [
    "Linear Regression Between Salaries and Benefits over Years"
   ]
  },
  {
   "cell_type": "code",
   "execution_count": 1423,
   "id": "ed7cabeb",
   "metadata": {},
   "outputs": [
    {
     "name": "stderr",
     "output_type": "stream",
     "text": [
      "/Users/anuradhakishore/anaconda3/lib/python3.11/site-packages/openpyxl/worksheet/header_footer.py:48: UserWarning: Cannot parse header or footer so it will be ignored\n",
      "  warn(\"\"\"Cannot parse header or footer so it will be ignored\"\"\")\n"
     ]
    }
   ],
   "source": [
    "#Analysing ten years data here\n",
    "#Reading data from downloaded excel files\n",
    "budget_path_2014 = Path(\"approved-operating-budget-summary-2014.xlsx\") #2014\n",
    "budget2014_df = pd.read_excel(budget_path_2014, sheet_name='2014')\n",
    "budget_path_2015 = Path(\"approved-operating-budget-summary-2015.xlsx\") #2015\n",
    "budget2015_df = pd.read_excel(budget_path_2015, sheet_name='summary')\n",
    "budget_path_2016 = Path(\"approved-operating-budget-summary-2016.xlsx\") #2016\n",
    "budget2016_df = pd.read_excel(budget_path_2016, sheet_name='Open Data Summary')\n",
    "budget_path_2017 = Path(\"approved-operating-budget-summary-2017.xlsx\") #2017\n",
    "budget2017_df = pd.read_excel(budget_path_2017, sheet_name='2017')\n",
    "budget_path_2018 = Path(\"approved-operating-budget-summary-2018.xlsx\") #2018\n",
    "budget2018_df = pd.read_excel(budget_path_2018, sheet_name='2018')\n",
    "\n",
    "#Renaming the columns\n",
    "budget2014_df.rename(columns={2014.0: 'Budgeted amount 2014'}, inplace=True)\n",
    "budget2015_df.rename(columns={2015.0: 'Budgeted amount 2015'}, inplace=True)\n",
    "budget2016_df.rename(columns={2016.0: 'Budgeted amount 2016'}, inplace=True)\n",
    "budget2017_df.rename(columns={2017.0: 'Budgeted amount 2017'}, inplace=True)\n",
    "budget2018_df.rename(columns={2018.0: 'Budgeted amount 2018'}, inplace=True)\n",
    "\n",
    "#Dropping duplicates\n",
    "budget2014_df.drop_duplicates(subset = 'Budgeted amount 2014')\n",
    "budget2015_df.drop_duplicates(subset = 'Budgeted amount 2015')\n",
    "budget2016_df.drop_duplicates(subset = 'Budgeted amount 2016')\n",
    "budget2017_df.drop_duplicates(subset = 'Budgeted amount 2017')\n",
    "budget2018_df.drop_duplicates(subset = 'Budgeted amount 2018')\n",
    "\n",
    "#Categorising between expense and revenue DataFrame\n",
    "budget2014_df_exp = budget2014_df[budget2014_df['Expense/Revenue']=='Expenses']\n",
    "budget2014_df_rev = budget2014_df[budget2014_df['Expense/Revenue']=='Revenues']\n",
    "budget2015_df_exp = budget2015_df[budget2015_df['Expense/Revenue']=='Expenses']\n",
    "budget2015_df_rev = budget2015_df[budget2015_df['Expense/Revenue']=='Revenues']\n",
    "budget2016_df_exp = budget2016_df[budget2016_df['Expense/Revenue']=='Expenses']\n",
    "budget2016_df_rev = budget2016_df[budget2016_df['Expense/Revenue']=='Revenues']\n",
    "budget2017_df_exp = budget2017_df[budget2017_df['Expense/Revenue']=='Expenses']\n",
    "budget2017_df_rev = budget2017_df[budget2017_df['Expense/Revenue']=='Revenues']\n",
    "budget2018_df_exp = budget2018_df[budget2018_df['Expense/Revenue']=='Expenses']\n",
    "budget2018_df_rev = budget2018_df[budget2018_df['Expense/Revenue']=='Revenues']"
   ]
  },
  {
   "cell_type": "code",
   "execution_count": 1426,
   "id": "c0c27eae",
   "metadata": {},
   "outputs": [],
   "source": [
    "# Filtering rows where the \"Category Name\" is \"Salaries And Benefits\"\n",
    "ak_2014_s= round(budget2014_df_exp[budget2014_df_exp[\"Category Name\"] == \"Service And Rent\"][\"Budgeted amount 2014\"].sum()/1000000,2)\n",
    "ak_2015_s= round(budget2015_df_exp[budget2015_df_exp[\"Category Name\"] == \"Service And Rent\"][\"Budgeted amount 2015\"].sum()/1000000,2)\n",
    "ak_2016_s = round(budget2016_df_exp[budget2016_df_exp[\"Category Name\"] == \"Service And Rent\"][\"Budgeted amount 2016\"].sum()/1000000,2)\n",
    "ak_2017_s = round(budget2017_df_exp[budget2017_df_exp[\"Category Name\"] == \"Service And Rent\"][\"Budgeted amount 2017\"].sum()/1000000,2)\n",
    "ak_2018_s= round(budget2018_df_exp[budget2018_df_exp[\"Category Name\"] == \"Service And Rent\"][\"Budgeted amount 2018\"].sum()/1000000,2)\n",
    "ak_2019_s= round(budget2019_df_exp[budget2019_df_exp[\"Category Name\"] == \"Service And Rent\"][\"Budgeted amount 2019\"].sum()/1000000,2)\n",
    "ak_2020_s= round(budget2020_df_exp[budget2020_df_exp[\"Category Name\"] == \"SService And Rent\"][\"Budgeted amount 2020\"].sum()/1000000,2)\n",
    "ak_2021_s = round(budget2021_df_exp[budget2021_df_exp[\"Category Name\"] == \"Service And Rent\"][\"Budgeted amount 2021\"].sum() / 1000000, 2)\n",
    "ak_2022_s = round(budget2022_df_exp[budget2022_df_exp[\"Category Name\"] == \"Service And Rent\"][\"Budgeted amount 2022\"].sum() / 1000000, 2)\n",
    "ak_2023_s = round(budget2023_df_exp[budget2023_df_exp[\"Category Name\"] == \"Service And Rent\"][\"Budgeted amount 2023\"].sum() / 1000000, 2)"
   ]
  },
  {
   "cell_type": "markdown",
   "id": "05e8151c",
   "metadata": {},
   "source": [
    "Calculating Salaries and Benefits relationship for 10 Years"
   ]
  },
  {
   "cell_type": "code",
   "execution_count": 1476,
   "id": "a11ce4c4",
   "metadata": {},
   "outputs": [
    {
     "name": "stdout",
     "output_type": "stream",
     "text": [
      "Salary and Benfits in Ten years\n",
      "ak_2014: 5088.15\n",
      "ak_2015: 5306.23\n",
      "ak_2016: 5442.21\n",
      "ak_2017: 5526.44\n",
      "ak_2018: 5688.31\n",
      "ak_2019: 5928.05\n",
      "ak_2020: 6092.48\n",
      "ak_2021: 6232.59\n",
      "ak_2022: 6596.59\n",
      "ak_2023: 6899.58\n"
     ]
    }
   ],
   "source": [
    "#Defining the new ten year for calculation\n",
    "years2 = [2014, 2015, 2016, 2017, 2018, 2019, 2020, 2021, 2022, 2023]\n",
    "\n",
    "# Initialize an empty dictionary to store the results\n",
    "ak_values = {}\n",
    "\n",
    "# Iterate over the years\n",
    "for year in years2:\n",
    "    # Construct the DataFrame variable name\n",
    "    df_variable_name = f\"budget{year}_df_exp\"\n",
    "    \n",
    "    # Check if the DataFrame variable exists\n",
    "    if df_variable_name in locals():\n",
    "        # Use the DataFrame variable to calculate the sum\n",
    "        if year in (2021, 2022, 2023):  # Use 'in' to check membership in the tuple\n",
    "            ak_value = round(locals()[df_variable_name][(locals()[df_variable_name][\"Category Name\"] == \"Salaries\") | (locals()[df_variable_name][\"Category Name\"] == \"Benefits\")][f\"Budgeted amount {year}\"].sum() / 1000000, 2)\n",
    "        else:\n",
    "            ak_value = round(locals()[df_variable_name][(locals()[df_variable_name][\"Category Name\"] == \"Salaries And Benefits\")][f\"Budgeted amount {year}\"].sum() / 1000000, 2)\n",
    "        \n",
    "        # Store the result in the dictionary\n",
    "        ak_values[f\"ak_{year}\"] = ak_value\n",
    "print(\"Salary and Benfits in Ten years\")\n",
    "# Display the results\n",
    "for key, value in ak_values.items():\n",
    "    print(f\"{key}: {value}\")"
   ]
  },
  {
   "cell_type": "markdown",
   "id": "3d7496e2",
   "metadata": {},
   "source": [
    "Linear Regression between Salaries and Benefits for 10 Years"
   ]
  },
  {
   "cell_type": "code",
   "execution_count": 1432,
   "id": "a130916b",
   "metadata": {
    "scrolled": false
   },
   "outputs": [
    {
     "name": "stdout",
     "output_type": "stream",
     "text": [
      "r-squared value is 0.9736713941983182\n",
      "Linear Regression: 189.24x + -376107.61\n"
     ]
    },
    {
     "data": {
      "image/png": "[encoded data removed]",
      "text/plain": [
       "<Figure size 640x480 with 1 Axes>"
      ]
     },
     "metadata": {},
     "output_type": "display_data"
    }
   ],
   "source": [
    "salaries_and_benefits = [ak_2014,ak_2015,ak_2016,ak_2017,ak_2018,ak_2019,ak_2020,ak_2021,ak_2022,ak_2023]\n",
    "\n",
    "# Perform linear regression\n",
    "slope, intercept, r_value, p_value, std_err = linregress(years2, salaries_and_benefits)\n",
    "\n",
    "# Create the regression line\n",
    "regress_values = [slope * year + intercept for year in years2]\n",
    "\n",
    "# Plot the data and regression line\n",
    "plt.scatter(years2, salaries_and_benefits, label='Actual Data', marker='o')\n",
    "plt.plot(years2, regress_values, label=f'Linear Regression: y = {slope:.2f}x + {intercept:.2f}',color=\"red\")\n",
    "\n",
    "# Add labels and legend\n",
    "plt.title('Linear Regression: Salaries And Benefits over Years')\n",
    "plt.xlabel('Year')\n",
    "plt.ylabel('Salaries And Benefits')\n",
    "plt.legend()\n",
    "print(f\"r-squared value is {r_value**2}\")\n",
    "print(f'Linear Regression: {slope:.2f}x + {intercept:.2f}')\n",
    "# Show the plot\n",
    "plt.show()"
   ]
  },
  {
   "cell_type": "markdown",
   "id": "007af7c5",
   "metadata": {},
   "source": [
    "# #Analysing Sub Categories"
   ]
  },
  {
   "cell_type": "markdown",
   "id": "d9105805",
   "metadata": {},
   "source": [
    "Creating Datasets for 2019-2023 for Sub Category"
   ]
  },
  {
   "cell_type": "code",
   "execution_count": 1472,
   "id": "ecaa083f",
   "metadata": {},
   "outputs": [
    {
     "name": "stdout",
     "output_type": "stream",
     "text": [
      "Year 2019: Maximum Expense in Sub-Category along with Category Name and Expense Amount\n",
      "Category Name           Salaries And Benefits\n",
      "Sub-Category Name          Permanent Salaries\n",
      "Budgeted amount 2019            4565806999.47\n",
      "Name: 30, dtype: object\n",
      "--------------------------------------------------------------------------------------\n",
      "Year 2019:Minimum Expense in Sub-Category along with Category Name and Expense Amount\n",
      "Category Name           Salaries And Benefits\n",
      "Sub-Category Name                  Allowances\n",
      "Budgeted amount 2019             732289496.87\n",
      "Name: 22, dtype: object\n",
      "--------------------------------------------------------------------------------------\n",
      "Year 2020: Maximum Expense in Sub-Category along with Category Name and Expense Amount\n",
      "Category Name           Salaries And Benefits\n",
      "Sub-Category Name          Permanent Salaries\n",
      "Budgeted amount 2020            4704520880.64\n",
      "Name: 30, dtype: object\n",
      "--------------------------------------------------------------------------------------\n",
      "Year 2020:Minimum Expense in Sub-Category along with Category Name and Expense Amount\n",
      "Category Name           Other Expenditures\n",
      "Sub-Category Name             Debt Charges\n",
      "Budgeted amount 2020          666664990.38\n",
      "Name: 19, dtype: object\n",
      "--------------------------------------------------------------------------------------\n",
      "Year 2021: Maximum Expense in Sub-Category along with Category Name and Expense Amount\n",
      "Category Name                     Salaries\n",
      "Sub-Category Name       Permanent Salaries\n",
      "Budgeted amount 2021          4539877714.5\n",
      "Name: 29, dtype: object\n",
      "--------------------------------------------------------------------------------------\n",
      "Year 2021:Minimum Expense in Sub-Category along with Category Name and Expense Amount\n",
      "Category Name               Benefits\n",
      "Sub-Category Name         Allowances\n",
      "Budgeted amount 2021    786290728.17\n",
      "Name: 0, dtype: object\n",
      "--------------------------------------------------------------------------------------\n",
      "Year 2022: Maximum Expense in Sub-Category along with Category Name and Expense Amount\n",
      "Category Name                     Salaries\n",
      "Sub-Category Name       Permanent Salaries\n",
      "Budgeted amount 2022         4836880210.43\n",
      "Name: 30, dtype: object\n",
      "--------------------------------------------------------------------------------------\n",
      "Year 2022:Minimum Expense in Sub-Category along with Category Name and Expense Amount\n",
      "Category Name               Benefits\n",
      "Sub-Category Name         Allowances\n",
      "Budgeted amount 2022    774148962.06\n",
      "Name: 0, dtype: object\n",
      "--------------------------------------------------------------------------------------\n",
      "Year 2023: Maximum Expense in Sub-Category along with Category Name and Expense Amount\n",
      "Category Name                     Salaries\n",
      "Sub-Category Name       Permanent Salaries\n",
      "Budgeted amount 2023          4995525055.1\n",
      "Name: 30, dtype: object\n",
      "--------------------------------------------------------------------------------------\n",
      "Year 2023:Minimum Expense in Sub-Category along with Category Name and Expense Amount\n",
      "Category Name            Salaries\n",
      "Sub-Category Name         Gapping\n",
      "Budgeted amount 2023   -270000.09\n",
      "Name: 27, dtype: object\n",
      "--------------------------------------------------------------------------------------\n"
     ]
    }
   ],
   "source": [
    "\n",
    "\n",
    "sub_ak_2019 = budget2019_df_exp.groupby([\"Category Name\", \"Sub-Category Name\"])[\"Budgeted amount 2019\"].sum().reset_index()\n",
    "max_row_ak_2019 = sub_2019.loc[sub_2019[\"Budgeted amount 2019\"].idxmax()]\n",
    "min_row_ak_2019 = sub_2019.loc[sub_2019[\"Budgeted amount 2019\"].idxmin()]\n",
    "sort_ak_2019=(sub_2019.sort_values(\"Budgeted amount 2019\",ascending=False))\n",
    "\n",
    "sub_ak_2020 = budget2020_df_exp.groupby([\"Category Name\", \"Sub-Category Name\"])[\"Budgeted amount 2020\"].sum().reset_index()\n",
    "max_row_ak_2020 = sub_2020.loc[sub_2020[\"Budgeted amount 2020\"].idxmax()]\n",
    "min_row_ak_2020 = sub_2020.loc[sub_2020[\"Budgeted amount 2020\"].idxmin()]\n",
    "sort_ak_2020=(sub_2020.sort_values(\"Budgeted amount 2020\",ascending=False))\n",
    "\n",
    "sub_ak_2021 = budget2021_df_exp.groupby([\"Category Name\", \"Sub-Category Name\"])[\"Budgeted amount 2021\"].sum().reset_index()\n",
    "max_row_ak_2021 = sub_2021.loc[sub_2021[\"Budgeted amount 2021\"].idxmax()]\n",
    "min_row_ak_2021 = sub_2021.loc[sub_2021[\"Budgeted amount 2021\"].idxmin()]\n",
    "sort_ak_2021=(sub_2021.sort_values(\"Budgeted amount 2021\",ascending=False))\n",
    "\n",
    "sub_ak_2022 = budget2022_df_exp.groupby([\"Category Name\", \"Sub-Category Name\"])[\"Budgeted amount 2022\"].sum().reset_index()\n",
    "max_row_ak_2022 = sub_2022.loc[sub_2022[\"Budgeted amount 2022\"].idxmax()]\n",
    "min_row_ak_2022 = sub_2022.loc[sub_2022[\"Budgeted amount 2022\"].idxmin()]\n",
    "sort_ak_2022=(sub_2022.sort_values(\"Budgeted amount 2022\",ascending=False))\n",
    "\n",
    "sub_ak_2023 = budget2023_df_exp.groupby([\"Category Name\", \"Sub-Category Name\"])[\"Budgeted amount 2023\"].sum().reset_index()\n",
    "max_row_ak_2023 = sub_2023.loc[sub_2023[\"Budgeted amount 2023\"].idxmax()]\n",
    "min_row_ak_2023 = sub_2023.loc[sub_2023[\"Budgeted amount 2023\"].idxmin()]\n",
    "sort_ak_2023=(sub_2023.sort_values(\"Budgeted amount 2023\",ascending=False))\n",
    "\n",
    "\n",
    "\n",
    "print(f\"Year 2019: Maximum Expense in Sub-Category along with Category Name and Expense Amount\")\n",
    "print(max_row_ak_2019)\n",
    "print(\"--------------------------------------------------------------------------------------\")\n",
    "print(f\"Year 2019:Minimum Expense in Sub-Category along with Category Name and Expense Amount\")\n",
    "print(min_row_ak_2019)\n",
    "print(\"--------------------------------------------------------------------------------------\")\n",
    "print(f\"Year 2020: Maximum Expense in Sub-Category along with Category Name and Expense Amount\")\n",
    "print(max_row_ak_2020)\n",
    "print(\"--------------------------------------------------------------------------------------\")\n",
    "print(f\"Year 2020:Minimum Expense in Sub-Category along with Category Name and Expense Amount\")\n",
    "print(min_row_ak_2020)\n",
    "print(\"--------------------------------------------------------------------------------------\")\n",
    "print(f\"Year 2021: Maximum Expense in Sub-Category along with Category Name and Expense Amount\")\n",
    "print(max_row_ak_2021)\n",
    "print(\"--------------------------------------------------------------------------------------\")\n",
    "print(f\"Year 2021:Minimum Expense in Sub-Category along with Category Name and Expense Amount\")\n",
    "print(min_row_ak_2021)\n",
    "print(\"--------------------------------------------------------------------------------------\")\n",
    "print(f\"Year 2022: Maximum Expense in Sub-Category along with Category Name and Expense Amount\")\n",
    "print(max_row_ak_2022)\n",
    "print(\"--------------------------------------------------------------------------------------\")\n",
    "print(f\"Year 2022:Minimum Expense in Sub-Category along with Category Name and Expense Amount\")\n",
    "print(min_row_ak_2022)\n",
    "print(\"--------------------------------------------------------------------------------------\")\n",
    "print(f\"Year 2023: Maximum Expense in Sub-Category along with Category Name and Expense Amount\")\n",
    "print(max_row_ak_2023)\n",
    "print(\"--------------------------------------------------------------------------------------\")\n",
    "print(f\"Year 2023:Minimum Expense in Sub-Category along with Category Name and Expense Amount\")\n",
    "print(min_row_ak_2023)\n",
    "print(\"--------------------------------------------------------------------------------------\")\n"
   ]
  },
  {
   "cell_type": "markdown",
   "id": "636297b1",
   "metadata": {},
   "source": [
    "# Analysing Revenue"
   ]
  }
 ],
 "metadata": {
  "kernelspec": {
   "display_name": "Python 3 (ipykernel)",
   "language": "python",
   "name": "python3"
  },
  "language_info": {
   "codemirror_mode": {
    "name": "ipython",
    "version": 3
   },
   "file_extension": ".py",
   "mimetype": "text/x-python",
   "name": "python",
   "nbconvert_exporter": "python",
   "pygments_lexer": "ipython3",
   "version": "3.11.5"
  }
 },
 "nbformat": 4,
 "nbformat_minor": 5
}
