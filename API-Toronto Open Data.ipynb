{
 "cells": [
  {
   "cell_type": "code",
   "execution_count": 12,
   "id": "d5cca566",
   "metadata": {
    "scrolled": false
   },
   "outputs": [
    {
     "name": "stdout",
     "output_type": "stream",
     "text": [
      "Resource URL: https://ckan0.cf.opendata.inter.prod-toronto.ca/dataset/2c90a5d3-5598-4c02-abf2-169456c8f1f1/resource/a6f7a8e8-e497-4f77-9881-daba429ea981/download/approved-operating-budget-summary-2023.xlsx\n",
      "Resource URL: https://ckan0.cf.opendata.inter.prod-toronto.ca/dataset/2c90a5d3-5598-4c02-abf2-169456c8f1f1/resource/9e5f9a63-fdeb-46e4-9f5f-8143038de56d/download/approved-operating-budget-summary-2022.xlsx\n",
      "Resource URL: https://ckan0.cf.opendata.inter.prod-toronto.ca/dataset/2c90a5d3-5598-4c02-abf2-169456c8f1f1/resource/930502fa-87f1-4d71-8b71-4435df594b38/download/2021-open-data2.xlsx\n",
      "Resource URL: https://ckan0.cf.opendata.inter.prod-toronto.ca/dataset/2c90a5d3-5598-4c02-abf2-169456c8f1f1/resource/4e58558a-4773-4cd0-a16a-de481f25cb4d/download/2020-operating-open-data.xlsx\n",
      "Resource URL: https://ckan0.cf.opendata.inter.prod-toronto.ca/dataset/2c90a5d3-5598-4c02-abf2-169456c8f1f1/resource/27bc496e-1507-4d2e-b9f8-4392b1d44b5c/download/approved-operating-budget-summary-2019.xlsx\n",
      "Resource URL: https://ckan0.cf.opendata.inter.prod-toronto.ca/dataset/2c90a5d3-5598-4c02-abf2-169456c8f1f1/resource/8ff2e379-2bbf-43ab-83eb-2caa7717d85b/download/approved-operating-budget-summary-2018.xlsx\n",
      "Resource URL: https://ckan0.cf.opendata.inter.prod-toronto.ca/dataset/2c90a5d3-5598-4c02-abf2-169456c8f1f1/resource/393dffb4-2f7a-4ff3-8443-e44796f08782/download/approved-operating-budget-summary-2017.xlsx\n",
      "Resource URL: https://ckan0.cf.opendata.inter.prod-toronto.ca/dataset/2c90a5d3-5598-4c02-abf2-169456c8f1f1/resource/d55a2458-f116-456e-a3be-4a0d867fa190/download/approved-operating-budget-summary-2016.xlsx\n",
      "Resource URL: https://ckan0.cf.opendata.inter.prod-toronto.ca/dataset/2c90a5d3-5598-4c02-abf2-169456c8f1f1/resource/08d586f9-6547-41c9-8691-ed21cf27e8f9/download/preliminary-operating-budget-summary-2016.xlsx\n",
      "Resource URL: https://ckan0.cf.opendata.inter.prod-toronto.ca/dataset/2c90a5d3-5598-4c02-abf2-169456c8f1f1/resource/4a87ff46-996b-4768-b833-69e023b1b4c4/download/approved-operating-budget-summary-2015.xlsx\n",
      "Resource URL: https://ckan0.cf.opendata.inter.prod-toronto.ca/dataset/2c90a5d3-5598-4c02-abf2-169456c8f1f1/resource/7e23b244-91a7-4e70-9baf-be231ff58d59/download/approved-operating-budget-summary-2014.xlsx\n",
      "Resource URL: https://ckan0.cf.opendata.inter.prod-toronto.ca/dataset/2c90a5d3-5598-4c02-abf2-169456c8f1f1/resource/c29d34f7-853b-46b1-baaf-ebdda38223e2/download/recommended-operating-budget-summary-2013-2014.xls\n"
     ]
    }
   ],
   "source": [
    "import requests\n",
    "\n",
    "#base_url\n",
    "base_url = \"https://ckan0.cf.opendata.inter.prod-toronto.ca\"\n",
    "\n",
    "#query\n",
    "query=\"/api/3/action/package_show\"\n",
    "\n",
    "url = base_url + query\n",
    "\n",
    "params = {\"id\": \"budget-operating-budget-program-summary-by-expenditure-category\"}\n",
    "\n",
    "package = requests.get(url, params=params).json()\n",
    "\n",
    "# To get resource data:\n",
    "for idx, resource in enumerate(package[\"result\"][\"resources\"]):\n",
    "\n",
    "    # To get metadata for non datastore_active resources:\n",
    "    if not resource[\"datastore_active\"]:\n",
    "        url = base_url + \"/api/3/action/resource_show?id=\" + resource[\"id\"]\n",
    "        resource_metadata = requests.get(url).json()\n",
    "\n",
    "        # Check if the URL contains years from 2014 to 2023\n",
    "        if any(str(year) in resource_metadata[\"result\"][\"url\"] for year in range(2014, 2024)):\n",
    "            \n",
    "            # Print the resource URL\n",
    "            print(\"Resource URL:\", resource_metadata[\"result\"][\"url\"])\n",
    "\n",
    "    "
   ]
  },
  {
   "cell_type": "code",
   "execution_count": null,
   "id": "b8c07167",
   "metadata": {},
   "outputs": [],
   "source": []
  }
 ],
 "metadata": {
  "kernelspec": {
   "display_name": "Python 3 (ipykernel)",
   "language": "python",
   "name": "python3"
  },
  "language_info": {
   "codemirror_mode": {
    "name": "ipython",
    "version": 3
   },
   "file_extension": ".py",
   "mimetype": "text/x-python",
   "name": "python",
   "nbconvert_exporter": "python",
   "pygments_lexer": "ipython3",
   "version": "3.11.5"
  }
 },
 "nbformat": 4,
 "nbformat_minor": 5
}
