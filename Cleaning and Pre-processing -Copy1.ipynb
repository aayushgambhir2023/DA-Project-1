{
 "cells": [
  {
   "cell_type": "code",
   "execution_count": 93,
   "id": "4c0e94e3",
   "metadata": {},
   "outputs": [],
   "source": [
    "import pandas as pd\n",
    "from pathlib import Path\n",
    "# Clean and preprocess the budget data, handling missing values, standardizing formats, \n",
    "# and ensuring data consistency. \n",
    "# Perform initial checks to ensure the dataset is ready for analysis.\n",
    "budget_path_2019 = Path(\"Resources/approved-operating-budget-summary-2019.xlsx\") #2019\n",
    "budget2019_df = pd.read_excel(budget_path_2019, sheet_name='2019')\n",
    "budget_path_2020 = Path(\"Resources/approved-operating-budget-summary-2020.xlsx\") #2020\n",
    "budget2020_df = pd.read_excel(budget_path_2020, sheet_name='open data')\n",
    "budget_path_2021 = Path(\"Resources/approved-operating-budget-summary-2021.xlsx\") #2021\n",
    "budget2021_df = pd.read_excel(budget_path_2021, sheet_name='2021')\n",
    "budget_path_2022 = Path(\"Resources/approved-operating-budget-summary-2022.xlsx\") #2022\n",
    "budget2022_df = pd.read_excel(budget_path_2022, sheet_name='Open Data')\n",
    "budget_path_2023 = Path(\"Resources/approved-operating-budget-summary-2023.xlsx\") #2023\n",
    "budget2023_df = pd.read_excel(budget_path_2023, sheet_name='Open Data')"
   ]
  },
  {
   "cell_type": "code",
   "execution_count": null,
   "id": "c9aadfb7",
   "metadata": {},
   "outputs": [],
   "source": [
    "#Checking for null values"
   ]
  },
  {
   "cell_type": "code",
   "execution_count": 94,
   "id": "71884148",
   "metadata": {},
   "outputs": [],
   "source": [
    "null_2019 = budget2019_df.isnull()   \n",
    "null_per_column_2019 = null_2019.sum()\n",
    "null_2020 = budget2020_df.isnull() \n",
    "null_per_column_2020 = null_2020.sum()\n",
    "null_2021  = budget2021_df.isnull() \n",
    "null_per_column_2021 = null_2021.sum()\n",
    "null_2022 = budget2022_df.isnull()  \n",
    "null_per_column_2022 = null_2022.sum()\n",
    "null_2023 = budget2023_df.isnull()   \n",
    "null_per_column_2023 = null_2023.sum()"
   ]
  },
  {
   "cell_type": "code",
   "execution_count": 95,
   "id": "75e98ba3",
   "metadata": {},
   "outputs": [
    {
     "name": "stdout",
     "output_type": "stream",
     "text": [
      "Program              0\n",
      "Service              0\n",
      "Activity             0\n",
      "Expense/Revenue      0\n",
      "Category Name        0\n",
      "Sub-Category Name    0\n",
      "Commitment item      0\n",
      "2019                 0\n",
      "dtype: int64\n"
     ]
    }
   ],
   "source": [
    "print(null_per_column_2019)"
   ]
  },
  {
   "cell_type": "code",
   "execution_count": 96,
   "id": "a4ee568a",
   "metadata": {},
   "outputs": [
    {
     "name": "stdout",
     "output_type": "stream",
     "text": [
      "Program              0\n",
      "Service              0\n",
      "Activity             0\n",
      "Expense/Revenue      0\n",
      "Category Name        0\n",
      "Sub-Category Name    0\n",
      "Commitment item      0\n",
      "2020                 0\n",
      "dtype: int64\n"
     ]
    }
   ],
   "source": [
    "print(null_per_column_2020)"
   ]
  },
  {
   "cell_type": "code",
   "execution_count": 97,
   "id": "3266a518",
   "metadata": {},
   "outputs": [
    {
     "name": "stdout",
     "output_type": "stream",
     "text": [
      "Program              0\n",
      "Service              0\n",
      "Activity             0\n",
      "Expense/Revenue      0\n",
      "Category Name        0\n",
      "Sub-Category Name    0\n",
      "Commitment item      0\n",
      "2021                 0\n",
      "dtype: int64\n"
     ]
    }
   ],
   "source": [
    "print(null_per_column_2021)"
   ]
  },
  {
   "cell_type": "code",
   "execution_count": 98,
   "id": "cd193c33",
   "metadata": {},
   "outputs": [
    {
     "name": "stdout",
     "output_type": "stream",
     "text": [
      "Program              0\n",
      "Service              0\n",
      "Activity             0\n",
      "Expense/Revenue      0\n",
      "Category Name        0\n",
      "Sub-Category Name    0\n",
      "Commitment item      0\n",
      "2022                 0\n",
      "dtype: int64\n"
     ]
    }
   ],
   "source": [
    "print(null_per_column_2022)"
   ]
  },
  {
   "cell_type": "code",
   "execution_count": 99,
   "id": "8300a501",
   "metadata": {},
   "outputs": [
    {
     "name": "stdout",
     "output_type": "stream",
     "text": [
      "Program              0\n",
      "Service              0\n",
      "Activity             0\n",
      "Expense/Revenue      0\n",
      "Category Name        0\n",
      "Sub-Category Name    0\n",
      "Commitment item      0\n",
      "2023                 0\n",
      "dtype: int64\n"
     ]
    }
   ],
   "source": [
    "print(null_per_column_2023)"
   ]
  },
  {
   "cell_type": "code",
   "execution_count": 100,
   "id": "b703e5bc",
   "metadata": {},
   "outputs": [],
   "source": [
    "df_list = [budget2019_df,budget2020_df,budget2021_df,budget2022_df,budget2023_df]"
   ]
  },
  {
   "cell_type": "code",
   "execution_count": 101,
   "id": "475ea2c5",
   "metadata": {},
   "outputs": [],
   "source": [
    "#Renaming the last column in the data set to Budgeted Amount \n",
    "for i in range(len(df_list)):\n",
    "    year = 2019 + i\n",
    "    df_list[i].rename(columns={year: 'Budgeted amount'}, inplace=True)"
   ]
  },
  {
   "cell_type": "code",
   "execution_count": null,
   "id": "e31aebc2",
   "metadata": {},
   "outputs": [],
   "source": [
    "#Dropping duplicates"
   ]
  },
  {
   "cell_type": "code",
   "execution_count": 102,
   "id": "1bb3d012",
   "metadata": {},
   "outputs": [],
   "source": [
    "for i in range(len(df_list)):\n",
    "    df_list[i].drop_duplicates(subset='Budgeted amount', inplace=True)"
   ]
  },
  {
   "cell_type": "code",
   "execution_count": null,
   "id": "c7f146b1",
   "metadata": {},
   "outputs": [],
   "source": [
    "#Changing the scientific notation to the power of 6"
   ]
  },
  {
   "cell_type": "code",
   "execution_count": 103,
   "id": "0e2013f6",
   "metadata": {},
   "outputs": [],
   "source": [
    "format_sci_notation = lambda x: '{:.6e}'.format(x)\n",
    "for df in df_list:\n",
    "    df['Budgeted amount'] = df['Budgeted amount'].apply(format_sci_notation)"
   ]
  }
 ],
 "metadata": {
  "kernelspec": {
   "display_name": "Python 3 (ipykernel)",
   "language": "python",
   "name": "python3"
  },
  "language_info": {
   "codemirror_mode": {
    "name": "ipython",
    "version": 3
   },
   "file_extension": ".py",
   "mimetype": "text/x-python",
   "name": "python",
   "nbconvert_exporter": "python",
   "pygments_lexer": "ipython3",
   "version": "3.9.13"
  }
 },
 "nbformat": 4,
 "nbformat_minor": 5
}
